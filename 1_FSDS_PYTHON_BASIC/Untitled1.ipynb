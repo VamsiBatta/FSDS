{
 "cells": [
  {
   "cell_type": "code",
   "execution_count": 3,
   "id": "70f83ef0",
   "metadata": {},
   "outputs": [],
   "source": [
    "f =open(\"mydict.py\",\"w\")"
   ]
  },
  {
   "cell_type": "code",
   "execution_count": 2,
   "id": "1475655d",
   "metadata": {},
   "outputs": [
    {
     "name": "stdout",
     "output_type": "stream",
     "text": [
      " Volume in drive C has no label.\n",
      " Volume Serial Number is F832-2B0D\n",
      "\n",
      " Directory of C:\\Users\\bvams\\Documents\\FSDS\\PYTHON BASIC\n",
      "\n",
      "06/07/2022  11:43 AM    <DIR>          .\n",
      "06/07/2022  11:43 AM    <DIR>          ..\n",
      "06/07/2022  11:43 AM    <DIR>          .ipynb_checkpoints\n",
      "05/06/2022  01:20 PM    <DIR>          __pycache__\n",
      "04/24/2022  12:46 PM            11,277 FSDS - PYTHON - 15th JAN.ipynb\n",
      "05/04/2022  08:43 PM            26,493 FSDS - PYTHON - 16th JAN.ipynb\n",
      "05/06/2022  06:01 PM             8,560 FSDS - PYTHON - 22nd JAN.ipynb\n",
      "06/07/2022  11:23 AM             9,204 FSDS - PYTHON - 23nd JAN.ipynb\n",
      "04/22/2022  05:40 PM         7,739,785 FSDS - PYTHON - 9th JAN.ipynb\n",
      "04/22/2022  05:09 PM             3,153 google.txt\n",
      "05/04/2022  07:55 PM               744 logfile.log\n",
      "05/04/2022  08:18 PM             1,303 logfile2.log\n",
      "05/04/2022  08:33 PM             1,991 logfile3.log\n",
      "06/07/2022  10:25 AM             2,747 logfile4.log\n",
      "05/06/2022  12:15 PM               244 Module_1.py\n",
      "05/06/2022  01:20 PM               258 Module_2.py\n",
      "06/07/2022  11:43 AM                 0 mydict.py\n",
      "04/22/2022  04:27 PM               220 test.txt\n",
      "05/04/2022  05:12 PM                25 test1.txt\n",
      "05/04/2022  05:25 PM                 0 test5.txt\n",
      "05/06/2022  11:44 AM               723 Untitled.ipynb\n",
      "06/07/2022  11:43 AM                72 Untitled1.ipynb\n",
      "              18 File(s)      7,806,799 bytes\n",
      "               4 Dir(s)  75,840,454,656 bytes free\n"
     ]
    }
   ],
   "source": [
    "ls"
   ]
  },
  {
   "cell_type": "code",
   "execution_count": 4,
   "id": "b497a8c0",
   "metadata": {},
   "outputs": [],
   "source": [
    "f.close()"
   ]
  },
  {
   "cell_type": "code",
   "execution_count": null,
   "id": "625b7eb9",
   "metadata": {},
   "outputs": [],
   "source": []
  },
  {
   "cell_type": "code",
   "execution_count": null,
   "id": "3686ccb0",
   "metadata": {},
   "outputs": [],
   "source": []
  }
 ],
 "metadata": {
  "kernelspec": {
   "display_name": "Python 3 (ipykernel)",
   "language": "python",
   "name": "python3"
  },
  "language_info": {
   "codemirror_mode": {
    "name": "ipython",
    "version": 3
   },
   "file_extension": ".py",
   "mimetype": "text/x-python",
   "name": "python",
   "nbconvert_exporter": "python",
   "pygments_lexer": "ipython3",
   "version": "3.9.7"
  }
 },
 "nbformat": 4,
 "nbformat_minor": 5
}
