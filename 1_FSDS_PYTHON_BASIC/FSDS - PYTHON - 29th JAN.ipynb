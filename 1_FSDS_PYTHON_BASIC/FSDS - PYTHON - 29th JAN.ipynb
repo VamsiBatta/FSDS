{
 "cells": [
  {
   "cell_type": "markdown",
   "id": "2aa2bed2",
   "metadata": {},
   "source": [
    "# 1 . INHERITANCE"
   ]
  },
  {
   "cell_type": "markdown",
   "id": "de164740",
   "metadata": {},
   "source": [
    "Child Class Inheriting the properties of a Parent Class"
   ]
  },
  {
   "cell_type": "code",
   "execution_count": 4,
   "id": "2129f32d",
   "metadata": {},
   "outputs": [],
   "source": [
    "class xyz:\n",
    "    def __init__(self, a, b, c):\n",
    "        self.a = a\n",
    "        self.b = b\n",
    "        self.c = c\n",
    "        \n",
    "    def test(self):\n",
    "        print(\"This is my first method of XYZ Class\")\n",
    "    \n",
    "    def test1(self):\n",
    "        print(\"This is my test1 method of XYZ Class\")\n",
    "        \n",
    "    def test2(self):\n",
    "        print(\"This is my test2 method of XYZ Class\")"
   ]
  },
  {
   "cell_type": "code",
   "execution_count": 5,
   "id": "388d8bcf",
   "metadata": {},
   "outputs": [],
   "source": [
    "class xyz1(xyz):\n",
    "    pass\n",
    "    "
   ]
  },
  {
   "cell_type": "code",
   "execution_count": 6,
   "id": "c99e36ce",
   "metadata": {},
   "outputs": [],
   "source": [
    "p = xyz(1,2,3)"
   ]
  },
  {
   "cell_type": "code",
   "execution_count": 7,
   "id": "6ea87024",
   "metadata": {},
   "outputs": [
    {
     "name": "stdout",
     "output_type": "stream",
     "text": [
      "This is my test2 method of XYZ Class\n"
     ]
    }
   ],
   "source": [
    "p.test2()"
   ]
  },
  {
   "cell_type": "code",
   "execution_count": 8,
   "id": "b53f9193",
   "metadata": {},
   "outputs": [],
   "source": [
    "p1 = xyz1(1,4,9)"
   ]
  },
  {
   "cell_type": "code",
   "execution_count": 9,
   "id": "b334758c",
   "metadata": {},
   "outputs": [
    {
     "name": "stdout",
     "output_type": "stream",
     "text": [
      "This is my first method of XYZ Class\n"
     ]
    }
   ],
   "source": [
    "p1.test()"
   ]
  },
  {
   "cell_type": "code",
   "execution_count": 10,
   "id": "2a667dbb",
   "metadata": {},
   "outputs": [
    {
     "name": "stdout",
     "output_type": "stream",
     "text": [
      "This is my test1 method of XYZ Class\n"
     ]
    }
   ],
   "source": [
    "p1.test1()"
   ]
  },
  {
   "cell_type": "code",
   "execution_count": 11,
   "id": "627b2927",
   "metadata": {},
   "outputs": [],
   "source": [
    "class xyz2(xyz):\n",
    "    def test(self):\n",
    "        print(\"This is test method in xyz2 class\")"
   ]
  },
  {
   "cell_type": "code",
   "execution_count": 12,
   "id": "02cb651a",
   "metadata": {},
   "outputs": [],
   "source": [
    "g = xyz2(4,5,6)"
   ]
  },
  {
   "cell_type": "code",
   "execution_count": 13,
   "id": "3f292937",
   "metadata": {},
   "outputs": [
    {
     "name": "stdout",
     "output_type": "stream",
     "text": [
      "This is test method in xyz2 class\n"
     ]
    }
   ],
   "source": [
    "g.test()"
   ]
  },
  {
   "cell_type": "code",
   "execution_count": null,
   "id": "2f3af11b",
   "metadata": {},
   "outputs": [],
   "source": []
  },
  {
   "cell_type": "code",
   "execution_count": 28,
   "id": "e2035a16",
   "metadata": {},
   "outputs": [],
   "source": [
    "class xyz:\n",
    "    def __init__(self, a, b, c):\n",
    "        self.a = a\n",
    "        self.b = b\n",
    "        self.c = c\n",
    "    \n",
    "    def test(self):\n",
    "        print(\"This is the test meth of xyz class\")\n",
    "        \n",
    "        \n",
    "class xyz1:\n",
    "    def __init__(self, p, q, v):\n",
    "        self.p = p\n",
    "        self.q = q\n",
    "        self.v = v\n",
    "        \n",
    "    def test1(self):\n",
    "        print(\"This is test1 method from class xyz1\")\n",
    "        \n",
    "\n",
    "class child(xyz1, xyz):\n",
    "    def __init__(self,*args, **kwargs):\n",
    "        xyz.__init__(self,*args)\n",
    "        xyz1.__init__(self,**kwargs)\n",
    "        \n",
    "        \n",
    "        \n",
    "    "
   ]
  },
  {
   "cell_type": "code",
   "execution_count": 36,
   "id": "c834c75e",
   "metadata": {},
   "outputs": [],
   "source": [
    "n = child(3,4,5,p=8,q=9,v=7)"
   ]
  },
  {
   "cell_type": "code",
   "execution_count": 37,
   "id": "1e53c875",
   "metadata": {},
   "outputs": [
    {
     "data": {
      "text/plain": [
       "3"
      ]
     },
     "execution_count": 37,
     "metadata": {},
     "output_type": "execute_result"
    }
   ],
   "source": [
    "n.a"
   ]
  },
  {
   "cell_type": "code",
   "execution_count": 38,
   "id": "5eda8723",
   "metadata": {},
   "outputs": [
    {
     "data": {
      "text/plain": [
       "8"
      ]
     },
     "execution_count": 38,
     "metadata": {},
     "output_type": "execute_result"
    }
   ],
   "source": [
    "n.p"
   ]
  },
  {
   "cell_type": "code",
   "execution_count": 39,
   "id": "74cee078",
   "metadata": {},
   "outputs": [
    {
     "name": "stdout",
     "output_type": "stream",
     "text": [
      "This is the test meth of xyz class\n"
     ]
    }
   ],
   "source": [
    "n.test()"
   ]
  },
  {
   "cell_type": "code",
   "execution_count": 40,
   "id": "71780173",
   "metadata": {},
   "outputs": [
    {
     "name": "stdout",
     "output_type": "stream",
     "text": [
      "This is test1 method from class xyz1\n"
     ]
    }
   ],
   "source": [
    "n.test1()"
   ]
  },
  {
   "cell_type": "code",
   "execution_count": null,
   "id": "41ac36fd",
   "metadata": {},
   "outputs": [],
   "source": []
  },
  {
   "cell_type": "code",
   "execution_count": null,
   "id": "a1ee0c5d",
   "metadata": {},
   "outputs": [],
   "source": []
  },
  {
   "cell_type": "code",
   "execution_count": 43,
   "id": "2ca83340",
   "metadata": {},
   "outputs": [],
   "source": [
    "class xyz:\n",
    "    def __init__(self, a, b, c):\n",
    "        self.a = a\n",
    "        self.b = b\n",
    "        self.c = c\n",
    "    \n",
    "    def test(self):\n",
    "        print(\"This is the test meth of xyz class\")\n",
    "        \n",
    "        \n",
    "class xyz1(xyz):\n",
    "        \n",
    "    def test1(self):\n",
    "        print(\"This is test1 method from class xyz1\")\n",
    "    \n",
    "class xyz2(xyz1):\n",
    "    def test2(self):\n",
    "        print(\"This test2 methos from class xyz2\")"
   ]
  },
  {
   "cell_type": "code",
   "execution_count": 45,
   "id": "442dfa01",
   "metadata": {},
   "outputs": [],
   "source": [
    "v = xyz2(9,6,3)"
   ]
  },
  {
   "cell_type": "code",
   "execution_count": 47,
   "id": "7c31a0f7",
   "metadata": {},
   "outputs": [
    {
     "name": "stdout",
     "output_type": "stream",
     "text": [
      "This is test1 method from class xyz1\n"
     ]
    }
   ],
   "source": [
    "v.test1()"
   ]
  },
  {
   "cell_type": "raw",
   "id": "ec1ba50c",
   "metadata": {},
   "source": [
    "1. create a file class for reading data from a respective file with a method read and write\n",
    "2. try to inherit read and write method from parent class to child class to perform read and write operations."
   ]
  },
  {
   "cell_type": "code",
   "execution_count": 50,
   "id": "37beb12c",
   "metadata": {},
   "outputs": [],
   "source": [
    "f1 = open(\"classes_file.txt\", \"w\")"
   ]
  },
  {
   "cell_type": "code",
   "execution_count": 51,
   "id": "f9566f65",
   "metadata": {},
   "outputs": [
    {
     "name": "stdout",
     "output_type": "stream",
     "text": [
      " Volume in drive C has no label.\n",
      " Volume Serial Number is F832-2B0D\n",
      "\n",
      " Directory of C:\\Users\\bvams\\Documents\\FSDS\\PYTHON BASIC\n",
      "\n",
      "07/08/2022  07:23 PM    <DIR>          .\n",
      "07/08/2022  07:23 PM    <DIR>          ..\n",
      "06/21/2022  12:53 PM    <DIR>          .ipynb_checkpoints\n",
      "05/06/2022  01:20 PM    <DIR>          __pycache__\n",
      "07/08/2022  07:20 PM                 0 classes_file.py\n",
      "07/08/2022  07:23 PM                 0 classes_file.txt\n",
      "04/24/2022  12:46 PM            11,277 FSDS - PYTHON - 15th JAN.ipynb\n",
      "05/04/2022  08:43 PM            26,493 FSDS - PYTHON - 16th JAN.ipynb\n",
      "05/06/2022  06:01 PM             8,560 FSDS - PYTHON - 22nd JAN.ipynb\n",
      "06/07/2022  11:23 AM             9,204 FSDS - PYTHON - 23nd JAN.ipynb\n",
      "07/08/2022  07:21 PM            10,603 FSDS - PYTHON - 29th JAN.ipynb\n",
      "04/22/2022  05:40 PM         7,739,785 FSDS - PYTHON - 9th JAN.ipynb\n",
      "04/22/2022  05:09 PM             3,153 google.txt\n",
      "05/04/2022  07:55 PM               744 logfile.log\n",
      "05/04/2022  08:18 PM             1,303 logfile2.log\n",
      "05/04/2022  08:33 PM             1,991 logfile3.log\n",
      "06/07/2022  10:25 AM             2,747 logfile4.log\n",
      "05/06/2022  12:15 PM               244 Module_1.py\n",
      "05/06/2022  01:20 PM               258 Module_2.py\n",
      "06/07/2022  11:45 AM                 0 mydict.py\n",
      "04/22/2022  04:27 PM               220 test.txt\n",
      "05/04/2022  05:12 PM                25 test1.txt\n",
      "05/04/2022  05:25 PM                 0 test5.txt\n",
      "06/07/2022  12:53 PM             1,246 Untitled.ipynb\n",
      "06/07/2022  11:47 AM             3,033 Untitled1.ipynb\n",
      "              21 File(s)      7,820,886 bytes\n",
      "               4 Dir(s)  69,439,963,136 bytes free\n"
     ]
    }
   ],
   "source": [
    "ls"
   ]
  },
  {
   "cell_type": "code",
   "execution_count": 55,
   "id": "3aebe06c",
   "metadata": {},
   "outputs": [],
   "source": [
    "f1=open(\"classes_file.py\",\"r\")"
   ]
  },
  {
   "cell_type": "code",
   "execution_count": 56,
   "id": "5f85b618",
   "metadata": {},
   "outputs": [
    {
     "data": {
      "text/plain": [
       "['class files:\\n',\n",
       " '\\tdef read_write(self):\\n',\n",
       " '\\t\\ttry:\\n',\n",
       " '\\t\\t\\tfile = input(\"Enter the file name : \")\\n',\n",
       " '\\t\\t\\tf = open(file,\"r+\")\\n',\n",
       " '\\t\\texcept Exception as e:\\n',\n",
       " '\\t\\t\\tprint(e)\\n',\n",
       " '\\n']"
      ]
     },
     "execution_count": 56,
     "metadata": {},
     "output_type": "execute_result"
    }
   ],
   "source": [
    "f1.readlines()"
   ]
  },
  {
   "cell_type": "markdown",
   "id": "631010bd",
   "metadata": {},
   "source": [
    "\n",
    "# 2. ENCAPSULATION"
   ]
  },
  {
   "cell_type": "raw",
   "id": "7b3a2406",
   "metadata": {},
   "source": [
    "1. Public    - No Underscore. Can Be Accessed Anywhere.\n",
    "\n",
    "2. Private   - Whenever You Create a Variable in Python with Double Underscore( __ ) it is treated as Protected Variable.                      You Cannot Inherit a Private Variable class to access it. To Access a Private Variable You have to Call the                    Variable as follows --> OBJECTNAME._CLASSNAME__VARIABLENAME . EX:- v._test__b .\n",
    "               The Private Variables can be Accessed Only inside the parent Class, there won't be any scope outside the parent                class like child classes. So You've to use parent class with the child class object and and the private Variable                as follows : - OBJECTNAME_.PARENTCLASSNAME__PRIVATEVARISBLENAME . EX : u._test__b , where 'u' is the child class                object.\n",
    "\n",
    "3. Protected - Whenever You Create a Variable in Python with Single Underscore( _ ) it is treated as Protected Variable. The                  Protected Variable can be Accessed only within the Class Can be Accessed in th child classes.\n",
    "\n",
    "In Python We Use Notions to define them.\n",
    "\n"
   ]
  },
  {
   "cell_type": "code",
   "execution_count": 97,
   "id": "5c23da25",
   "metadata": {},
   "outputs": [],
   "source": [
    "class test:\n",
    "    def __init__(self, a, b, c):\n",
    "        self.a = a \n",
    "        self.b = b\n",
    "        self.c = c\n",
    "        \n",
    "class test1(test):\n",
    "    pass\n",
    "        \n",
    "u = test(4,5,6)"
   ]
  },
  {
   "cell_type": "code",
   "execution_count": 98,
   "id": "37ddb69a",
   "metadata": {},
   "outputs": [
    {
     "data": {
      "text/plain": [
       "4"
      ]
     },
     "execution_count": 98,
     "metadata": {},
     "output_type": "execute_result"
    }
   ],
   "source": [
    "u.a"
   ]
  },
  {
   "cell_type": "code",
   "execution_count": 69,
   "id": "b70e17a7",
   "metadata": {},
   "outputs": [],
   "source": [
    "v = test1(7,6,9)"
   ]
  },
  {
   "cell_type": "code",
   "execution_count": 70,
   "id": "0c1c195a",
   "metadata": {},
   "outputs": [
    {
     "data": {
      "text/plain": [
       "7"
      ]
     },
     "execution_count": 70,
     "metadata": {},
     "output_type": "execute_result"
    }
   ],
   "source": [
    "v.a"
   ]
  },
  {
   "cell_type": "code",
   "execution_count": 107,
   "id": "c21d64c4",
   "metadata": {},
   "outputs": [],
   "source": [
    "class test:\n",
    "    def __init__(self):\n",
    "        self.__a = 4\n",
    "        \n",
    "        \n",
    "class test1(test):\n",
    "     def __init__(self):\n",
    "        self.__a = 7\n",
    "u = test()"
   ]
  },
  {
   "cell_type": "code",
   "execution_count": 109,
   "id": "fb610b49",
   "metadata": {},
   "outputs": [
    {
     "ename": "AttributeError",
     "evalue": "'test' object has no attribute '__a'",
     "output_type": "error",
     "traceback": [
      "\u001b[1;31m---------------------------------------------------------------------------\u001b[0m",
      "\u001b[1;31mAttributeError\u001b[0m                            Traceback (most recent call last)",
      "\u001b[1;32m~\\AppData\\Local\\Temp/ipykernel_6328/3701111835.py\u001b[0m in \u001b[0;36m<module>\u001b[1;34m\u001b[0m\n\u001b[1;32m----> 1\u001b[1;33m \u001b[0mu\u001b[0m\u001b[1;33m.\u001b[0m\u001b[0m__a\u001b[0m\u001b[1;33m\u001b[0m\u001b[1;33m\u001b[0m\u001b[0m\n\u001b[0m",
      "\u001b[1;31mAttributeError\u001b[0m: 'test' object has no attribute '__a'"
     ]
    }
   ],
   "source": [
    "u.__a"
   ]
  },
  {
   "cell_type": "code",
   "execution_count": 105,
   "id": "98aadff6",
   "metadata": {},
   "outputs": [],
   "source": [
    "v = test1()"
   ]
  },
  {
   "cell_type": "code",
   "execution_count": 110,
   "id": "f908651a",
   "metadata": {},
   "outputs": [
    {
     "ename": "AttributeError",
     "evalue": "'test1' object has no attribute '__a'",
     "output_type": "error",
     "traceback": [
      "\u001b[1;31m---------------------------------------------------------------------------\u001b[0m",
      "\u001b[1;31mAttributeError\u001b[0m                            Traceback (most recent call last)",
      "\u001b[1;32m~\\AppData\\Local\\Temp/ipykernel_6328/699859394.py\u001b[0m in \u001b[0;36m<module>\u001b[1;34m\u001b[0m\n\u001b[1;32m----> 1\u001b[1;33m \u001b[0mv\u001b[0m\u001b[1;33m.\u001b[0m\u001b[0m__a\u001b[0m\u001b[1;33m\u001b[0m\u001b[1;33m\u001b[0m\u001b[0m\n\u001b[0m",
      "\u001b[1;31mAttributeError\u001b[0m: 'test1' object has no attribute '__a'"
     ]
    }
   ],
   "source": [
    "v.__a"
   ]
  },
  {
   "cell_type": "code",
   "execution_count": 126,
   "id": "c44e83c3",
   "metadata": {},
   "outputs": [],
   "source": [
    "class test:\n",
    "    def __init__(self, a, b, c):\n",
    "        self._a = a\n",
    "        self.__b = b\n",
    "        self.c = c\n",
    "    \n",
    "class test1(test):\n",
    "    pass\n",
    "    \n",
    "        \n",
    "v = test(4,5,6)"
   ]
  },
  {
   "cell_type": "code",
   "execution_count": 122,
   "id": "62d344b0",
   "metadata": {},
   "outputs": [
    {
     "data": {
      "text/plain": [
       "4"
      ]
     },
     "execution_count": 122,
     "metadata": {},
     "output_type": "execute_result"
    }
   ],
   "source": [
    "v._a"
   ]
  },
  {
   "cell_type": "code",
   "execution_count": 123,
   "id": "501b31d2",
   "metadata": {},
   "outputs": [
    {
     "data": {
      "text/plain": [
       "5"
      ]
     },
     "execution_count": 123,
     "metadata": {},
     "output_type": "execute_result"
    }
   ],
   "source": [
    "v._test__b"
   ]
  },
  {
   "cell_type": "code",
   "execution_count": 124,
   "id": "0a69d142",
   "metadata": {},
   "outputs": [
    {
     "data": {
      "text/plain": [
       "6"
      ]
     },
     "execution_count": 124,
     "metadata": {},
     "output_type": "execute_result"
    }
   ],
   "source": [
    "v.c"
   ]
  },
  {
   "cell_type": "code",
   "execution_count": 127,
   "id": "a0cd210a",
   "metadata": {},
   "outputs": [],
   "source": [
    "u = test1(3,4,5)"
   ]
  },
  {
   "cell_type": "code",
   "execution_count": 128,
   "id": "fd2f9ce1",
   "metadata": {},
   "outputs": [
    {
     "data": {
      "text/plain": [
       "5"
      ]
     },
     "execution_count": 128,
     "metadata": {},
     "output_type": "execute_result"
    }
   ],
   "source": [
    "u.c"
   ]
  },
  {
   "cell_type": "code",
   "execution_count": 129,
   "id": "add355c1",
   "metadata": {},
   "outputs": [
    {
     "data": {
      "text/plain": [
       "3"
      ]
     },
     "execution_count": 129,
     "metadata": {},
     "output_type": "execute_result"
    }
   ],
   "source": [
    "u._a"
   ]
  },
  {
   "cell_type": "code",
   "execution_count": 133,
   "id": "639bacd4",
   "metadata": {},
   "outputs": [
    {
     "ename": "AttributeError",
     "evalue": "'test1' object has no attribute '_test1__b'",
     "output_type": "error",
     "traceback": [
      "\u001b[1;31m---------------------------------------------------------------------------\u001b[0m",
      "\u001b[1;31mAttributeError\u001b[0m                            Traceback (most recent call last)",
      "\u001b[1;32m~\\AppData\\Local\\Temp/ipykernel_6328/4083783106.py\u001b[0m in \u001b[0;36m<module>\u001b[1;34m\u001b[0m\n\u001b[1;32m----> 1\u001b[1;33m \u001b[0mu\u001b[0m\u001b[1;33m.\u001b[0m\u001b[0m_test1__b\u001b[0m\u001b[1;33m\u001b[0m\u001b[1;33m\u001b[0m\u001b[0m\n\u001b[0m",
      "\u001b[1;31mAttributeError\u001b[0m: 'test1' object has no attribute '_test1__b'"
     ]
    }
   ],
   "source": [
    "u._test1__b"
   ]
  },
  {
   "cell_type": "code",
   "execution_count": 161,
   "id": "91c2f122",
   "metadata": {},
   "outputs": [],
   "source": [
    "class bonus_Calculator:\n",
    "    def __init__(self, empid, emprating):\n",
    "        self.empid = empid\n",
    "        self.emprating = emprating\n",
    "        self._empemail = \"abc@gmail.com\"\n",
    "        self.__bonusforratingA = \"70%\"\n",
    "        self.__bonusforratingB = \"60%\"\n",
    "        self.__bonusforratingC = \"40%\"\n",
    "        \n",
    "    def bonuscalculator(self):\n",
    "        if self.emprating == \"A\":\n",
    "            bonus = self.__bonusforratingA\n",
    "            return bonus\n",
    "        elif self.emprating == \"B\":\n",
    "            bonus = self.__bonusforratingB\n",
    "            return bonus\n",
    "        else:\n",
    "            bonus = self.__bonusforratingC\n",
    "            return bonus\n",
    "            \n",
    "        \n",
    "        \n",
    "        \n",
    "        "
   ]
  },
  {
   "cell_type": "code",
   "execution_count": 162,
   "id": "989ef98e",
   "metadata": {},
   "outputs": [],
   "source": [
    "emp1 = bonus_Calculator(1, \"A\")\n",
    "emp2 = bonus_Calculator(2, \"B\")\n",
    "emp3 = bonus_Calculator(3, \"C\")"
   ]
  },
  {
   "cell_type": "code",
   "execution_count": 137,
   "id": "92eab4d0",
   "metadata": {},
   "outputs": [
    {
     "data": {
      "text/plain": [
       "'70%'"
      ]
     },
     "execution_count": 137,
     "metadata": {},
     "output_type": "execute_result"
    }
   ],
   "source": [
    "emp1.bonuscalculator()"
   ]
  },
  {
   "cell_type": "code",
   "execution_count": 138,
   "id": "393a1814",
   "metadata": {},
   "outputs": [
    {
     "data": {
      "text/plain": [
       "'60%'"
      ]
     },
     "execution_count": 138,
     "metadata": {},
     "output_type": "execute_result"
    }
   ],
   "source": [
    "emp2.bonuscalculator()"
   ]
  },
  {
   "cell_type": "code",
   "execution_count": 139,
   "id": "e8715862",
   "metadata": {},
   "outputs": [
    {
     "data": {
      "text/plain": [
       "'40%'"
      ]
     },
     "execution_count": 139,
     "metadata": {},
     "output_type": "execute_result"
    }
   ],
   "source": [
    "emp3.bonuscalculator()"
   ]
  },
  {
   "cell_type": "code",
   "execution_count": 141,
   "id": "e73a429e",
   "metadata": {},
   "outputs": [
    {
     "data": {
      "text/plain": [
       "1"
      ]
     },
     "execution_count": 141,
     "metadata": {},
     "output_type": "execute_result"
    }
   ],
   "source": [
    "emp1.empid"
   ]
  },
  {
   "cell_type": "code",
   "execution_count": 142,
   "id": "c5eb79b2",
   "metadata": {},
   "outputs": [
    {
     "data": {
      "text/plain": [
       "'A'"
      ]
     },
     "execution_count": 142,
     "metadata": {},
     "output_type": "execute_result"
    }
   ],
   "source": [
    "emp1.emprating"
   ]
  },
  {
   "cell_type": "code",
   "execution_count": 143,
   "id": "28fa99ee",
   "metadata": {},
   "outputs": [],
   "source": [
    "emp1.empid = 4"
   ]
  },
  {
   "cell_type": "code",
   "execution_count": 144,
   "id": "0bcdf04d",
   "metadata": {},
   "outputs": [
    {
     "data": {
      "text/plain": [
       "4"
      ]
     },
     "execution_count": 144,
     "metadata": {},
     "output_type": "execute_result"
    }
   ],
   "source": [
    "emp1.empid"
   ]
  },
  {
   "cell_type": "code",
   "execution_count": 145,
   "id": "a5824480",
   "metadata": {},
   "outputs": [],
   "source": [
    "emp1.emprating = \"B\""
   ]
  },
  {
   "cell_type": "code",
   "execution_count": 146,
   "id": "b2a14398",
   "metadata": {},
   "outputs": [
    {
     "data": {
      "text/plain": [
       "'B'"
      ]
     },
     "execution_count": 146,
     "metadata": {},
     "output_type": "execute_result"
    }
   ],
   "source": [
    "emp1.emprating"
   ]
  },
  {
   "cell_type": "code",
   "execution_count": 147,
   "id": "c9ebbd6d",
   "metadata": {},
   "outputs": [
    {
     "data": {
      "text/plain": [
       "'60%'"
      ]
     },
     "execution_count": 147,
     "metadata": {},
     "output_type": "execute_result"
    }
   ],
   "source": [
    "emp1.bonuscalculator()"
   ]
  },
  {
   "cell_type": "code",
   "execution_count": 152,
   "id": "1557076d",
   "metadata": {},
   "outputs": [],
   "source": [
    "emp1.__bonusforratingB = \"90%\"\n",
    "\n",
    "# Nothing has Changed as bonusforratingA, bonusforratingB, bonusforratingC are private Variables.\n",
    "# You Can't Modify the Private Variable Value."
   ]
  },
  {
   "cell_type": "code",
   "execution_count": 150,
   "id": "83ad1139",
   "metadata": {},
   "outputs": [
    {
     "data": {
      "text/plain": [
       "'60%'"
      ]
     },
     "execution_count": 150,
     "metadata": {},
     "output_type": "execute_result"
    }
   ],
   "source": [
    "emp1.bonuscalculator()"
   ]
  },
  {
   "cell_type": "code",
   "execution_count": 151,
   "id": "f6048755",
   "metadata": {},
   "outputs": [
    {
     "data": {
      "text/plain": [
       "'60%'"
      ]
     },
     "execution_count": 151,
     "metadata": {},
     "output_type": "execute_result"
    }
   ],
   "source": [
    "emp2.bonuscalculator()"
   ]
  },
  {
   "cell_type": "code",
   "execution_count": 153,
   "id": "d4defef0",
   "metadata": {},
   "outputs": [
    {
     "data": {
      "text/plain": [
       "'B'"
      ]
     },
     "execution_count": 153,
     "metadata": {},
     "output_type": "execute_result"
    }
   ],
   "source": [
    "emp2.emprating"
   ]
  },
  {
   "cell_type": "code",
   "execution_count": 154,
   "id": "375e9349",
   "metadata": {},
   "outputs": [
    {
     "data": {
      "text/plain": [
       "'60%'"
      ]
     },
     "execution_count": 154,
     "metadata": {},
     "output_type": "execute_result"
    }
   ],
   "source": [
    "emp2.bonuscalculator()"
   ]
  },
  {
   "cell_type": "markdown",
   "id": "0f0a6336",
   "metadata": {},
   "source": [
    " Private Variables Can be Modified using the parent Class Name as Follows:- OBJECTNAME._PARENTCALSSNAME__PRIVATEVARIABLENAME = \"VALUE TO BE MODIFIED\""
   ]
  },
  {
   "cell_type": "code",
   "execution_count": 155,
   "id": "5dace976",
   "metadata": {},
   "outputs": [
    {
     "data": {
      "text/plain": [
       "'60%'"
      ]
     },
     "execution_count": 155,
     "metadata": {},
     "output_type": "execute_result"
    }
   ],
   "source": [
    "emp2._bonus_Calculator__bonusforratingB"
   ]
  },
  {
   "cell_type": "code",
   "execution_count": 156,
   "id": "1a64db43",
   "metadata": {},
   "outputs": [],
   "source": [
    "emp2._bonus_Calculator__bonusforratingB = \"80%\""
   ]
  },
  {
   "cell_type": "code",
   "execution_count": 157,
   "id": "46538a50",
   "metadata": {},
   "outputs": [
    {
     "data": {
      "text/plain": [
       "'80%'"
      ]
     },
     "execution_count": 157,
     "metadata": {},
     "output_type": "execute_result"
    }
   ],
   "source": [
    "emp2._bonus_Calculator__bonusforratingB"
   ]
  },
  {
   "cell_type": "code",
   "execution_count": 163,
   "id": "491cf41b",
   "metadata": {},
   "outputs": [
    {
     "data": {
      "text/plain": [
       "'abc@gmail.com'"
      ]
     },
     "execution_count": 163,
     "metadata": {},
     "output_type": "execute_result"
    }
   ],
   "source": [
    "emp1._empemail"
   ]
  },
  {
   "cell_type": "code",
   "execution_count": 164,
   "id": "9ab4dd05",
   "metadata": {},
   "outputs": [],
   "source": [
    "emp1._empemail = \"vamsi@yahoo.com\""
   ]
  },
  {
   "cell_type": "code",
   "execution_count": 165,
   "id": "0c5f2ae4",
   "metadata": {},
   "outputs": [
    {
     "data": {
      "text/plain": [
       "'vamsi@yahoo.com'"
      ]
     },
     "execution_count": 165,
     "metadata": {},
     "output_type": "execute_result"
    }
   ],
   "source": [
    "emp1._empemail"
   ]
  },
  {
   "cell_type": "code",
   "execution_count": null,
   "id": "407db5e0",
   "metadata": {},
   "outputs": [],
   "source": []
  }
 ],
 "metadata": {
  "kernelspec": {
   "display_name": "Python 3 (ipykernel)",
   "language": "python",
   "name": "python3"
  },
  "language_info": {
   "codemirror_mode": {
    "name": "ipython",
    "version": 3
   },
   "file_extension": ".py",
   "mimetype": "text/x-python",
   "name": "python",
   "nbconvert_exporter": "python",
   "pygments_lexer": "ipython3",
   "version": "3.9.7"
  }
 },
 "nbformat": 4,
 "nbformat_minor": 5
}
