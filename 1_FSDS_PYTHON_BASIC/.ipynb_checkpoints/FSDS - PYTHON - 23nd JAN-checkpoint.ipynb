{
 "cells": [
  {
   "cell_type": "code",
   "execution_count": 1,
   "id": "29c60d2b",
   "metadata": {},
   "outputs": [],
   "source": [
    "import logging\n",
    "logging.basicConfig(filename = \"logfile4.log\", level = logging.DEBUG, format='%(asctime)s %(levelname)s %(message)s',force=True)"
   ]
  },
  {
   "cell_type": "code",
   "execution_count": null,
   "id": "0d971125",
   "metadata": {},
   "outputs": [],
   "source": [
    "class car:\n",
    "    def __init__(self, body_type, engine, fuel_type):\n",
    "        self.body_type = body_type\n",
    "        self.engine = engine\n",
    "        self.fuel_type = input()\n",
    "    \n",
    "    def test(self):\n",
    "        logging.debug(\"This is my first mehod in my car class\")\n",
    "        "
   ]
  }
 ],
 "metadata": {
  "kernelspec": {
   "display_name": "Python 3 (ipykernel)",
   "language": "python",
   "name": "python3"
  },
  "language_info": {
   "codemirror_mode": {
    "name": "ipython",
    "version": 3
   },
   "file_extension": ".py",
   "mimetype": "text/x-python",
   "name": "python",
   "nbconvert_exporter": "python",
   "pygments_lexer": "ipython3",
   "version": "3.9.7"
  }
 },
 "nbformat": 4,
 "nbformat_minor": 5
}
