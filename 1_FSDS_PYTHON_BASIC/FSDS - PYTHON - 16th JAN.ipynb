{
 "cells": [
  {
   "cell_type": "code",
   "execution_count": 1,
   "id": "cbe9f2c0",
   "metadata": {},
   "outputs": [
    {
     "name": "stdout",
     "output_type": "stream",
     "text": [
      "Vamsi\n"
     ]
    }
   ],
   "source": [
    "print(\"Vamsi\")"
   ]
  },
  {
   "cell_type": "code",
   "execution_count": 2,
   "id": "18023134",
   "metadata": {},
   "outputs": [
    {
     "name": "stdout",
     "output_type": "stream",
     "text": [
      "asdfg\n"
     ]
    },
    {
     "ename": "ValueError",
     "evalue": "invalid literal for int() with base 10: 'asdfg'",
     "output_type": "error",
     "traceback": [
      "\u001b[1;31m---------------------------------------------------------------------------\u001b[0m",
      "\u001b[1;31mValueError\u001b[0m                                Traceback (most recent call last)",
      "\u001b[1;32m~\\AppData\\Local\\Temp/ipykernel_12736/2305843072.py\u001b[0m in \u001b[0;36m<module>\u001b[1;34m\u001b[0m\n\u001b[1;32m----> 1\u001b[1;33m \u001b[0ma\u001b[0m \u001b[1;33m=\u001b[0m \u001b[0mint\u001b[0m\u001b[1;33m(\u001b[0m\u001b[0minput\u001b[0m\u001b[1;33m(\u001b[0m\u001b[1;33m)\u001b[0m\u001b[1;33m)\u001b[0m\u001b[1;33m\u001b[0m\u001b[1;33m\u001b[0m\u001b[0m\n\u001b[0m",
      "\u001b[1;31mValueError\u001b[0m: invalid literal for int() with base 10: 'asdfg'"
     ]
    }
   ],
   "source": [
    "a = int(input())"
   ]
  },
  {
   "cell_type": "code",
   "execution_count": 8,
   "id": "8744557b",
   "metadata": {},
   "outputs": [
    {
     "name": "stdout",
     "output_type": "stream",
     "text": [
      "not writable\n",
      "1\n",
      "2\n",
      "3\n",
      "4\n",
      "5\n"
     ]
    }
   ],
   "source": [
    "try:\n",
    "    f = open(\"test.txt\",\"r\")\n",
    "    f.write(\"This is my Code With Exception Handling\")\n",
    "    print(\"This is my code after Write ops\")\n",
    "except Exception as e:\n",
    "    print(e)\n",
    "    \n",
    "l = [1,2,3,4,5]\n",
    "for i in l:\n",
    "    print(i)"
   ]
  },
  {
   "cell_type": "code",
   "execution_count": 9,
   "id": "27d1c9e3",
   "metadata": {},
   "outputs": [
    {
     "ename": "UnsupportedOperation",
     "evalue": "not writable",
     "output_type": "error",
     "traceback": [
      "\u001b[1;31m---------------------------------------------------------------------------\u001b[0m",
      "\u001b[1;31mUnsupportedOperation\u001b[0m                      Traceback (most recent call last)",
      "\u001b[1;32m~\\AppData\\Local\\Temp/ipykernel_12736/1899081248.py\u001b[0m in \u001b[0;36m<module>\u001b[1;34m\u001b[0m\n\u001b[0;32m      1\u001b[0m \u001b[0mf\u001b[0m \u001b[1;33m=\u001b[0m \u001b[0mopen\u001b[0m\u001b[1;33m(\u001b[0m\u001b[1;34m\"test.txt\"\u001b[0m\u001b[1;33m,\u001b[0m\u001b[1;34m\"r\"\u001b[0m\u001b[1;33m)\u001b[0m\u001b[1;33m\u001b[0m\u001b[1;33m\u001b[0m\u001b[0m\n\u001b[1;32m----> 2\u001b[1;33m \u001b[0mf\u001b[0m\u001b[1;33m.\u001b[0m\u001b[0mwrite\u001b[0m\u001b[1;33m(\u001b[0m\u001b[1;34m\"This is my Code With Exception Handling\"\u001b[0m\u001b[1;33m)\u001b[0m\u001b[1;33m\u001b[0m\u001b[1;33m\u001b[0m\u001b[0m\n\u001b[0m\u001b[0;32m      3\u001b[0m \u001b[0mprint\u001b[0m\u001b[1;33m(\u001b[0m\u001b[1;34m\"This is my code after Write ops\"\u001b[0m\u001b[1;33m)\u001b[0m\u001b[1;33m\u001b[0m\u001b[1;33m\u001b[0m\u001b[0m\n\u001b[0;32m      4\u001b[0m \u001b[1;33m\u001b[0m\u001b[0m\n\u001b[0;32m      5\u001b[0m \u001b[0ml\u001b[0m \u001b[1;33m=\u001b[0m \u001b[1;33m[\u001b[0m\u001b[1;36m1\u001b[0m\u001b[1;33m,\u001b[0m\u001b[1;36m2\u001b[0m\u001b[1;33m,\u001b[0m\u001b[1;36m3\u001b[0m\u001b[1;33m,\u001b[0m\u001b[1;36m4\u001b[0m\u001b[1;33m,\u001b[0m\u001b[1;36m5\u001b[0m\u001b[1;33m]\u001b[0m\u001b[1;33m\u001b[0m\u001b[1;33m\u001b[0m\u001b[0m\n",
      "\u001b[1;31mUnsupportedOperation\u001b[0m: not writable"
     ]
    }
   ],
   "source": [
    "f = open(\"test.txt\",\"r\")\n",
    "f.write(\"This is my Code With Exception Handling\")\n",
    "print(\"This is my code after Write ops\")\n",
    "\n",
    "l = [1,2,3,4,5]\n",
    "for i in l:\n",
    "    print(i)"
   ]
  },
  {
   "cell_type": "code",
   "execution_count": 13,
   "id": "8f79508b",
   "metadata": {},
   "outputs": [
    {
     "name": "stdout",
     "output_type": "stream",
     "text": [
      "not writable\n",
      "1\n",
      "2\n",
      "3\n",
      "4\n",
      "5\n"
     ]
    }
   ],
   "source": [
    "try:\n",
    "    f = open(\"test.txt\",\"r\")\n",
    "    f.write(\"This is my Code With Exception Handling\")\n",
    "    print(\"This is my code after Write ops\")\n",
    "except Exception as e:\n",
    "    print(e)\n",
    "    \n",
    "try:\n",
    "    l = [1,2,3,4,5]\n",
    "    for i in l:\n",
    "        print(i)\n",
    "except Exception as e:\n",
    "    print(e)"
   ]
  },
  {
   "cell_type": "code",
   "execution_count": 15,
   "id": "be1fee77",
   "metadata": {},
   "outputs": [
    {
     "name": "stdout",
     "output_type": "stream",
     "text": [
      "dsf\n",
      "invalid literal for int() with base 10: 'dsf'\n"
     ]
    }
   ],
   "source": [
    "try:\n",
    "    d = {\"key1\":\"Vamsi\",\"key2\":[1,2,3,4,5],\"key3\":(\"3,4,3,5,6,7\")}\n",
    "    d[\"key4\"] = int(input())\n",
    "except Exception as e:\n",
    "    print(e)"
   ]
  },
  {
   "cell_type": "code",
   "execution_count": 17,
   "id": "20adc476",
   "metadata": {},
   "outputs": [
    {
     "name": "stdout",
     "output_type": "stream",
     "text": [
      "Vamsi\n"
     ]
    }
   ],
   "source": [
    "print(d[\"key1\"])"
   ]
  },
  {
   "cell_type": "code",
   "execution_count": 24,
   "id": "1c11ad46",
   "metadata": {},
   "outputs": [
    {
     "name": "stdout",
     "output_type": "stream",
     "text": [
      "3\n"
     ]
    }
   ],
   "source": [
    "print(d[\"key2\"][2])"
   ]
  },
  {
   "cell_type": "code",
   "execution_count": 27,
   "id": "f23bee5f",
   "metadata": {},
   "outputs": [
    {
     "name": "stdout",
     "output_type": "stream",
     "text": [
      "123\n",
      "[Errno 2] No such file or directory: 'test2.txt'\n"
     ]
    }
   ],
   "source": [
    "try:\n",
    "    d = {\"key1\":\"Vamsi\",\"key2\":[1,2,3,4,5],\"key3\":(\"3,4,3,5,6,7\")}\n",
    "    d[\"key4\"] = int(input())\n",
    "    f = open(\"test2.txt\",\"r\")\n",
    "except Exception as e:\n",
    "    print(e)"
   ]
  },
  {
   "cell_type": "code",
   "execution_count": 28,
   "id": "feab61d2",
   "metadata": {},
   "outputs": [
    {
     "name": "stdout",
     "output_type": "stream",
     "text": [
      "w\n",
      "invalid literal for int() with base 10: 'w'\n"
     ]
    }
   ],
   "source": [
    "try:\n",
    "    d = {\"key1\":\"Vamsi\",\"key2\":[1,2,3,4,5],\"key3\":(\"3,4,3,5,6,7\")}\n",
    "    d[\"key4\"] = int(input())\n",
    "    f = open(\"test2.txt\",\"r\")\n",
    "except Exception as e:\n",
    "    print(e)"
   ]
  },
  {
   "cell_type": "code",
   "execution_count": 34,
   "id": "8560bafa",
   "metadata": {},
   "outputs": [
    {
     "name": "stdout",
     "output_type": "stream",
     "text": [
      "2\n",
      "division by zero\n"
     ]
    }
   ],
   "source": [
    "try:\n",
    "    d = {\"key1\":\"Vamsi\",\"key2\":[1,2,3,4,5],\"key3\":(\"3,4,3,5,6,7\")}\n",
    "    d[\"key4\"] = int(input())\n",
    "    f = open(\"test2.txt\",\"r\")\n",
    "    \n",
    "except ValueError:\n",
    "    print(\"It is a Value Error\")\n",
    "except FileNotFoundError:\n",
    "    print(\"It is File Not Found Error\")\n",
    "except Exception as e:\n",
    "    print(e)\n",
    "    "
   ]
  },
  {
   "cell_type": "code",
   "execution_count": 37,
   "id": "5c9ec092",
   "metadata": {},
   "outputs": [
    {
     "name": "stdout",
     "output_type": "stream",
     "text": [
      "3\n",
      "It is File Not Found Error\n"
     ]
    }
   ],
   "source": [
    "try:\n",
    "    d = {\"key1\":\"Vamsi\",\"key2\":[1,2,3,4,5],\"key3\":(\"3,4,3,5,6,7\")}\n",
    "    d[\"key4\"] = int(input())\n",
    "    f = open(\"test2.txt\",\"r\")\n",
    "    5/0\n",
    "except ValueError:\n",
    "    print(\"It is a Value Error\")\n",
    "except FileNotFoundError:\n",
    "    print(\"It is File Not Found Error\")\n",
    "except Exception as e:\n",
    "    print(e)\n"
   ]
  },
  {
   "cell_type": "code",
   "execution_count": 41,
   "id": "ec5c5137",
   "metadata": {},
   "outputs": [
    {
     "name": "stdout",
     "output_type": "stream",
     "text": [
      "This will Handle the error [Errno 2] No such file or directory: 'test3.txt'\n"
     ]
    }
   ],
   "source": [
    "try:\n",
    "    f = open(\"test3.txt\",\"r\")\n",
    "    f.write(\"This is code in try Block\")\n",
    "except Exception as e:\n",
    "    print(\"This will Handle the error\",e)\n",
    "else:\n",
    "    print(\"This will Execute once my try block will be Executed Successfully\")\n",
    "    f.close()"
   ]
  },
  {
   "cell_type": "code",
   "execution_count": 45,
   "id": "8b9948fc",
   "metadata": {},
   "outputs": [
    {
     "name": "stdout",
     "output_type": "stream",
     "text": [
      "Will be Executed once the Try block executes without any Error\n",
      "Will be Exceuted for sure\n",
      "[Errno 2] No such file or directory: 'serdfghj'\n",
      "Come to this block for sure\n"
     ]
    }
   ],
   "source": [
    "try:\n",
    "    f = open(\"test5.txt\",\"w\")\n",
    "except Exception as e:\n",
    "    print(\"Except Block\", e)\n",
    "else:\n",
    "    print(\"Will be Executed once the Try block executes without any Error\")\n",
    "finally:\n",
    "    print(\"Will be Exceuted for sure\")\n",
    "    try:\n",
    "        f = open(\"serdfghj\",\"r\")\n",
    "    except Exception as e:\n",
    "        print(e)\n",
    "    finally:\n",
    "        print(\"Come to this block for sure\")"
   ]
  },
  {
   "cell_type": "code",
   "execution_count": 46,
   "id": "33efeb44",
   "metadata": {},
   "outputs": [],
   "source": [
    "def askint():\n",
    "    a = int(input())\n",
    "    return a"
   ]
  },
  {
   "cell_type": "code",
   "execution_count": 47,
   "id": "4db88746",
   "metadata": {},
   "outputs": [
    {
     "name": "stdout",
     "output_type": "stream",
     "text": [
      "2\n"
     ]
    },
    {
     "data": {
      "text/plain": [
       "2"
      ]
     },
     "execution_count": 47,
     "metadata": {},
     "output_type": "execute_result"
    }
   ],
   "source": [
    "askint()"
   ]
  },
  {
   "cell_type": "code",
   "execution_count": 48,
   "id": "3a3a0615",
   "metadata": {},
   "outputs": [
    {
     "name": "stdout",
     "output_type": "stream",
     "text": [
      "er\n"
     ]
    },
    {
     "ename": "ValueError",
     "evalue": "invalid literal for int() with base 10: 'er'",
     "output_type": "error",
     "traceback": [
      "\u001b[1;31m---------------------------------------------------------------------------\u001b[0m",
      "\u001b[1;31mValueError\u001b[0m                                Traceback (most recent call last)",
      "\u001b[1;32m~\\AppData\\Local\\Temp/ipykernel_12736/577270890.py\u001b[0m in \u001b[0;36m<module>\u001b[1;34m\u001b[0m\n\u001b[1;32m----> 1\u001b[1;33m \u001b[0maskint\u001b[0m\u001b[1;33m(\u001b[0m\u001b[1;33m)\u001b[0m\u001b[1;33m\u001b[0m\u001b[1;33m\u001b[0m\u001b[0m\n\u001b[0m",
      "\u001b[1;32m~\\AppData\\Local\\Temp/ipykernel_12736/3304994160.py\u001b[0m in \u001b[0;36maskint\u001b[1;34m()\u001b[0m\n\u001b[0;32m      1\u001b[0m \u001b[1;32mdef\u001b[0m \u001b[0maskint\u001b[0m\u001b[1;33m(\u001b[0m\u001b[1;33m)\u001b[0m\u001b[1;33m:\u001b[0m\u001b[1;33m\u001b[0m\u001b[1;33m\u001b[0m\u001b[0m\n\u001b[1;32m----> 2\u001b[1;33m     \u001b[0ma\u001b[0m \u001b[1;33m=\u001b[0m \u001b[0mint\u001b[0m\u001b[1;33m(\u001b[0m\u001b[0minput\u001b[0m\u001b[1;33m(\u001b[0m\u001b[1;33m)\u001b[0m\u001b[1;33m)\u001b[0m\u001b[1;33m\u001b[0m\u001b[1;33m\u001b[0m\u001b[0m\n\u001b[0m\u001b[0;32m      3\u001b[0m     \u001b[1;32mreturn\u001b[0m \u001b[0ma\u001b[0m\u001b[1;33m\u001b[0m\u001b[1;33m\u001b[0m\u001b[0m\n",
      "\u001b[1;31mValueError\u001b[0m: invalid literal for int() with base 10: 'er'"
     ]
    }
   ],
   "source": [
    "askint()"
   ]
  },
  {
   "cell_type": "code",
   "execution_count": 49,
   "id": "15171b31",
   "metadata": {},
   "outputs": [],
   "source": [
    "def askint():\n",
    "    try:\n",
    "        a = int(input())\n",
    "        return a\n",
    "    except Exception as e:\n",
    "        print(\"This is my input error\")"
   ]
  },
  {
   "cell_type": "code",
   "execution_count": 50,
   "id": "3c5b0249",
   "metadata": {},
   "outputs": [
    {
     "name": "stdout",
     "output_type": "stream",
     "text": [
      "wer\n",
      "This is my input error\n"
     ]
    }
   ],
   "source": [
    "askint()"
   ]
  },
  {
   "cell_type": "code",
   "execution_count": 72,
   "id": "e4f8c8ab",
   "metadata": {},
   "outputs": [],
   "source": [
    "def keepask():\n",
    "    try:    \n",
    "        a = int(input())\n",
    "        if type(a) == int:\n",
    "            return a\n",
    "        \n",
    "    except Exception as e:\n",
    "        print(e)\n",
    "    \n",
    "\n"
   ]
  },
  {
   "cell_type": "code",
   "execution_count": 73,
   "id": "cf5458ab",
   "metadata": {},
   "outputs": [
    {
     "name": "stdout",
     "output_type": "stream",
     "text": [
      "e\n",
      "invalid literal for int() with base 10: 'e'\n"
     ]
    }
   ],
   "source": [
    "keepask()"
   ]
  },
  {
   "cell_type": "code",
   "execution_count": 76,
   "id": "c74efddd",
   "metadata": {},
   "outputs": [],
   "source": [
    "def keepask1():\n",
    "    flag = True\n",
    "    while flag:\n",
    "        try:\n",
    "            a = int(input())\n",
    "            if type(a) == int:\n",
    "                return a\n",
    "                flag = False\n",
    "        except Exception as e:\n",
    "            print(e)"
   ]
  },
  {
   "cell_type": "code",
   "execution_count": 77,
   "id": "d4a4b6e6",
   "metadata": {},
   "outputs": [
    {
     "name": "stdout",
     "output_type": "stream",
     "text": [
      "r\n",
      "invalid literal for int() with base 10: 'r'\n",
      "ty\n",
      "invalid literal for int() with base 10: 'ty'\n",
      "\n",
      "invalid literal for int() with base 10: ''\n",
      "ih\n",
      "invalid literal for int() with base 10: 'ih'\n",
      "d\n",
      "invalid literal for int() with base 10: 'd'\n",
      "5\n"
     ]
    },
    {
     "data": {
      "text/plain": [
       "5"
      ]
     },
     "execution_count": 77,
     "metadata": {},
     "output_type": "execute_result"
    }
   ],
   "source": [
    "keepask1()"
   ]
  },
  {
   "cell_type": "code",
   "execution_count": 79,
   "id": "88c08eed",
   "metadata": {},
   "outputs": [],
   "source": [
    "def keepask2():\n",
    "    while True:\n",
    "        try: \n",
    "            x = int(input())\n",
    "            break\n",
    "        except ValueError as e:\n",
    "            print(e)\n",
    "        "
   ]
  },
  {
   "cell_type": "code",
   "execution_count": 80,
   "id": "b522d5a2",
   "metadata": {},
   "outputs": [
    {
     "name": "stdout",
     "output_type": "stream",
     "text": [
      "e\n",
      "invalid literal for int() with base 10: 'e'\n",
      "r\n",
      "invalid literal for int() with base 10: 'r'\n",
      "t\n",
      "invalid literal for int() with base 10: 't'\n",
      "2\n"
     ]
    }
   ],
   "source": [
    "keepask2()"
   ]
  },
  {
   "cell_type": "code",
   "execution_count": 90,
   "id": "13308c2a",
   "metadata": {},
   "outputs": [],
   "source": [
    "def test(a):\n",
    "    if a==\"Vamsi\":\n",
    "        raise Exception(\"Negative Value\")\n",
    "    return a"
   ]
  },
  {
   "cell_type": "code",
   "execution_count": 88,
   "id": "db08aaef",
   "metadata": {},
   "outputs": [
    {
     "ename": "Exception",
     "evalue": "Negative Value",
     "output_type": "error",
     "traceback": [
      "\u001b[1;31m---------------------------------------------------------------------------\u001b[0m",
      "\u001b[1;31mException\u001b[0m                                 Traceback (most recent call last)",
      "\u001b[1;32m~\\AppData\\Local\\Temp/ipykernel_12736/847413613.py\u001b[0m in \u001b[0;36m<module>\u001b[1;34m\u001b[0m\n\u001b[1;32m----> 1\u001b[1;33m \u001b[0mtest\u001b[0m\u001b[1;33m(\u001b[0m\u001b[1;33m-\u001b[0m\u001b[1;36m2\u001b[0m\u001b[1;33m)\u001b[0m\u001b[1;33m\u001b[0m\u001b[1;33m\u001b[0m\u001b[0m\n\u001b[0m",
      "\u001b[1;32m~\\AppData\\Local\\Temp/ipykernel_12736/3671407565.py\u001b[0m in \u001b[0;36mtest\u001b[1;34m(a)\u001b[0m\n\u001b[0;32m      1\u001b[0m \u001b[1;32mdef\u001b[0m \u001b[0mtest\u001b[0m\u001b[1;33m(\u001b[0m\u001b[0ma\u001b[0m\u001b[1;33m)\u001b[0m\u001b[1;33m:\u001b[0m\u001b[1;33m\u001b[0m\u001b[1;33m\u001b[0m\u001b[0m\n\u001b[0;32m      2\u001b[0m     \u001b[1;32mif\u001b[0m \u001b[0ma\u001b[0m\u001b[1;33m<\u001b[0m\u001b[1;36m0\u001b[0m\u001b[1;33m:\u001b[0m\u001b[1;33m\u001b[0m\u001b[1;33m\u001b[0m\u001b[0m\n\u001b[1;32m----> 3\u001b[1;33m         \u001b[1;32mraise\u001b[0m \u001b[0mException\u001b[0m\u001b[1;33m(\u001b[0m\u001b[1;34m\"Negative Value\"\u001b[0m\u001b[1;33m)\u001b[0m\u001b[1;33m\u001b[0m\u001b[1;33m\u001b[0m\u001b[0m\n\u001b[0m\u001b[0;32m      4\u001b[0m     \u001b[1;32mreturn\u001b[0m \u001b[0ma\u001b[0m\u001b[1;33m\u001b[0m\u001b[1;33m\u001b[0m\u001b[0m\n",
      "\u001b[1;31mException\u001b[0m: Negative Value"
     ]
    }
   ],
   "source": [
    "test(-2)"
   ]
  },
  {
   "cell_type": "code",
   "execution_count": 85,
   "id": "97e9bc71",
   "metadata": {},
   "outputs": [
    {
     "data": {
      "text/plain": [
       "2"
      ]
     },
     "execution_count": 85,
     "metadata": {},
     "output_type": "execute_result"
    }
   ],
   "source": [
    "test(2)"
   ]
  },
  {
   "cell_type": "code",
   "execution_count": 86,
   "id": "102cbf94",
   "metadata": {},
   "outputs": [
    {
     "ename": "FileNotFoundError",
     "evalue": "[Errno 2] No such file or directory: 'abcdkf'",
     "output_type": "error",
     "traceback": [
      "\u001b[1;31m---------------------------------------------------------------------------\u001b[0m",
      "\u001b[1;31mFileNotFoundError\u001b[0m                         Traceback (most recent call last)",
      "\u001b[1;32m~\\AppData\\Local\\Temp/ipykernel_12736/463690638.py\u001b[0m in \u001b[0;36m<module>\u001b[1;34m\u001b[0m\n\u001b[1;32m----> 1\u001b[1;33m \u001b[0mg\u001b[0m \u001b[1;33m=\u001b[0m \u001b[0mopen\u001b[0m\u001b[1;33m(\u001b[0m\u001b[1;34m\"abcdkf\"\u001b[0m\u001b[1;33m,\u001b[0m\u001b[1;34m\"r\"\u001b[0m\u001b[1;33m)\u001b[0m\u001b[1;33m\u001b[0m\u001b[1;33m\u001b[0m\u001b[0m\n\u001b[0m",
      "\u001b[1;31mFileNotFoundError\u001b[0m: [Errno 2] No such file or directory: 'abcdkf'"
     ]
    }
   ],
   "source": [
    "g = open(\"abcdkf\",\"r\")"
   ]
  },
  {
   "cell_type": "code",
   "execution_count": 93,
   "id": "e3de9ca7",
   "metadata": {},
   "outputs": [
    {
     "name": "stdout",
     "output_type": "stream",
     "text": [
      "wert\n"
     ]
    }
   ],
   "source": [
    "try:\n",
    "    a = input()\n",
    "    test(a)\n",
    "except Exception as e:\n",
    "    print(\"Calling my Raised Excpetion\", e)"
   ]
  },
  {
   "cell_type": "code",
   "execution_count": 94,
   "id": "9f2b435b",
   "metadata": {},
   "outputs": [
    {
     "name": "stdout",
     "output_type": "stream",
     "text": [
      "Vamsi\n",
      "Calling my Raised Excpetion Negative Value\n"
     ]
    }
   ],
   "source": [
    "try:\n",
    "    a = input()\n",
    "    test(a)\n",
    "except Exception as e:\n",
    "    print(\"Calling my Raised Excpetion\", e)\n",
    "    "
   ]
  },
  {
   "cell_type": "code",
   "execution_count": null,
   "id": "57dd4d4f",
   "metadata": {},
   "outputs": [],
   "source": []
  },
  {
   "cell_type": "code",
   "execution_count": null,
   "id": "f9e6d6a5",
   "metadata": {},
   "outputs": [],
   "source": []
  },
  {
   "cell_type": "code",
   "execution_count": null,
   "id": "b8653503",
   "metadata": {},
   "outputs": [],
   "source": []
  },
  {
   "cell_type": "code",
   "execution_count": null,
   "id": "d4180cb1",
   "metadata": {},
   "outputs": [],
   "source": []
  },
  {
   "cell_type": "code",
   "execution_count": null,
   "id": "8638e598",
   "metadata": {},
   "outputs": [],
   "source": []
  },
  {
   "cell_type": "markdown",
   "id": "cb360d70",
   "metadata": {},
   "source": [
    "# LOGGING"
   ]
  },
  {
   "cell_type": "markdown",
   "id": "e7faaa4f",
   "metadata": {},
   "source": [
    "logging will always give you the flexibility to understand the problem\n",
    "which has happened in the code and why things are not working"
   ]
  },
  {
   "cell_type": "code",
   "execution_count": 98,
   "id": "e477bbac",
   "metadata": {},
   "outputs": [
    {
     "name": "stdout",
     "output_type": "stream",
     "text": [
      "uhytrsedfghj\n"
     ]
    }
   ],
   "source": [
    "print(\"uhytrsedfghj\")"
   ]
  },
  {
   "cell_type": "raw",
   "id": "32dfee64",
   "metadata": {},
   "source": [
    "logging is a simple way to write messages"
   ]
  },
  {
   "cell_type": "code",
   "execution_count": 1,
   "id": "2aae718f",
   "metadata": {},
   "outputs": [],
   "source": [
    "import logging"
   ]
  },
  {
   "cell_type": "code",
   "execution_count": 134,
   "id": "c0d257d3",
   "metadata": {},
   "outputs": [],
   "source": [
    "logging.basicConfig(filename='logfile.log', level=logging.INFO, force=True)"
   ]
  },
  {
   "cell_type": "code",
   "execution_count": 126,
   "id": "24ce5942",
   "metadata": {},
   "outputs": [
    {
     "name": "stdout",
     "output_type": "stream",
     "text": [
      " Volume in drive C has no label.\n",
      " Volume Serial Number is F832-2B0D\n",
      "\n",
      " Directory of C:\\Users\\bvams\\Documents\\FSDS\\PYTHON BASIC\n",
      "\n",
      "05/04/2022  07:47 PM    <DIR>          .\n",
      "05/04/2022  07:47 PM    <DIR>          ..\n",
      "05/04/2022  04:23 PM    <DIR>          .ipynb_checkpoints\n",
      "04/24/2022  12:46 PM            11,277 FSDS - PYTHON - 15th JAN.ipynb\n",
      "05/04/2022  07:47 PM            24,371 FSDS - PYTHON - 16th JAN.ipynb\n",
      "04/22/2022  05:40 PM         7,739,785 FSDS - PYTHON - 9th JAN.ipynb\n",
      "04/22/2022  05:09 PM             3,153 google.txt\n",
      "05/04/2022  07:47 PM                 0 logfile.log\n",
      "04/22/2022  04:27 PM               220 test.txt\n",
      "05/04/2022  05:12 PM                25 test1.txt\n",
      "05/04/2022  05:25 PM                 0 test5.txt\n",
      "               8 File(s)      7,778,831 bytes\n",
      "               3 Dir(s)  73,103,687,680 bytes free\n"
     ]
    }
   ],
   "source": [
    "ls"
   ]
  },
  {
   "cell_type": "code",
   "execution_count": 124,
   "id": "2c0d260d",
   "metadata": {},
   "outputs": [
    {
     "data": {
      "text/plain": [
       "'C:\\\\Users\\\\bvams\\\\Documents\\\\FSDS\\\\PYTHON BASIC'"
      ]
     },
     "execution_count": 124,
     "metadata": {},
     "output_type": "execute_result"
    }
   ],
   "source": [
    "pwd"
   ]
  },
  {
   "cell_type": "raw",
   "id": "05f65e8f",
   "metadata": {},
   "source": [
    "LEVELS OF LOGS\n",
    "\n",
    "DEBUG\n",
    "INFO\n",
    "WARNING\n",
    "ERROR\n",
    "CRITICAL"
   ]
  },
  {
   "cell_type": "code",
   "execution_count": 135,
   "id": "d91afc1b",
   "metadata": {},
   "outputs": [],
   "source": [
    "logging.info(\"This is INFO LOG\")\n",
    "logging.warning(\"This is WARNING LOG\")\n",
    "logging.error(\"This is ERROR LOG\\n\")"
   ]
  },
  {
   "cell_type": "code",
   "execution_count": 136,
   "id": "ddcd95d6",
   "metadata": {},
   "outputs": [],
   "source": [
    "logging.shutdown()"
   ]
  },
  {
   "cell_type": "code",
   "execution_count": 46,
   "id": "12bf6f3c",
   "metadata": {},
   "outputs": [],
   "source": [
    "import logging\n",
    "logging.basicConfig(filename = \"logfile2.log\", level = logging.DEBUG, format='%(asctime)s %(levelname)s %(message)s',force=True)"
   ]
  },
  {
   "cell_type": "code",
   "execution_count": 16,
   "id": "54286576",
   "metadata": {},
   "outputs": [],
   "source": [
    "logging.debug(\"This is My DEBUG LOG\")\n",
    "logging.info(\"This is My INFO LOG\")\n",
    "logging.warning(\"This is My WARNING LOG\")\n",
    "logging.error(\"This is My ERROR LOG\")\n",
    "logging.critical(\"This is My CRITICAL LOG\\n\")"
   ]
  },
  {
   "cell_type": "code",
   "execution_count": null,
   "id": "30d8564c",
   "metadata": {},
   "outputs": [],
   "source": []
  },
  {
   "cell_type": "code",
   "execution_count": 18,
   "id": "d3001d19",
   "metadata": {},
   "outputs": [],
   "source": [
    "import logging\n",
    "logging.basicConfig(filename = \"logfile3.log\", level = logging.DEBUG, format='%(asctime)s %(levelname)s %(message)s',force=True)"
   ]
  },
  {
   "cell_type": "code",
   "execution_count": 43,
   "id": "a6758dc6",
   "metadata": {},
   "outputs": [],
   "source": [
    "def divbyzero(a,b):\n",
    "    logging.info(\"This is the start of my code and I'm trying to Divide %s and %s\",a,b)\n",
    "    try:\n",
    "        x = a/b\n",
    "        logging.info(\"Executed Successfully\\n\")\n",
    "    except Exception as e:\n",
    "        logging.error(\"Error Occured\")\n",
    "        logging.exception(\"Exception Occured \" + str(e))"
   ]
  },
  {
   "cell_type": "code",
   "execution_count": 44,
   "id": "9448572c",
   "metadata": {},
   "outputs": [],
   "source": [
    "divbyzero(6,0)"
   ]
  },
  {
   "cell_type": "code",
   "execution_count": 47,
   "id": "1456e53f",
   "metadata": {},
   "outputs": [],
   "source": [
    "logging.shutdown()"
   ]
  },
  {
   "cell_type": "code",
   "execution_count": null,
   "id": "0ddaa0f6",
   "metadata": {},
   "outputs": [],
   "source": []
  }
 ],
 "metadata": {
  "kernelspec": {
   "display_name": "Python 3 (ipykernel)",
   "language": "python",
   "name": "python3"
  },
  "language_info": {
   "codemirror_mode": {
    "name": "ipython",
    "version": 3
   },
   "file_extension": ".py",
   "mimetype": "text/x-python",
   "name": "python",
   "nbconvert_exporter": "python",
   "pygments_lexer": "ipython3",
   "version": "3.9.7"
  }
 },
 "nbformat": 4,
 "nbformat_minor": 5
}
