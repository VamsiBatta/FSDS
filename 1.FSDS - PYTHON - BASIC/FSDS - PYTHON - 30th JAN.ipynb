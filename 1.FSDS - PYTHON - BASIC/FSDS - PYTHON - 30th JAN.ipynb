{
 "cells": [
  {
   "cell_type": "markdown",
   "id": "2897e568",
   "metadata": {},
   "source": [
    "## Polymorphism"
   ]
  },
  {
   "cell_type": "raw",
   "id": "c5984c5d",
   "metadata": {},
   "source": [
    "An Object Having Multiple Forms"
   ]
  },
  {
   "cell_type": "code",
   "execution_count": 3,
   "id": "f22d71c0",
   "metadata": {},
   "outputs": [],
   "source": [
    "def test(a,b):\n",
    "    return a+b"
   ]
  },
  {
   "cell_type": "code",
   "execution_count": 4,
   "id": "d1132af3",
   "metadata": {},
   "outputs": [
    {
     "data": {
      "text/plain": [
       "8"
      ]
     },
     "execution_count": 4,
     "metadata": {},
     "output_type": "execute_result"
    }
   ],
   "source": [
    "test(3,5)"
   ]
  },
  {
   "cell_type": "code",
   "execution_count": 5,
   "id": "7fc5c316",
   "metadata": {},
   "outputs": [
    {
     "data": {
      "text/plain": [
       "'VamsiB'"
      ]
     },
     "execution_count": 5,
     "metadata": {},
     "output_type": "execute_result"
    }
   ],
   "source": [
    "test(\"Vamsi\",\"B\")"
   ]
  },
  {
   "cell_type": "code",
   "execution_count": 11,
   "id": "11ea7de7",
   "metadata": {},
   "outputs": [],
   "source": [
    "class insta:\n",
    "    def share_stories(self):\n",
    "        print(\"This will share my Insta Story\")\n",
    "    \n",
    "class facebook:\n",
    "    def share_stories(self):\n",
    "        print(\"This will share my Facebook Story\")"
   ]
  },
  {
   "cell_type": "code",
   "execution_count": 12,
   "id": "90c983b0",
   "metadata": {},
   "outputs": [],
   "source": [
    "def sharestories(app):\n",
    "    app.share_stories()"
   ]
  },
  {
   "cell_type": "code",
   "execution_count": 13,
   "id": "698129c1",
   "metadata": {},
   "outputs": [],
   "source": [
    "i = insta()"
   ]
  },
  {
   "cell_type": "code",
   "execution_count": 14,
   "id": "09f63a3c",
   "metadata": {},
   "outputs": [],
   "source": [
    "f = facebook()"
   ]
  },
  {
   "cell_type": "code",
   "execution_count": 16,
   "id": "bd72e912",
   "metadata": {},
   "outputs": [
    {
     "name": "stdout",
     "output_type": "stream",
     "text": [
      "This will share my Insta Story\n"
     ]
    }
   ],
   "source": [
    "sharestories(i)"
   ]
  },
  {
   "cell_type": "code",
   "execution_count": 17,
   "id": "9ca8312d",
   "metadata": {},
   "outputs": [
    {
     "name": "stdout",
     "output_type": "stream",
     "text": [
      "This will share my Facebook Story\n"
     ]
    }
   ],
   "source": [
    "sharestories(f)"
   ]
  },
  {
   "cell_type": "code",
   "execution_count": 21,
   "id": "57f6346e",
   "metadata": {},
   "outputs": [],
   "source": [
    "class social_media:\n",
    "    def share_stories(self):\n",
    "        print(\"Share a Story\")\n",
    "\n",
    "    def upload_pictures(self):\n",
    "        print(\"This will help you to upload pictures on social media\")\n",
    "        \n",
    "class facebook(social_media):\n",
    "    def share_stories(self):\n",
    "        print(\"This is a fun for sharing a story for facebook\")\n",
    "\n",
    "        \n",
    "class insta(social_media):\n",
    "    def share_stories(self):\n",
    "        print(\"This will print a story from insta\")"
   ]
  },
  {
   "cell_type": "code",
   "execution_count": 23,
   "id": "29ff0105",
   "metadata": {},
   "outputs": [],
   "source": [
    "f = facebook()\n",
    "i = insta()"
   ]
  },
  {
   "cell_type": "code",
   "execution_count": 24,
   "id": "b0d398ee",
   "metadata": {},
   "outputs": [
    {
     "name": "stdout",
     "output_type": "stream",
     "text": [
      "This is a fun for sharing a story for facebook\n"
     ]
    }
   ],
   "source": [
    "f.share_stories()"
   ]
  },
  {
   "cell_type": "code",
   "execution_count": 25,
   "id": "94a1377b",
   "metadata": {},
   "outputs": [
    {
     "name": "stdout",
     "output_type": "stream",
     "text": [
      "This will print a story from insta\n"
     ]
    }
   ],
   "source": [
    "i.share_stories()"
   ]
  },
  {
   "cell_type": "code",
   "execution_count": 31,
   "id": "b25f4fd5",
   "metadata": {},
   "outputs": [],
   "source": [
    "class test(Exception):\n",
    "    def __init__(self, msg, myval):\n",
    "        self.msg = msg\n",
    "        self.myval = myval"
   ]
  },
  {
   "cell_type": "code",
   "execution_count": 34,
   "id": "3f7d3799",
   "metadata": {},
   "outputs": [
    {
     "name": "stdout",
     "output_type": "stream",
     "text": [
      "('This is my own Exception Class', 6)\n"
     ]
    }
   ],
   "source": [
    "try:\n",
    "    raise(test(\"This is my own Exception Class\",6))\n",
    "except test as t:\n",
    "    print(t)"
   ]
  },
  {
   "cell_type": "code",
   "execution_count": 35,
   "id": "739d9036",
   "metadata": {},
   "outputs": [
    {
     "name": "stdout",
     "output_type": "stream",
     "text": [
      "('This is my own Exception Class', 5)\n"
     ]
    }
   ],
   "source": [
    "try:\n",
    "    raise(test(\"This is my own Exception Class\",5))\n",
    "    \n",
    "except test as t:\n",
    "    print(t)"
   ]
  },
  {
   "cell_type": "raw",
   "id": "1ba699bd",
   "metadata": {},
   "source": [
    "q1 - Create your own class to achieve multiple, multilevel inheritance\n",
    "q2 - create your own class to represent polymorphism\n",
    "q3 - create your own class for custom exception\n",
    "q4 - create your own class to achieve encapsulation\n",
    "q5 - create your own class to achieve method overloading and overriding"
   ]
  },
  {
   "cell_type": "code",
   "execution_count": 90,
   "id": "c2b3e732",
   "metadata": {},
   "outputs": [],
   "source": [
    "class A:\n",
    "    def father(self):\n",
    "        print(\"I'm Father Named as A\")\n",
    "        \n",
    "\n",
    "class B(A):\n",
    "    def son(self):\n",
    "        print(\"I'm Son Named as B \")\n",
    "        \n",
    "class C(B):\n",
    "    def grand_son(self):\n",
    "        print(\"I'm Grand_Son named as C\")\n",
    "        \n",
    "        \n",
    "\n"
   ]
  },
  {
   "cell_type": "code",
   "execution_count": 91,
   "id": "81c5d844",
   "metadata": {},
   "outputs": [],
   "source": [
    "z = C()"
   ]
  },
  {
   "cell_type": "code",
   "execution_count": 92,
   "id": "8d3cb2f2",
   "metadata": {},
   "outputs": [
    {
     "name": "stdout",
     "output_type": "stream",
     "text": [
      "I'm Father Named as A\n",
      "I'm Son Named as B \n",
      "I'm Grand_Son named as C\n"
     ]
    }
   ],
   "source": [
    "z.father()\n",
    "z.son()\n",
    "z.grand_son()"
   ]
  },
  {
   "cell_type": "code",
   "execution_count": null,
   "id": "1fd45d4e",
   "metadata": {},
   "outputs": [],
   "source": [
    "\n"
   ]
  },
  {
   "cell_type": "code",
   "execution_count": null,
   "id": "4f5804cc",
   "metadata": {},
   "outputs": [],
   "source": []
  },
  {
   "cell_type": "code",
   "execution_count": 100,
   "id": "8b20cc81",
   "metadata": {},
   "outputs": [],
   "source": [
    "class vals1:\n",
    "    def __init__(self, a, b):\n",
    "        self.a = a \n",
    "        self.b = b\n",
    "        \n",
    "class vals2:\n",
    "    def __init__(self, x, y):\n",
    "        self.x = x \n",
    "        self.y = y\n",
    "    \n",
    "class A(vals1):\n",
    "    def add(self):\n",
    "        return self.a + self.b\n",
    "\n",
    "    \n",
    "class B(vals1):\n",
    "    def mul(self):\n",
    "        return self.a*self.b\n",
    "    \n",
    "\n",
    "    \n",
    "class M(vals1, vals2):\n",
    "    def g_add(self):\n",
    "        return self.a + self.b+ self.x + self.y\n",
    "    \n",
    "    "
   ]
  },
  {
   "cell_type": "code",
   "execution_count": 101,
   "id": "0b745388",
   "metadata": {},
   "outputs": [],
   "source": [
    "x = B(2,2)"
   ]
  },
  {
   "cell_type": "code",
   "execution_count": 102,
   "id": "338371e0",
   "metadata": {},
   "outputs": [
    {
     "data": {
      "text/plain": [
       "4"
      ]
     },
     "execution_count": 102,
     "metadata": {},
     "output_type": "execute_result"
    }
   ],
   "source": [
    "x.mul()"
   ]
  },
  {
   "cell_type": "code",
   "execution_count": 105,
   "id": "6ee5eca4",
   "metadata": {},
   "outputs": [],
   "source": [
    "z = M(4,5)"
   ]
  },
  {
   "cell_type": "code",
   "execution_count": 107,
   "id": "6d1c3d9e",
   "metadata": {},
   "outputs": [
    {
     "ename": "AttributeError",
     "evalue": "'M' object has no attribute 'x'",
     "output_type": "error",
     "traceback": [
      "\u001b[1;31m---------------------------------------------------------------------------\u001b[0m",
      "\u001b[1;31mAttributeError\u001b[0m                            Traceback (most recent call last)",
      "\u001b[1;32m~\\AppData\\Local\\Temp/ipykernel_9064/749553027.py\u001b[0m in \u001b[0;36m<module>\u001b[1;34m\u001b[0m\n\u001b[1;32m----> 1\u001b[1;33m \u001b[0mz\u001b[0m\u001b[1;33m.\u001b[0m\u001b[0mg_add\u001b[0m\u001b[1;33m(\u001b[0m\u001b[1;33m)\u001b[0m\u001b[1;33m\u001b[0m\u001b[1;33m\u001b[0m\u001b[0m\n\u001b[0m",
      "\u001b[1;32m~\\AppData\\Local\\Temp/ipykernel_9064/4118904641.py\u001b[0m in \u001b[0;36mg_add\u001b[1;34m(self)\u001b[0m\n\u001b[0;32m     22\u001b[0m \u001b[1;32mclass\u001b[0m \u001b[0mM\u001b[0m\u001b[1;33m(\u001b[0m\u001b[0mvals1\u001b[0m\u001b[1;33m,\u001b[0m \u001b[0mvals2\u001b[0m\u001b[1;33m)\u001b[0m\u001b[1;33m:\u001b[0m\u001b[1;33m\u001b[0m\u001b[1;33m\u001b[0m\u001b[0m\n\u001b[0;32m     23\u001b[0m     \u001b[1;32mdef\u001b[0m \u001b[0mg_add\u001b[0m\u001b[1;33m(\u001b[0m\u001b[0mself\u001b[0m\u001b[1;33m)\u001b[0m\u001b[1;33m:\u001b[0m\u001b[1;33m\u001b[0m\u001b[1;33m\u001b[0m\u001b[0m\n\u001b[1;32m---> 24\u001b[1;33m         \u001b[1;32mreturn\u001b[0m \u001b[0mself\u001b[0m\u001b[1;33m.\u001b[0m\u001b[0ma\u001b[0m \u001b[1;33m+\u001b[0m \u001b[0mself\u001b[0m\u001b[1;33m.\u001b[0m\u001b[0mb\u001b[0m\u001b[1;33m+\u001b[0m \u001b[0mself\u001b[0m\u001b[1;33m.\u001b[0m\u001b[0mx\u001b[0m \u001b[1;33m+\u001b[0m \u001b[0mself\u001b[0m\u001b[1;33m.\u001b[0m\u001b[0my\u001b[0m\u001b[1;33m\u001b[0m\u001b[1;33m\u001b[0m\u001b[0m\n\u001b[0m\u001b[0;32m     25\u001b[0m \u001b[1;33m\u001b[0m\u001b[0m\n\u001b[0;32m     26\u001b[0m \u001b[1;33m\u001b[0m\u001b[0m\n",
      "\u001b[1;31mAttributeError\u001b[0m: 'M' object has no attribute 'x'"
     ]
    }
   ],
   "source": [
    "z.g_add()"
   ]
  },
  {
   "cell_type": "code",
   "execution_count": 16,
   "id": "4563b930",
   "metadata": {},
   "outputs": [],
   "source": [
    "class Batch_number:\n",
    "    batchnumber = \"FSDS\"\n",
    "    def __init__(self, a, b, c):\n",
    "        self.a = a\n",
    "        self.b = b\n",
    "        self.c = c\n",
    "        \n",
    "    @staticmethod\n",
    "    def batch():\n",
    "        print(\"This is a Static Method\")\n",
    "        \n",
    "        \n",
    "        \n",
    "        \n",
    "    def batch1(self):\n",
    "        print(\"This is a Static Method\")"
   ]
  },
  {
   "cell_type": "code",
   "execution_count": null,
   "id": "dc00b39e",
   "metadata": {},
   "outputs": [],
   "source": [
    "class accountdetail:\n",
    "    account_no = \"7647680979\"\n",
    "    def __init__(self, amount):\n",
    "        self.amount = amount\n",
    "        \n",
    "    def show_balance(self, deduction):\n",
    "        self.amount = self.amount - deduction\n",
    "        return self.amount, account_no "
   ]
  },
  {
   "cell_type": "code",
   "execution_count": null,
   "id": "44ee1ba5",
   "metadata": {},
   "outputs": [],
   "source": []
  },
  {
   "cell_type": "code",
   "execution_count": 17,
   "id": "6588b406",
   "metadata": {},
   "outputs": [],
   "source": [
    "bn = Batch_number(3,4,5)"
   ]
  },
  {
   "cell_type": "code",
   "execution_count": 18,
   "id": "9f311435",
   "metadata": {},
   "outputs": [
    {
     "name": "stdout",
     "output_type": "stream",
     "text": [
      "This is a Static Method\n"
     ]
    }
   ],
   "source": [
    "bn.batch()"
   ]
  },
  {
   "cell_type": "code",
   "execution_count": 19,
   "id": "1eb37413",
   "metadata": {},
   "outputs": [
    {
     "data": {
      "text/plain": [
       "'FSDS'"
      ]
     },
     "execution_count": 19,
     "metadata": {},
     "output_type": "execute_result"
    }
   ],
   "source": [
    "Batch_number.batchnumber"
   ]
  },
  {
   "cell_type": "code",
   "execution_count": 20,
   "id": "12119bb7",
   "metadata": {},
   "outputs": [
    {
     "data": {
      "text/plain": [
       "3"
      ]
     },
     "execution_count": 20,
     "metadata": {},
     "output_type": "execute_result"
    }
   ],
   "source": [
    "bn.a"
   ]
  },
  {
   "cell_type": "code",
   "execution_count": 21,
   "id": "decbb634",
   "metadata": {},
   "outputs": [
    {
     "ename": "AttributeError",
     "evalue": "type object 'Batch_number' has no attribute 'a'",
     "output_type": "error",
     "traceback": [
      "\u001b[1;31m---------------------------------------------------------------------------\u001b[0m",
      "\u001b[1;31mAttributeError\u001b[0m                            Traceback (most recent call last)",
      "\u001b[1;32m~\\AppData\\Local\\Temp/ipykernel_27528/1348857264.py\u001b[0m in \u001b[0;36m<module>\u001b[1;34m\u001b[0m\n\u001b[1;32m----> 1\u001b[1;33m \u001b[0mBatch_number\u001b[0m\u001b[1;33m.\u001b[0m\u001b[0ma\u001b[0m\u001b[1;33m\u001b[0m\u001b[1;33m\u001b[0m\u001b[0m\n\u001b[0m",
      "\u001b[1;31mAttributeError\u001b[0m: type object 'Batch_number' has no attribute 'a'"
     ]
    }
   ],
   "source": [
    "Batch_number.a"
   ]
  },
  {
   "cell_type": "code",
   "execution_count": 22,
   "id": "f5fdc242",
   "metadata": {},
   "outputs": [],
   "source": [
    "class abc:\n",
    "    pass"
   ]
  },
  {
   "cell_type": "raw",
   "id": "e7894435",
   "metadata": {},
   "source": [
    "abstraction - blueprint of class"
   ]
  },
  {
   "cell_type": "code",
   "execution_count": 27,
   "id": "3613b580",
   "metadata": {},
   "outputs": [
    {
     "ename": "ImportError",
     "evalue": "cannot import name 'absractmethod' from 'abc' (C:\\Users\\bvams\\anaconda3\\lib\\abc.py)",
     "output_type": "error",
     "traceback": [
      "\u001b[1;31m---------------------------------------------------------------------------\u001b[0m",
      "\u001b[1;31mImportError\u001b[0m                               Traceback (most recent call last)",
      "\u001b[1;32m~\\AppData\\Local\\Temp/ipykernel_27528/2065733617.py\u001b[0m in \u001b[0;36m<module>\u001b[1;34m\u001b[0m\n\u001b[1;32m----> 1\u001b[1;33m \u001b[1;32mfrom\u001b[0m \u001b[0mabc\u001b[0m \u001b[1;32mimport\u001b[0m \u001b[0mabsractmethod\u001b[0m\u001b[1;33m\u001b[0m\u001b[1;33m\u001b[0m\u001b[0m\n\u001b[0m\u001b[0;32m      2\u001b[0m \u001b[1;33m\u001b[0m\u001b[0m\n\u001b[0;32m      3\u001b[0m \u001b[1;32mclass\u001b[0m \u001b[0mdata_project\u001b[0m\u001b[1;33m:\u001b[0m\u001b[1;33m\u001b[0m\u001b[1;33m\u001b[0m\u001b[0m\n\u001b[0;32m      4\u001b[0m \u001b[1;33m\u001b[0m\u001b[0m\n\u001b[0;32m      5\u001b[0m     \u001b[1;33m@\u001b[0m\u001b[0mabstractmethod\u001b[0m\u001b[1;33m\u001b[0m\u001b[1;33m\u001b[0m\u001b[0m\n",
      "\u001b[1;31mImportError\u001b[0m: cannot import name 'absractmethod' from 'abc' (C:\\Users\\bvams\\anaconda3\\lib\\abc.py)"
     ]
    }
   ],
   "source": [
    "from abc import absractmethod\n",
    "\n",
    "class data_project:\n",
    "    \n",
    "    @abstractmethod\n",
    "    def read_file(self):\n",
    "        pass\n",
    "    \n",
    "    def validate_file_name(self):\n",
    "        pass\n",
    "    \n",
    "    def validate_datatype(self):\n",
    "        pass\n",
    "    \n",
    "    def validate_db_common(self):\n",
    "        pass\n",
    "    \n",
    "    def create_conn(self):\n",
    "        pass\n",
    "    \n",
    "    def insert_data(self):\n",
    "        pass\n",
    "    \n",
    "    def delete_data(self):\n",
    "        pass\n",
    "    \n",
    "    def update_data(self):\n",
    "        pass\n",
    "    \n",
    "    def perform_stats(self):\n",
    "        pass\n",
    "    \n",
    "    def perform_eda(self):\n",
    "        pass\n"
   ]
  },
  {
   "cell_type": "code",
   "execution_count": null,
   "id": "003f0fca",
   "metadata": {},
   "outputs": [],
   "source": []
  },
  {
   "cell_type": "code",
   "execution_count": 34,
   "id": "dab4958a",
   "metadata": {},
   "outputs": [],
   "source": [
    "class test:\n",
    "    def fun(self):\n",
    "        print(\"This is my sample class\")\n",
    "        \n",
    "    def __str__(self):\n",
    "        return str(\"This is a Function Called at the time of Object Print\")"
   ]
  },
  {
   "cell_type": "code",
   "execution_count": 35,
   "id": "bb6f8ec9",
   "metadata": {},
   "outputs": [],
   "source": [
    "t = test()"
   ]
  },
  {
   "cell_type": "code",
   "execution_count": 36,
   "id": "2ed2c90c",
   "metadata": {},
   "outputs": [
    {
     "name": "stdout",
     "output_type": "stream",
     "text": [
      "This is a Function Called at the time of Object Print\n"
     ]
    }
   ],
   "source": [
    "print(t)"
   ]
  },
  {
   "cell_type": "code",
   "execution_count": 53,
   "id": "e47420ad",
   "metadata": {},
   "outputs": [],
   "source": [
    "#overloading\n",
    "\n",
    "class test:\n",
    "    def __init__(self, a, b, c):\n",
    "        self.a = a\n",
    "        self.b = b\n",
    "        self.c = c\n",
    "        \n",
    "    def __str__(self):\n",
    "        return \"overloaded\"\n",
    "    \n",
    "    \n",
    "    def class_fun(self):\n",
    "        print(\"This is print class from class_fun\")\n",
    "\n",
    "        \n",
    "class test1(test):\n",
    "    #overriding\n",
    "    def class_fun(self):\n",
    "        print(\"Overriding\")\n"
   ]
  },
  {
   "cell_type": "code",
   "execution_count": 42,
   "id": "34449291",
   "metadata": {},
   "outputs": [],
   "source": [
    "t = test(4,5,6)"
   ]
  },
  {
   "cell_type": "code",
   "execution_count": 43,
   "id": "62e8e12c",
   "metadata": {},
   "outputs": [
    {
     "name": "stdout",
     "output_type": "stream",
     "text": [
      "overloaded\n"
     ]
    }
   ],
   "source": [
    "print(t)"
   ]
  },
  {
   "cell_type": "code",
   "execution_count": 44,
   "id": "5309b6c8",
   "metadata": {},
   "outputs": [],
   "source": [
    "def xyz(*args):\n",
    "    return args"
   ]
  },
  {
   "cell_type": "code",
   "execution_count": 45,
   "id": "235b282f",
   "metadata": {},
   "outputs": [
    {
     "data": {
      "text/plain": [
       "(27, 38, 4, 65, 8, 7, 24)"
      ]
     },
     "execution_count": 45,
     "metadata": {},
     "output_type": "execute_result"
    }
   ],
   "source": [
    "xyz(27,38,4,65,8,7,24)"
   ]
  },
  {
   "cell_type": "code",
   "execution_count": 54,
   "id": "4ac0cecd",
   "metadata": {},
   "outputs": [],
   "source": [
    "test1_obj = test1(1,2,3)\n",
    "test_obj = test(4,5,7)"
   ]
  },
  {
   "cell_type": "code",
   "execution_count": 55,
   "id": "b08484cc",
   "metadata": {},
   "outputs": [
    {
     "name": "stdout",
     "output_type": "stream",
     "text": [
      "Overriding\n"
     ]
    }
   ],
   "source": [
    "test1_obj.class_fun()"
   ]
  },
  {
   "cell_type": "code",
   "execution_count": 56,
   "id": "96c369e1",
   "metadata": {},
   "outputs": [
    {
     "name": "stdout",
     "output_type": "stream",
     "text": [
      "This is print class from class_fun\n"
     ]
    }
   ],
   "source": [
    "test_obj.class_fun()"
   ]
  },
  {
   "cell_type": "code",
   "execution_count": null,
   "id": "f229b95a",
   "metadata": {},
   "outputs": [],
   "source": []
  }
 ],
 "metadata": {
  "kernelspec": {
   "display_name": "Python 3 (ipykernel)",
   "language": "python",
   "name": "python3"
  },
  "language_info": {
   "codemirror_mode": {
    "name": "ipython",
    "version": 3
   },
   "file_extension": ".py",
   "mimetype": "text/x-python",
   "name": "python",
   "nbconvert_exporter": "python",
   "pygments_lexer": "ipython3",
   "version": "3.9.7"
  }
 },
 "nbformat": 4,
 "nbformat_minor": 5
}
