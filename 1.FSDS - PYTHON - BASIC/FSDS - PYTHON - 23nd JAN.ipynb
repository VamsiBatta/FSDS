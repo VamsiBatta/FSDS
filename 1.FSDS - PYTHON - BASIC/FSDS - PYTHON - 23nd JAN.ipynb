{
 "cells": [
  {
   "cell_type": "code",
   "execution_count": 1,
   "id": "2ae13b88",
   "metadata": {},
   "outputs": [],
   "source": [
    "import logging\n",
    "logging.basicConfig(filename = \"logfile4.log\", level = logging.DEBUG, format='%(asctime)s %(levelname)s %(message)s',force=True)"
   ]
  },
  {
   "cell_type": "code",
   "execution_count": 10,
   "id": "dbd36f77",
   "metadata": {},
   "outputs": [],
   "source": [
    "class car:\n",
    "    def __init__(self, body_type, engine, fuel_type):\n",
    "        self.body_type = body_type\n",
    "        self.engine = engine\n",
    "        self.fuel_type = fuel_type\n",
    "    \n",
    "    def test(self):\n",
    "        logging.debug(\"This is my first method in my car class\")\n",
    "        "
   ]
  },
  {
   "cell_type": "code",
   "execution_count": 11,
   "id": "f1cc2ee0",
   "metadata": {},
   "outputs": [],
   "source": [
    "fortuner = car(\"suv\", \"bs4\",\"Petrol\")"
   ]
  },
  {
   "cell_type": "code",
   "execution_count": 12,
   "id": "73ed4701",
   "metadata": {},
   "outputs": [],
   "source": [
    "nexon = car(\"suv\", \"bs6\",\"petrol\")"
   ]
  },
  {
   "cell_type": "code",
   "execution_count": 13,
   "id": "5e7cd699",
   "metadata": {},
   "outputs": [
    {
     "data": {
      "text/plain": [
       "'suv'"
      ]
     },
     "execution_count": 13,
     "metadata": {},
     "output_type": "execute_result"
    }
   ],
   "source": [
    "nexon.body_type"
   ]
  },
  {
   "cell_type": "code",
   "execution_count": 14,
   "id": "25382297",
   "metadata": {},
   "outputs": [
    {
     "data": {
      "text/plain": [
       "'bs4'"
      ]
     },
     "execution_count": 14,
     "metadata": {},
     "output_type": "execute_result"
    }
   ],
   "source": [
    "fortuner.engine"
   ]
  },
  {
   "cell_type": "code",
   "execution_count": 16,
   "id": "3cfdda2e",
   "metadata": {},
   "outputs": [
    {
     "data": {
      "text/plain": [
       "'bs6'"
      ]
     },
     "execution_count": 16,
     "metadata": {},
     "output_type": "execute_result"
    }
   ],
   "source": [
    "nexon.engine"
   ]
  },
  {
   "cell_type": "code",
   "execution_count": 17,
   "id": "38e8a64c",
   "metadata": {},
   "outputs": [
    {
     "data": {
      "text/plain": [
       "'petrol'"
      ]
     },
     "execution_count": 17,
     "metadata": {},
     "output_type": "execute_result"
    }
   ],
   "source": [
    "nexon.fuel_type"
   ]
  },
  {
   "cell_type": "code",
   "execution_count": 18,
   "id": "c9fe8ab7",
   "metadata": {},
   "outputs": [
    {
     "data": {
      "text/plain": [
       "'Petrol'"
      ]
     },
     "execution_count": 18,
     "metadata": {},
     "output_type": "execute_result"
    }
   ],
   "source": [
    "fortuner.fuel_type"
   ]
  },
  {
   "cell_type": "code",
   "execution_count": 22,
   "id": "34733471",
   "metadata": {},
   "outputs": [],
   "source": [
    "fortuner.test()"
   ]
  },
  {
   "cell_type": "code",
   "execution_count": 23,
   "id": "e99d172a",
   "metadata": {},
   "outputs": [],
   "source": [
    "class car:\n",
    "    def test(self):\n",
    "        logging.debug(\"This is my first method in my car class\")\n",
    "        "
   ]
  },
  {
   "cell_type": "code",
   "execution_count": 24,
   "id": "62dea9d9",
   "metadata": {},
   "outputs": [],
   "source": [
    "x = car()"
   ]
  },
  {
   "cell_type": "code",
   "execution_count": 25,
   "id": "f0704181",
   "metadata": {},
   "outputs": [],
   "source": [
    "x.test()"
   ]
  },
  {
   "cell_type": "code",
   "execution_count": 26,
   "id": "f8457a65",
   "metadata": {},
   "outputs": [],
   "source": [
    "class car:\n",
    "    def test(self, a,b):\n",
    "        logging.debug(\"This is my first method in my car class\")\n",
    "        "
   ]
  },
  {
   "cell_type": "code",
   "execution_count": 27,
   "id": "b403626e",
   "metadata": {},
   "outputs": [],
   "source": [
    "m = car()"
   ]
  },
  {
   "cell_type": "code",
   "execution_count": 28,
   "id": "a6362834",
   "metadata": {},
   "outputs": [],
   "source": [
    "m.test(10,\"Vamsi\")"
   ]
  },
  {
   "cell_type": "code",
   "execution_count": null,
   "id": "95d0934b",
   "metadata": {},
   "outputs": [],
   "source": []
  },
  {
   "cell_type": "code",
   "execution_count": 38,
   "id": "7cca95d6",
   "metadata": {},
   "outputs": [],
   "source": [
    "class list_parser:\n",
    "    \n",
    "    def __init__(self, l):\n",
    "        self.l = l\n",
    "        \n",
    "    def parser(self):\n",
    "        if type(self.l) == list:\n",
    "            for i in self.l : \n",
    "                print(i)\n",
    "    \n",
    "    def rev_list(self):\n",
    "        if type(self.l) == list:\n",
    "            return self.l[::-1]"
   ]
  },
  {
   "cell_type": "code",
   "execution_count": 41,
   "id": "4c4e5c8b",
   "metadata": {},
   "outputs": [],
   "source": [
    "c = list_parser([2,3,4,5,6,7,8,9])"
   ]
  },
  {
   "cell_type": "code",
   "execution_count": 43,
   "id": "8ef13822",
   "metadata": {},
   "outputs": [
    {
     "name": "stdout",
     "output_type": "stream",
     "text": [
      "2\n",
      "3\n",
      "4\n",
      "5\n",
      "6\n",
      "7\n",
      "8\n",
      "9\n"
     ]
    }
   ],
   "source": [
    "c.parser()"
   ]
  },
  {
   "cell_type": "code",
   "execution_count": 44,
   "id": "14604a63",
   "metadata": {},
   "outputs": [
    {
     "data": {
      "text/plain": [
       "[9, 8, 7, 6, 5, 4, 3, 2]"
      ]
     },
     "execution_count": 44,
     "metadata": {},
     "output_type": "execute_result"
    }
   ],
   "source": [
    "c.rev_list()"
   ]
  },
  {
   "cell_type": "code",
   "execution_count": null,
   "id": "9f6ceb6a",
   "metadata": {},
   "outputs": [],
   "source": []
  },
  {
   "cell_type": "code",
   "execution_count": null,
   "id": "3b645a74",
   "metadata": {},
   "outputs": [],
   "source": []
  },
  {
   "cell_type": "code",
   "execution_count": 88,
   "id": "0ed4a9ad",
   "metadata": {},
   "outputs": [],
   "source": [
    "class dict_parsing:\n",
    "    def __init__(self, d):\n",
    "        self.d = d\n",
    "        \n",
    "    def keys(self):\n",
    "        if type(self.d) == dict:\n",
    "            return self.d.keys()\n",
    "    \n",
    "    def values(self):\n",
    "        if type(self.d) == dict:\n",
    "            print(self.d.values())\n",
    "            \n",
    "    def exception(self):\n",
    "        if type(self.d) != dict:\n",
    "            raise Exception(\"It is Not a Dictionary Type\")\n",
    "    \n",
    "    def user_input(self):\n",
    "        self.d = eval(input())\n",
    "        print(self.keys())\n",
    "        print(self.values())\n",
    "        \n",
    "    def insertion(self, k,v):\n",
    "        self.d[k] = v"
   ]
  },
  {
   "cell_type": "code",
   "execution_count": 89,
   "id": "1957819f",
   "metadata": {},
   "outputs": [],
   "source": [
    "d= {1:\"Vamsi\",2:\"abc\",3:\"bcd\",4:\"uydgh\"}\n",
    "#d = [1,2,3,4,5,6,7]"
   ]
  },
  {
   "cell_type": "code",
   "execution_count": 90,
   "id": "422ae574",
   "metadata": {},
   "outputs": [],
   "source": [
    "a = dict_parsing(d)"
   ]
  },
  {
   "cell_type": "code",
   "execution_count": 93,
   "id": "c8b22c35",
   "metadata": {},
   "outputs": [
    {
     "data": {
      "text/plain": [
       "dict_keys(['k1', 'k2', 'k3', 5])"
      ]
     },
     "execution_count": 93,
     "metadata": {},
     "output_type": "execute_result"
    }
   ],
   "source": [
    "a.keys()"
   ]
  },
  {
   "cell_type": "code",
   "execution_count": 94,
   "id": "ed087107",
   "metadata": {},
   "outputs": [
    {
     "name": "stdout",
     "output_type": "stream",
     "text": [
      "dict_values(['v1', 'v2', 'v3', 'kjhgf'])\n"
     ]
    }
   ],
   "source": [
    "a.values()"
   ]
  },
  {
   "cell_type": "code",
   "execution_count": 63,
   "id": "71195cfa",
   "metadata": {},
   "outputs": [],
   "source": [
    "a.exception()"
   ]
  },
  {
   "cell_type": "code",
   "execution_count": 91,
   "id": "63220b6f",
   "metadata": {},
   "outputs": [
    {
     "name": "stdout",
     "output_type": "stream",
     "text": [
      "{\"k1\":\"v1\",\"k2\":\"v2\",\"k3\":\"v3\"}\n",
      "dict_keys(['k1', 'k2', 'k3'])\n",
      "dict_values(['v1', 'v2', 'v3'])\n",
      "None\n"
     ]
    }
   ],
   "source": [
    "a.user_input()"
   ]
  },
  {
   "cell_type": "code",
   "execution_count": 92,
   "id": "55b6542f",
   "metadata": {},
   "outputs": [],
   "source": [
    "a.insertion(5,\"kjhgf\")"
   ]
  },
  {
   "cell_type": "code",
   "execution_count": null,
   "id": "42e9bc62",
   "metadata": {},
   "outputs": [],
   "source": []
  }
 ],
 "metadata": {
  "kernelspec": {
   "display_name": "Python 3 (ipykernel)",
   "language": "python",
   "name": "python3"
  },
  "language_info": {
   "codemirror_mode": {
    "name": "ipython",
    "version": 3
   },
   "file_extension": ".py",
   "mimetype": "text/x-python",
   "name": "python",
   "nbconvert_exporter": "python",
   "pygments_lexer": "ipython3",
   "version": "3.9.7"
  }
 },
 "nbformat": 4,
 "nbformat_minor": 5
}
