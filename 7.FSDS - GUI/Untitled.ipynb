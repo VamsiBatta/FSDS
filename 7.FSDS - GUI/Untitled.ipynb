{
 "cells": [
  {
   "cell_type": "code",
   "execution_count": null,
   "id": "bef2b6c9",
   "metadata": {},
   "outputs": [],
   "source": [
    "from tkinter import *\n",
    "root = Tk()\n",
    "root.title(\"First GUI\")\n",
    "img = PhotoImage(file=r\"C:\\Users\\bvams\\OneDrive\\Desktop\\Lion_Image.png\")\n",
    "root.iconphoto(root, img)\n",
    "root.geometry(\"500x400\")\n"
   ]
  },
  {
   "cell_type": "code",
   "execution_count": null,
   "id": "c3c136dd",
   "metadata": {},
   "outputs": [],
   "source": [
    "\"\"\"screenheight = root.winfo_screenheight()\n",
    "screenwidth = root.winfo_screenwidth()\n",
    "height = screenheight//2\n",
    "width = screenwidth//2\n",
    "xco = screenheight//4\n",
    "yco = screenwidth//4\n",
    "root.geometry(f\"{width}x{height}+{yco}+{xco}\")\n",
    "root.resizable(False, False)\"\"\""
   ]
  },
  {
   "cell_type": "code",
   "execution_count": null,
   "id": "e974f0d6",
   "metadata": {},
   "outputs": [],
   "source": [
    "# Text\n",
    "lb1 = Label(root, text=\"Welcome To Python\")\n",
    "#lb1 = Label(root, text=\"Welcome To Python\", bg = \"skyblue\", fg = \"red\")\n",
    "\n",
    "# Multi Word Font Name\n",
    "#fg = (\"red\", font=(\"Times New Roman\", 40, \"bold\"))\n",
    "\n",
    "\n",
    "#lb1.config(fg=\"red\",bg=\"skyblue\")\n",
    "\n",
    "# font style, size, type\n",
    "#lb1.config(font = \"Arial 22 bold\")\n",
    "#lb1.config(font = \"Verdana 22 bold\")\n",
    "#lb1.config(font = (\"Times New Roman\", 22, \"bold\"))\n",
    "lb1.config(font = (\"Arial Narrow\", 22, \"bold\"))\n",
    "\n",
    "\n",
    "\n",
    "\n",
    "lb1.pack()\n"
   ]
  },
  {
   "cell_type": "code",
   "execution_count": null,
   "id": "c21480e5",
   "metadata": {},
   "outputs": [],
   "source": [
    "\"\"\"lb2 = Label(root, text=\"Python Rocks\", fg = \"red\")\n",
    "lb2.pack()\"\"\""
   ]
  },
  {
   "cell_type": "code",
   "execution_count": null,
   "id": "b89d83f8",
   "metadata": {},
   "outputs": [],
   "source": [
    "#root.resizable(True, True)\n",
    "root.resizable(False, False)"
   ]
  },
  {
   "cell_type": "code",
   "execution_count": null,
   "id": "019ce2c7",
   "metadata": {},
   "outputs": [],
   "source": [
    "# Window background color Change\n",
    "root.configure(bg=\"brown\")\n",
    "\n",
    "# root[\"bg\"] = \"Brown\"\n",
    "# root[\"background\"] = \"Brown\""
   ]
  },
  {
   "cell_type": "code",
   "execution_count": null,
   "id": "c4a6cfdf",
   "metadata": {},
   "outputs": [],
   "source": [
    "root.mainloop()"
   ]
  },
  {
   "cell_type": "code",
   "execution_count": 2,
   "id": "b923813c",
   "metadata": {},
   "outputs": [],
   "source": []
  },
  {
   "cell_type": "code",
   "execution_count": 51,
   "id": "cfedfda0",
   "metadata": {},
   "outputs": [],
   "source": [
    "from tkinter import *\n",
    "import tkinter.font as tkFont\n",
    "\n",
    "n_win = Tk()\n",
    "\n",
    "n_win.geometry(\"400x200\")\n",
    "\n",
    "myfont= tkFont.Font(size=\"16\")\n",
    "\n",
    "l = Label(n_win,text = \"Welcome to Python\\nVamsi\", borderwidth=2, relief=\"solid\", font = myfont, bg = \"Green\", height=20 ,width = 30, anchor=\"sw\")\n",
    "#l.configure(font=\"bold\")\n",
    "l.pack()\n",
    "\n",
    "n_win.mainloop()"
   ]
  },
  {
   "cell_type": "code",
   "execution_count": null,
   "id": "01832544",
   "metadata": {},
   "outputs": [],
   "source": []
  },
  {
   "cell_type": "code",
   "execution_count": null,
   "id": "48f60b0d",
   "metadata": {},
   "outputs": [],
   "source": []
  },
  {
   "cell_type": "code",
   "execution_count": null,
   "id": "42a6530c",
   "metadata": {},
   "outputs": [],
   "source": []
  }
 ],
 "metadata": {
  "kernelspec": {
   "display_name": "Python 3 (ipykernel)",
   "language": "python",
   "name": "python3"
  },
  "language_info": {
   "codemirror_mode": {
    "name": "ipython",
    "version": 3
   },
   "file_extension": ".py",
   "mimetype": "text/x-python",
   "name": "python",
   "nbconvert_exporter": "python",
   "pygments_lexer": "ipython3",
   "version": "3.9.7"
  }
 },
 "nbformat": 4,
 "nbformat_minor": 5
}
