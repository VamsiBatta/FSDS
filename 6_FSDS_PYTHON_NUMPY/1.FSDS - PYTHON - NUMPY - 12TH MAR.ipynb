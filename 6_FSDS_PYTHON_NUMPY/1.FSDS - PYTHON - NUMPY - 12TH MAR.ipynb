{
 "cells": [
  {
   "cell_type": "code",
   "execution_count": 1,
   "id": "a9d1e10d",
   "metadata": {},
   "outputs": [],
   "source": [
    "import numpy as np"
   ]
  },
  {
   "cell_type": "code",
   "execution_count": 2,
   "id": "aab89d71",
   "metadata": {},
   "outputs": [],
   "source": [
    " l = [\"abc\", 23,8,7,6,5]"
   ]
  },
  {
   "cell_type": "code",
   "execution_count": 3,
   "id": "c1f9bf58",
   "metadata": {},
   "outputs": [
    {
     "data": {
      "text/plain": [
       "list"
      ]
     },
     "execution_count": 3,
     "metadata": {},
     "output_type": "execute_result"
    }
   ],
   "source": [
    "type(l)"
   ]
  },
  {
   "cell_type": "code",
   "execution_count": 5,
   "id": "4673d810",
   "metadata": {},
   "outputs": [
    {
     "data": {
      "text/plain": [
       "numpy.ndarray"
      ]
     },
     "execution_count": 5,
     "metadata": {},
     "output_type": "execute_result"
    }
   ],
   "source": [
    "type(np.array(l))"
   ]
  },
  {
   "cell_type": "code",
   "execution_count": 12,
   "id": "b2cf69de",
   "metadata": {},
   "outputs": [],
   "source": [
    "a1=np.array([4,56,5,6,3.4,5])"
   ]
  },
  {
   "cell_type": "code",
   "execution_count": 8,
   "id": "1c0df329",
   "metadata": {},
   "outputs": [],
   "source": [
    "a = np.array([[1,3],[2,4]])"
   ]
  },
  {
   "cell_type": "code",
   "execution_count": 9,
   "id": "3189779a",
   "metadata": {},
   "outputs": [
    {
     "data": {
      "text/plain": [
       "array([[1, 3],\n",
       "       [2, 4]])"
      ]
     },
     "execution_count": 9,
     "metadata": {},
     "output_type": "execute_result"
    }
   ],
   "source": [
    "a"
   ]
  },
  {
   "cell_type": "code",
   "execution_count": 10,
   "id": "3a256d0f",
   "metadata": {},
   "outputs": [
    {
     "data": {
      "text/plain": [
       "4"
      ]
     },
     "execution_count": 10,
     "metadata": {},
     "output_type": "execute_result"
    }
   ],
   "source": [
    "a[1][1]"
   ]
  },
  {
   "cell_type": "code",
   "execution_count": 11,
   "id": "57c8d410",
   "metadata": {},
   "outputs": [
    {
     "data": {
      "text/plain": [
       "2"
      ]
     },
     "execution_count": 11,
     "metadata": {},
     "output_type": "execute_result"
    }
   ],
   "source": [
    "a[1][0]"
   ]
  },
  {
   "cell_type": "code",
   "execution_count": 13,
   "id": "e80cc8e1",
   "metadata": {},
   "outputs": [
    {
     "data": {
      "text/plain": [
       "4.0"
      ]
     },
     "execution_count": 13,
     "metadata": {},
     "output_type": "execute_result"
    }
   ],
   "source": [
    "a1[0]"
   ]
  },
  {
   "cell_type": "code",
   "execution_count": 15,
   "id": "f4aeb069",
   "metadata": {},
   "outputs": [
    {
     "data": {
      "text/plain": [
       "3.4"
      ]
     },
     "execution_count": 15,
     "metadata": {},
     "output_type": "execute_result"
    }
   ],
   "source": [
    "a1[4]"
   ]
  },
  {
   "cell_type": "code",
   "execution_count": 16,
   "id": "505cdca5",
   "metadata": {},
   "outputs": [
    {
     "data": {
      "text/plain": [
       "numpy.ndarray"
      ]
     },
     "execution_count": 16,
     "metadata": {},
     "output_type": "execute_result"
    }
   ],
   "source": [
    "type(a1)"
   ]
  },
  {
   "cell_type": "code",
   "execution_count": 26,
   "id": "892780c4",
   "metadata": {},
   "outputs": [
    {
     "data": {
      "text/plain": [
       "array([1, 2, 3, 4])"
      ]
     },
     "execution_count": 26,
     "metadata": {},
     "output_type": "execute_result"
    }
   ],
   "source": [
    "np.array([1,2,3,4], ndmin=1)"
   ]
  },
  {
   "cell_type": "code",
   "execution_count": 27,
   "id": "f8663830",
   "metadata": {},
   "outputs": [
    {
     "data": {
      "text/plain": [
       "array([[1, 2, 3, 4]])"
      ]
     },
     "execution_count": 27,
     "metadata": {},
     "output_type": "execute_result"
    }
   ],
   "source": [
    "np.array([1,2,3,4], ndmin=2)"
   ]
  },
  {
   "cell_type": "code",
   "execution_count": 29,
   "id": "7107e0fd",
   "metadata": {},
   "outputs": [],
   "source": [
    "x = np.array([1,2,3,4], ndmin=3)"
   ]
  },
  {
   "cell_type": "code",
   "execution_count": 34,
   "id": "3adbc238",
   "metadata": {},
   "outputs": [
    {
     "data": {
      "text/plain": [
       "4"
      ]
     },
     "execution_count": 34,
     "metadata": {},
     "output_type": "execute_result"
    }
   ],
   "source": [
    "x[0][0][3]"
   ]
  },
  {
   "cell_type": "code",
   "execution_count": 50,
   "id": "24d0447f",
   "metadata": {},
   "outputs": [
    {
     "data": {
      "text/plain": [
       "array([2, 6, 4, 5, 8])"
      ]
     },
     "execution_count": 50,
     "metadata": {},
     "output_type": "execute_result"
    }
   ],
   "source": [
    "a = [2,6,4,5,8]\n",
    "np.asarray([2,6,4,5,8])"
   ]
  },
  {
   "cell_type": "code",
   "execution_count": 42,
   "id": "1ab86fe8",
   "metadata": {},
   "outputs": [
    {
     "data": {
      "text/plain": [
       "array([1, 2, 3, 4, 5, 6])"
      ]
     },
     "execution_count": 42,
     "metadata": {},
     "output_type": "execute_result"
    }
   ],
   "source": [
    "np.asanyarray([1,2,3,4,5,6])"
   ]
  },
  {
   "cell_type": "code",
   "execution_count": 2,
   "id": "fee10c74",
   "metadata": {},
   "outputs": [
    {
     "data": {
      "text/plain": [
       "matrix([[1, 2, 3, 4, 5]])"
      ]
     },
     "execution_count": 2,
     "metadata": {},
     "output_type": "execute_result"
    }
   ],
   "source": [
    "np.mat([1,2,3,4,5])"
   ]
  },
  {
   "cell_type": "code",
   "execution_count": 51,
   "id": "42228cb1",
   "metadata": {},
   "outputs": [
    {
     "data": {
      "text/plain": [
       "matrix([[2, 6, 4, 5, 8]])"
      ]
     },
     "execution_count": 51,
     "metadata": {},
     "output_type": "execute_result"
    }
   ],
   "source": [
    "np.asanyarray(np.mat(a))"
   ]
  },
  {
   "cell_type": "code",
   "execution_count": 58,
   "id": "f7512715",
   "metadata": {},
   "outputs": [
    {
     "data": {
      "text/plain": [
       "array([[ True, False, False],\n",
       "       [False,  True, False],\n",
       "       [False, False,  True]])"
      ]
     },
     "execution_count": 58,
     "metadata": {},
     "output_type": "execute_result"
    }
   ],
   "source": [
    "np.fromfunction(lambda i,j : i==j,(3,3))"
   ]
  },
  {
   "cell_type": "code",
   "execution_count": 66,
   "id": "131d2b37",
   "metadata": {},
   "outputs": [
    {
     "data": {
      "text/plain": [
       "array([[0, 0, 0, 0],\n",
       "       [0, 1, 2, 3],\n",
       "       [0, 2, 4, 6],\n",
       "       [0, 3, 6, 9]])"
      ]
     },
     "execution_count": 66,
     "metadata": {},
     "output_type": "execute_result"
    }
   ],
   "source": [
    "np.fromfunction(lambda i, j: i*j, (4,4),dtype=int)"
   ]
  },
  {
   "cell_type": "code",
   "execution_count": 67,
   "id": "26e07a77",
   "metadata": {},
   "outputs": [
    {
     "data": {
      "text/plain": [
       "array([[[ 0,  0,  0,  0],\n",
       "        [ 0,  0,  0,  0],\n",
       "        [ 0,  0,  0,  0],\n",
       "        [ 0,  0,  0,  0]],\n",
       "\n",
       "       [[ 0,  0,  0,  0],\n",
       "        [ 0,  1,  2,  3],\n",
       "        [ 0,  2,  4,  6],\n",
       "        [ 0,  3,  6,  9]],\n",
       "\n",
       "       [[ 0,  0,  0,  0],\n",
       "        [ 0,  2,  4,  6],\n",
       "        [ 0,  4,  8, 12],\n",
       "        [ 0,  6, 12, 18]],\n",
       "\n",
       "       [[ 0,  0,  0,  0],\n",
       "        [ 0,  3,  6,  9],\n",
       "        [ 0,  6, 12, 18],\n",
       "        [ 0,  9, 18, 27]]])"
      ]
     },
     "execution_count": 67,
     "metadata": {},
     "output_type": "execute_result"
    }
   ],
   "source": [
    "np.fromfunction(lambda i, j, k: i*j*k, (4,4,4),dtype=int)"
   ]
  },
  {
   "cell_type": "code",
   "execution_count": 3,
   "id": "e6cfb8df",
   "metadata": {},
   "outputs": [
    {
     "data": {
      "text/plain": [
       "array([[[0, 1],\n",
       "        [1, 2],\n",
       "        [2, 3],\n",
       "        [3, 4]],\n",
       "\n",
       "       [[1, 2],\n",
       "        [2, 3],\n",
       "        [3, 4],\n",
       "        [4, 5]],\n",
       "\n",
       "       [[2, 3],\n",
       "        [3, 4],\n",
       "        [4, 5],\n",
       "        [5, 6]],\n",
       "\n",
       "       [[3, 4],\n",
       "        [4, 5],\n",
       "        [5, 6],\n",
       "        [6, 7]]])"
      ]
     },
     "execution_count": 3,
     "metadata": {},
     "output_type": "execute_result"
    }
   ],
   "source": [
    "np.fromfunction(lambda i, j, k: i+j+k, (4,4,2),dtype=int)"
   ]
  },
  {
   "cell_type": "code",
   "execution_count": 71,
   "id": "a55f54e5",
   "metadata": {},
   "outputs": [
    {
     "ename": "ValueError",
     "evalue": "shape too large to be a matrix.",
     "output_type": "error",
     "traceback": [
      "\u001b[1;31m---------------------------------------------------------------------------\u001b[0m",
      "\u001b[1;31mValueError\u001b[0m                                Traceback (most recent call last)",
      "Input \u001b[1;32mIn [71]\u001b[0m, in \u001b[0;36m<cell line: 1>\u001b[1;34m()\u001b[0m\n\u001b[1;32m----> 1\u001b[0m \u001b[43mnp\u001b[49m\u001b[38;5;241;43m.\u001b[39;49m\u001b[43mmat\u001b[49m\u001b[43m(\u001b[49m\u001b[43mnp\u001b[49m\u001b[38;5;241;43m.\u001b[39;49m\u001b[43mfromfunction\u001b[49m\u001b[43m(\u001b[49m\u001b[38;5;28;43;01mlambda\u001b[39;49;00m\u001b[43m \u001b[49m\u001b[43mi\u001b[49m\u001b[43m,\u001b[49m\u001b[43m \u001b[49m\u001b[43mj\u001b[49m\u001b[43m,\u001b[49m\u001b[43m \u001b[49m\u001b[43mk\u001b[49m\u001b[43m:\u001b[49m\u001b[43m \u001b[49m\u001b[43mi\u001b[49m\u001b[38;5;241;43m*\u001b[39;49m\u001b[43mj\u001b[49m\u001b[38;5;241;43m*\u001b[39;49m\u001b[43mk\u001b[49m\u001b[43m,\u001b[49m\u001b[43m \u001b[49m\u001b[43m(\u001b[49m\u001b[38;5;241;43m4\u001b[39;49m\u001b[43m,\u001b[49m\u001b[38;5;241;43m4\u001b[39;49m\u001b[43m,\u001b[49m\u001b[38;5;241;43m4\u001b[39;49m\u001b[43m)\u001b[49m\u001b[43m,\u001b[49m\u001b[43mdtype\u001b[49m\u001b[38;5;241;43m=\u001b[39;49m\u001b[38;5;28;43mint\u001b[39;49m\u001b[43m)\u001b[49m\u001b[43m)\u001b[49m\n",
      "File \u001b[1;32m~\\anaconda3\\lib\\site-packages\\numpy\\matrixlib\\defmatrix.py:69\u001b[0m, in \u001b[0;36masmatrix\u001b[1;34m(data, dtype)\u001b[0m\n\u001b[0;32m     36\u001b[0m \u001b[38;5;129m@set_module\u001b[39m(\u001b[38;5;124m'\u001b[39m\u001b[38;5;124mnumpy\u001b[39m\u001b[38;5;124m'\u001b[39m)\n\u001b[0;32m     37\u001b[0m \u001b[38;5;28;01mdef\u001b[39;00m \u001b[38;5;21masmatrix\u001b[39m(data, dtype\u001b[38;5;241m=\u001b[39m\u001b[38;5;28;01mNone\u001b[39;00m):\n\u001b[0;32m     38\u001b[0m     \u001b[38;5;124;03m\"\"\"\u001b[39;00m\n\u001b[0;32m     39\u001b[0m \u001b[38;5;124;03m    Interpret the input as a matrix.\u001b[39;00m\n\u001b[0;32m     40\u001b[0m \n\u001b[1;32m   (...)\u001b[0m\n\u001b[0;32m     67\u001b[0m \n\u001b[0;32m     68\u001b[0m \u001b[38;5;124;03m    \"\"\"\u001b[39;00m\n\u001b[1;32m---> 69\u001b[0m     \u001b[38;5;28;01mreturn\u001b[39;00m \u001b[43mmatrix\u001b[49m\u001b[43m(\u001b[49m\u001b[43mdata\u001b[49m\u001b[43m,\u001b[49m\u001b[43m \u001b[49m\u001b[43mdtype\u001b[49m\u001b[38;5;241;43m=\u001b[39;49m\u001b[43mdtype\u001b[49m\u001b[43m,\u001b[49m\u001b[43m \u001b[49m\u001b[43mcopy\u001b[49m\u001b[38;5;241;43m=\u001b[39;49m\u001b[38;5;28;43;01mFalse\u001b[39;49;00m\u001b[43m)\u001b[49m\n",
      "File \u001b[1;32m~\\anaconda3\\lib\\site-packages\\numpy\\matrixlib\\defmatrix.py:135\u001b[0m, in \u001b[0;36mmatrix.__new__\u001b[1;34m(subtype, data, dtype, copy)\u001b[0m\n\u001b[0;32m    133\u001b[0m \u001b[38;5;28;01melse\u001b[39;00m:\n\u001b[0;32m    134\u001b[0m     intype \u001b[38;5;241m=\u001b[39m N\u001b[38;5;241m.\u001b[39mdtype(dtype)\n\u001b[1;32m--> 135\u001b[0m new \u001b[38;5;241m=\u001b[39m \u001b[43mdata\u001b[49m\u001b[38;5;241;43m.\u001b[39;49m\u001b[43mview\u001b[49m\u001b[43m(\u001b[49m\u001b[43msubtype\u001b[49m\u001b[43m)\u001b[49m\n\u001b[0;32m    136\u001b[0m \u001b[38;5;28;01mif\u001b[39;00m intype \u001b[38;5;241m!=\u001b[39m data\u001b[38;5;241m.\u001b[39mdtype:\n\u001b[0;32m    137\u001b[0m     \u001b[38;5;28;01mreturn\u001b[39;00m new\u001b[38;5;241m.\u001b[39mastype(intype)\n",
      "File \u001b[1;32m~\\anaconda3\\lib\\site-packages\\numpy\\matrixlib\\defmatrix.py:180\u001b[0m, in \u001b[0;36mmatrix.__array_finalize__\u001b[1;34m(self, obj)\u001b[0m\n\u001b[0;32m    178\u001b[0m         \u001b[38;5;28;01mreturn\u001b[39;00m\n\u001b[0;32m    179\u001b[0m     \u001b[38;5;28;01melif\u001b[39;00m (ndim \u001b[38;5;241m>\u001b[39m \u001b[38;5;241m2\u001b[39m):\n\u001b[1;32m--> 180\u001b[0m         \u001b[38;5;28;01mraise\u001b[39;00m \u001b[38;5;167;01mValueError\u001b[39;00m(\u001b[38;5;124m\"\u001b[39m\u001b[38;5;124mshape too large to be a matrix.\u001b[39m\u001b[38;5;124m\"\u001b[39m)\n\u001b[0;32m    181\u001b[0m \u001b[38;5;28;01melse\u001b[39;00m:\n\u001b[0;32m    182\u001b[0m     newshape \u001b[38;5;241m=\u001b[39m \u001b[38;5;28mself\u001b[39m\u001b[38;5;241m.\u001b[39mshape\n",
      "\u001b[1;31mValueError\u001b[0m: shape too large to be a matrix."
     ]
    }
   ],
   "source": [
    "np.mat(np.fromfunction(lambda i, j, k: i*j*k, (4,4,4),dtype=int))"
   ]
  },
  {
   "cell_type": "code",
   "execution_count": 73,
   "id": "3be17ce0",
   "metadata": {},
   "outputs": [
    {
     "data": {
      "text/plain": [
       "matrix([[0, 0, 0, 0],\n",
       "        [0, 1, 2, 3],\n",
       "        [0, 2, 4, 6],\n",
       "        [0, 3, 6, 9]])"
      ]
     },
     "execution_count": 73,
     "metadata": {},
     "output_type": "execute_result"
    }
   ],
   "source": [
    "np.mat(np.fromfunction(lambda i, j: i*j, (4,4),dtype=int))"
   ]
  },
  {
   "cell_type": "code",
   "execution_count": 4,
   "id": "c222e38a",
   "metadata": {},
   "outputs": [],
   "source": [
    "a = np.fromfunction(lambda i, j, k, l: i+j+k+l, (3, 4, 3, 2),dtype=int)"
   ]
  },
  {
   "cell_type": "code",
   "execution_count": 110,
   "id": "c8094345",
   "metadata": {},
   "outputs": [
    {
     "data": {
      "text/plain": [
       "array([[0, 1, 1, 2, 2, 3, 1, 2],\n",
       "       [2, 3, 3, 4, 2, 3, 3, 4],\n",
       "       [4, 5, 3, 4, 4, 5, 5, 6],\n",
       "       [1, 2, 2, 3, 3, 4, 2, 3],\n",
       "       [3, 4, 4, 5, 3, 4, 4, 5],\n",
       "       [5, 6, 4, 5, 5, 6, 6, 7],\n",
       "       [2, 3, 3, 4, 4, 5, 3, 4],\n",
       "       [4, 5, 5, 6, 4, 5, 5, 6],\n",
       "       [6, 7, 5, 6, 6, 7, 7, 8]])"
      ]
     },
     "execution_count": 110,
     "metadata": {},
     "output_type": "execute_result"
    }
   ],
   "source": [
    "a.reshape(9,8)"
   ]
  },
  {
   "cell_type": "code",
   "execution_count": 111,
   "id": "4e35efc2",
   "metadata": {
    "scrolled": true
   },
   "outputs": [
    {
     "data": {
      "text/plain": [
       "array([[[0, 1],\n",
       "        [1, 2],\n",
       "        [2, 3],\n",
       "        [1, 2],\n",
       "        [2, 3],\n",
       "        [3, 4]],\n",
       "\n",
       "       [[2, 3],\n",
       "        [3, 4],\n",
       "        [4, 5],\n",
       "        [3, 4],\n",
       "        [4, 5],\n",
       "        [5, 6]],\n",
       "\n",
       "       [[1, 2],\n",
       "        [2, 3],\n",
       "        [3, 4],\n",
       "        [2, 3],\n",
       "        [3, 4],\n",
       "        [4, 5]],\n",
       "\n",
       "       [[3, 4],\n",
       "        [4, 5],\n",
       "        [5, 6],\n",
       "        [4, 5],\n",
       "        [5, 6],\n",
       "        [6, 7]],\n",
       "\n",
       "       [[2, 3],\n",
       "        [3, 4],\n",
       "        [4, 5],\n",
       "        [3, 4],\n",
       "        [4, 5],\n",
       "        [5, 6]],\n",
       "\n",
       "       [[4, 5],\n",
       "        [5, 6],\n",
       "        [6, 7],\n",
       "        [5, 6],\n",
       "        [6, 7],\n",
       "        [7, 8]]])"
      ]
     },
     "execution_count": 111,
     "metadata": {},
     "output_type": "execute_result"
    }
   ],
   "source": [
    "a.reshape(6,6,2)"
   ]
  },
  {
   "cell_type": "code",
   "execution_count": 112,
   "id": "ad73b980",
   "metadata": {},
   "outputs": [
    {
     "data": {
      "text/plain": [
       "array([[0, 1, 1, 2, 2, 3, 1, 2, 2, 3, 3, 4],\n",
       "       [2, 3, 3, 4, 4, 5, 3, 4, 4, 5, 5, 6],\n",
       "       [1, 2, 2, 3, 3, 4, 2, 3, 3, 4, 4, 5],\n",
       "       [3, 4, 4, 5, 5, 6, 4, 5, 5, 6, 6, 7],\n",
       "       [2, 3, 3, 4, 4, 5, 3, 4, 4, 5, 5, 6],\n",
       "       [4, 5, 5, 6, 6, 7, 5, 6, 6, 7, 7, 8]])"
      ]
     },
     "execution_count": 112,
     "metadata": {},
     "output_type": "execute_result"
    }
   ],
   "source": [
    "a.reshape(6,12)"
   ]
  },
  {
   "cell_type": "code",
   "execution_count": 117,
   "id": "717ef5f5",
   "metadata": {},
   "outputs": [
    {
     "data": {
      "text/plain": [
       "array([[[[0, 1]],\n",
       "\n",
       "        [[1, 2]],\n",
       "\n",
       "        [[2, 3]],\n",
       "\n",
       "        [[1, 2]],\n",
       "\n",
       "        [[2, 3]],\n",
       "\n",
       "        [[3, 4]]],\n",
       "\n",
       "\n",
       "       [[[2, 3]],\n",
       "\n",
       "        [[3, 4]],\n",
       "\n",
       "        [[4, 5]],\n",
       "\n",
       "        [[3, 4]],\n",
       "\n",
       "        [[4, 5]],\n",
       "\n",
       "        [[5, 6]]],\n",
       "\n",
       "\n",
       "       [[[1, 2]],\n",
       "\n",
       "        [[2, 3]],\n",
       "\n",
       "        [[3, 4]],\n",
       "\n",
       "        [[2, 3]],\n",
       "\n",
       "        [[3, 4]],\n",
       "\n",
       "        [[4, 5]]],\n",
       "\n",
       "\n",
       "       [[[3, 4]],\n",
       "\n",
       "        [[4, 5]],\n",
       "\n",
       "        [[5, 6]],\n",
       "\n",
       "        [[4, 5]],\n",
       "\n",
       "        [[5, 6]],\n",
       "\n",
       "        [[6, 7]]],\n",
       "\n",
       "\n",
       "       [[[2, 3]],\n",
       "\n",
       "        [[3, 4]],\n",
       "\n",
       "        [[4, 5]],\n",
       "\n",
       "        [[3, 4]],\n",
       "\n",
       "        [[4, 5]],\n",
       "\n",
       "        [[5, 6]]],\n",
       "\n",
       "\n",
       "       [[[4, 5]],\n",
       "\n",
       "        [[5, 6]],\n",
       "\n",
       "        [[6, 7]],\n",
       "\n",
       "        [[5, 6]],\n",
       "\n",
       "        [[6, 7]],\n",
       "\n",
       "        [[7, 8]]]])"
      ]
     },
     "execution_count": 117,
     "metadata": {},
     "output_type": "execute_result"
    }
   ],
   "source": [
    "a.reshape(6,6,1,2)"
   ]
  },
  {
   "cell_type": "code",
   "execution_count": 120,
   "id": "9676d258",
   "metadata": {},
   "outputs": [
    {
     "data": {
      "text/plain": [
       "array([[[0, 1, 1, 2, 2, 3, 1, 2, 2, 3, 3, 4, 2, 3, 3, 4, 4, 5],\n",
       "        [3, 4, 4, 5, 5, 6, 1, 2, 2, 3, 3, 4, 2, 3, 3, 4, 4, 5]],\n",
       "\n",
       "       [[3, 4, 4, 5, 5, 6, 4, 5, 5, 6, 6, 7, 2, 3, 3, 4, 4, 5],\n",
       "        [3, 4, 4, 5, 5, 6, 4, 5, 5, 6, 6, 7, 5, 6, 6, 7, 7, 8]]])"
      ]
     },
     "execution_count": 120,
     "metadata": {},
     "output_type": "execute_result"
    }
   ],
   "source": [
    "a.reshape(2,2,-1)"
   ]
  },
  {
   "cell_type": "code",
   "execution_count": 87,
   "id": "f1277686",
   "metadata": {},
   "outputs": [
    {
     "data": {
      "text/plain": [
       "4"
      ]
     },
     "execution_count": 87,
     "metadata": {},
     "output_type": "execute_result"
    }
   ],
   "source": [
    "a.ndim"
   ]
  },
  {
   "cell_type": "code",
   "execution_count": 88,
   "id": "f3710c5b",
   "metadata": {},
   "outputs": [
    {
     "data": {
      "text/plain": [
       "72"
      ]
     },
     "execution_count": 88,
     "metadata": {},
     "output_type": "execute_result"
    }
   ],
   "source": [
    "a.size"
   ]
  },
  {
   "cell_type": "code",
   "execution_count": 89,
   "id": "749472eb",
   "metadata": {},
   "outputs": [
    {
     "data": {
      "text/plain": [
       "(3, 4, 3, 2)"
      ]
     },
     "execution_count": 89,
     "metadata": {},
     "output_type": "execute_result"
    }
   ],
   "source": [
    "a.shape"
   ]
  },
  {
   "cell_type": "code",
   "execution_count": 90,
   "id": "46765a8a",
   "metadata": {},
   "outputs": [
    {
     "data": {
      "text/plain": [
       "dtype('int32')"
      ]
     },
     "execution_count": 90,
     "metadata": {},
     "output_type": "execute_result"
    }
   ],
   "source": [
    "a.dtype"
   ]
  },
  {
   "cell_type": "code",
   "execution_count": 91,
   "id": "6273b2c4",
   "metadata": {},
   "outputs": [],
   "source": [
    "a = np.fromfunction(lambda i, j: i*j, (4,4),dtype=int)"
   ]
  },
  {
   "cell_type": "code",
   "execution_count": 92,
   "id": "62b8be93",
   "metadata": {},
   "outputs": [
    {
     "data": {
      "text/plain": [
       "array([[0, 0, 0, 0],\n",
       "       [0, 1, 2, 3],\n",
       "       [0, 2, 4, 6],\n",
       "       [0, 3, 6, 9]])"
      ]
     },
     "execution_count": 92,
     "metadata": {},
     "output_type": "execute_result"
    }
   ],
   "source": [
    "a"
   ]
  },
  {
   "cell_type": "code",
   "execution_count": 94,
   "id": "c100b267",
   "metadata": {},
   "outputs": [
    {
     "data": {
      "text/html": [
       "<div>\n",
       "<style scoped>\n",
       "    .dataframe tbody tr th:only-of-type {\n",
       "        vertical-align: middle;\n",
       "    }\n",
       "\n",
       "    .dataframe tbody tr th {\n",
       "        vertical-align: top;\n",
       "    }\n",
       "\n",
       "    .dataframe thead th {\n",
       "        text-align: right;\n",
       "    }\n",
       "</style>\n",
       "<table border=\"1\" class=\"dataframe\">\n",
       "  <thead>\n",
       "    <tr style=\"text-align: right;\">\n",
       "      <th></th>\n",
       "      <th>0</th>\n",
       "      <th>1</th>\n",
       "      <th>2</th>\n",
       "      <th>3</th>\n",
       "    </tr>\n",
       "  </thead>\n",
       "  <tbody>\n",
       "    <tr>\n",
       "      <th>0</th>\n",
       "      <td>0</td>\n",
       "      <td>0</td>\n",
       "      <td>0</td>\n",
       "      <td>0</td>\n",
       "    </tr>\n",
       "    <tr>\n",
       "      <th>1</th>\n",
       "      <td>0</td>\n",
       "      <td>1</td>\n",
       "      <td>2</td>\n",
       "      <td>3</td>\n",
       "    </tr>\n",
       "    <tr>\n",
       "      <th>2</th>\n",
       "      <td>0</td>\n",
       "      <td>2</td>\n",
       "      <td>4</td>\n",
       "      <td>6</td>\n",
       "    </tr>\n",
       "    <tr>\n",
       "      <th>3</th>\n",
       "      <td>0</td>\n",
       "      <td>3</td>\n",
       "      <td>6</td>\n",
       "      <td>9</td>\n",
       "    </tr>\n",
       "  </tbody>\n",
       "</table>\n",
       "</div>"
      ],
      "text/plain": [
       "   0  1  2  3\n",
       "0  0  0  0  0\n",
       "1  0  1  2  3\n",
       "2  0  2  4  6\n",
       "3  0  3  6  9"
      ]
     },
     "execution_count": 94,
     "metadata": {},
     "output_type": "execute_result"
    }
   ],
   "source": [
    "import pandas as pd\n",
    "pd.DataFrame(a)"
   ]
  },
  {
   "cell_type": "code",
   "execution_count": 95,
   "id": "6dbb8618",
   "metadata": {},
   "outputs": [],
   "source": [
    "a = np.fromfunction(lambda i, j: i*j, (50,63),dtype=int)"
   ]
  },
  {
   "cell_type": "code",
   "execution_count": 96,
   "id": "b61fa7cc",
   "metadata": {},
   "outputs": [
    {
     "data": {
      "text/html": [
       "<div>\n",
       "<style scoped>\n",
       "    .dataframe tbody tr th:only-of-type {\n",
       "        vertical-align: middle;\n",
       "    }\n",
       "\n",
       "    .dataframe tbody tr th {\n",
       "        vertical-align: top;\n",
       "    }\n",
       "\n",
       "    .dataframe thead th {\n",
       "        text-align: right;\n",
       "    }\n",
       "</style>\n",
       "<table border=\"1\" class=\"dataframe\">\n",
       "  <thead>\n",
       "    <tr style=\"text-align: right;\">\n",
       "      <th></th>\n",
       "      <th>0</th>\n",
       "      <th>1</th>\n",
       "      <th>2</th>\n",
       "      <th>3</th>\n",
       "      <th>4</th>\n",
       "      <th>5</th>\n",
       "      <th>6</th>\n",
       "      <th>7</th>\n",
       "      <th>8</th>\n",
       "      <th>9</th>\n",
       "      <th>...</th>\n",
       "      <th>53</th>\n",
       "      <th>54</th>\n",
       "      <th>55</th>\n",
       "      <th>56</th>\n",
       "      <th>57</th>\n",
       "      <th>58</th>\n",
       "      <th>59</th>\n",
       "      <th>60</th>\n",
       "      <th>61</th>\n",
       "      <th>62</th>\n",
       "    </tr>\n",
       "  </thead>\n",
       "  <tbody>\n",
       "    <tr>\n",
       "      <th>0</th>\n",
       "      <td>0</td>\n",
       "      <td>0</td>\n",
       "      <td>0</td>\n",
       "      <td>0</td>\n",
       "      <td>0</td>\n",
       "      <td>0</td>\n",
       "      <td>0</td>\n",
       "      <td>0</td>\n",
       "      <td>0</td>\n",
       "      <td>0</td>\n",
       "      <td>...</td>\n",
       "      <td>0</td>\n",
       "      <td>0</td>\n",
       "      <td>0</td>\n",
       "      <td>0</td>\n",
       "      <td>0</td>\n",
       "      <td>0</td>\n",
       "      <td>0</td>\n",
       "      <td>0</td>\n",
       "      <td>0</td>\n",
       "      <td>0</td>\n",
       "    </tr>\n",
       "    <tr>\n",
       "      <th>1</th>\n",
       "      <td>0</td>\n",
       "      <td>1</td>\n",
       "      <td>2</td>\n",
       "      <td>3</td>\n",
       "      <td>4</td>\n",
       "      <td>5</td>\n",
       "      <td>6</td>\n",
       "      <td>7</td>\n",
       "      <td>8</td>\n",
       "      <td>9</td>\n",
       "      <td>...</td>\n",
       "      <td>53</td>\n",
       "      <td>54</td>\n",
       "      <td>55</td>\n",
       "      <td>56</td>\n",
       "      <td>57</td>\n",
       "      <td>58</td>\n",
       "      <td>59</td>\n",
       "      <td>60</td>\n",
       "      <td>61</td>\n",
       "      <td>62</td>\n",
       "    </tr>\n",
       "    <tr>\n",
       "      <th>2</th>\n",
       "      <td>0</td>\n",
       "      <td>2</td>\n",
       "      <td>4</td>\n",
       "      <td>6</td>\n",
       "      <td>8</td>\n",
       "      <td>10</td>\n",
       "      <td>12</td>\n",
       "      <td>14</td>\n",
       "      <td>16</td>\n",
       "      <td>18</td>\n",
       "      <td>...</td>\n",
       "      <td>106</td>\n",
       "      <td>108</td>\n",
       "      <td>110</td>\n",
       "      <td>112</td>\n",
       "      <td>114</td>\n",
       "      <td>116</td>\n",
       "      <td>118</td>\n",
       "      <td>120</td>\n",
       "      <td>122</td>\n",
       "      <td>124</td>\n",
       "    </tr>\n",
       "    <tr>\n",
       "      <th>3</th>\n",
       "      <td>0</td>\n",
       "      <td>3</td>\n",
       "      <td>6</td>\n",
       "      <td>9</td>\n",
       "      <td>12</td>\n",
       "      <td>15</td>\n",
       "      <td>18</td>\n",
       "      <td>21</td>\n",
       "      <td>24</td>\n",
       "      <td>27</td>\n",
       "      <td>...</td>\n",
       "      <td>159</td>\n",
       "      <td>162</td>\n",
       "      <td>165</td>\n",
       "      <td>168</td>\n",
       "      <td>171</td>\n",
       "      <td>174</td>\n",
       "      <td>177</td>\n",
       "      <td>180</td>\n",
       "      <td>183</td>\n",
       "      <td>186</td>\n",
       "    </tr>\n",
       "    <tr>\n",
       "      <th>4</th>\n",
       "      <td>0</td>\n",
       "      <td>4</td>\n",
       "      <td>8</td>\n",
       "      <td>12</td>\n",
       "      <td>16</td>\n",
       "      <td>20</td>\n",
       "      <td>24</td>\n",
       "      <td>28</td>\n",
       "      <td>32</td>\n",
       "      <td>36</td>\n",
       "      <td>...</td>\n",
       "      <td>212</td>\n",
       "      <td>216</td>\n",
       "      <td>220</td>\n",
       "      <td>224</td>\n",
       "      <td>228</td>\n",
       "      <td>232</td>\n",
       "      <td>236</td>\n",
       "      <td>240</td>\n",
       "      <td>244</td>\n",
       "      <td>248</td>\n",
       "    </tr>\n",
       "    <tr>\n",
       "      <th>5</th>\n",
       "      <td>0</td>\n",
       "      <td>5</td>\n",
       "      <td>10</td>\n",
       "      <td>15</td>\n",
       "      <td>20</td>\n",
       "      <td>25</td>\n",
       "      <td>30</td>\n",
       "      <td>35</td>\n",
       "      <td>40</td>\n",
       "      <td>45</td>\n",
       "      <td>...</td>\n",
       "      <td>265</td>\n",
       "      <td>270</td>\n",
       "      <td>275</td>\n",
       "      <td>280</td>\n",
       "      <td>285</td>\n",
       "      <td>290</td>\n",
       "      <td>295</td>\n",
       "      <td>300</td>\n",
       "      <td>305</td>\n",
       "      <td>310</td>\n",
       "    </tr>\n",
       "    <tr>\n",
       "      <th>6</th>\n",
       "      <td>0</td>\n",
       "      <td>6</td>\n",
       "      <td>12</td>\n",
       "      <td>18</td>\n",
       "      <td>24</td>\n",
       "      <td>30</td>\n",
       "      <td>36</td>\n",
       "      <td>42</td>\n",
       "      <td>48</td>\n",
       "      <td>54</td>\n",
       "      <td>...</td>\n",
       "      <td>318</td>\n",
       "      <td>324</td>\n",
       "      <td>330</td>\n",
       "      <td>336</td>\n",
       "      <td>342</td>\n",
       "      <td>348</td>\n",
       "      <td>354</td>\n",
       "      <td>360</td>\n",
       "      <td>366</td>\n",
       "      <td>372</td>\n",
       "    </tr>\n",
       "    <tr>\n",
       "      <th>7</th>\n",
       "      <td>0</td>\n",
       "      <td>7</td>\n",
       "      <td>14</td>\n",
       "      <td>21</td>\n",
       "      <td>28</td>\n",
       "      <td>35</td>\n",
       "      <td>42</td>\n",
       "      <td>49</td>\n",
       "      <td>56</td>\n",
       "      <td>63</td>\n",
       "      <td>...</td>\n",
       "      <td>371</td>\n",
       "      <td>378</td>\n",
       "      <td>385</td>\n",
       "      <td>392</td>\n",
       "      <td>399</td>\n",
       "      <td>406</td>\n",
       "      <td>413</td>\n",
       "      <td>420</td>\n",
       "      <td>427</td>\n",
       "      <td>434</td>\n",
       "    </tr>\n",
       "    <tr>\n",
       "      <th>8</th>\n",
       "      <td>0</td>\n",
       "      <td>8</td>\n",
       "      <td>16</td>\n",
       "      <td>24</td>\n",
       "      <td>32</td>\n",
       "      <td>40</td>\n",
       "      <td>48</td>\n",
       "      <td>56</td>\n",
       "      <td>64</td>\n",
       "      <td>72</td>\n",
       "      <td>...</td>\n",
       "      <td>424</td>\n",
       "      <td>432</td>\n",
       "      <td>440</td>\n",
       "      <td>448</td>\n",
       "      <td>456</td>\n",
       "      <td>464</td>\n",
       "      <td>472</td>\n",
       "      <td>480</td>\n",
       "      <td>488</td>\n",
       "      <td>496</td>\n",
       "    </tr>\n",
       "    <tr>\n",
       "      <th>9</th>\n",
       "      <td>0</td>\n",
       "      <td>9</td>\n",
       "      <td>18</td>\n",
       "      <td>27</td>\n",
       "      <td>36</td>\n",
       "      <td>45</td>\n",
       "      <td>54</td>\n",
       "      <td>63</td>\n",
       "      <td>72</td>\n",
       "      <td>81</td>\n",
       "      <td>...</td>\n",
       "      <td>477</td>\n",
       "      <td>486</td>\n",
       "      <td>495</td>\n",
       "      <td>504</td>\n",
       "      <td>513</td>\n",
       "      <td>522</td>\n",
       "      <td>531</td>\n",
       "      <td>540</td>\n",
       "      <td>549</td>\n",
       "      <td>558</td>\n",
       "    </tr>\n",
       "    <tr>\n",
       "      <th>10</th>\n",
       "      <td>0</td>\n",
       "      <td>10</td>\n",
       "      <td>20</td>\n",
       "      <td>30</td>\n",
       "      <td>40</td>\n",
       "      <td>50</td>\n",
       "      <td>60</td>\n",
       "      <td>70</td>\n",
       "      <td>80</td>\n",
       "      <td>90</td>\n",
       "      <td>...</td>\n",
       "      <td>530</td>\n",
       "      <td>540</td>\n",
       "      <td>550</td>\n",
       "      <td>560</td>\n",
       "      <td>570</td>\n",
       "      <td>580</td>\n",
       "      <td>590</td>\n",
       "      <td>600</td>\n",
       "      <td>610</td>\n",
       "      <td>620</td>\n",
       "    </tr>\n",
       "    <tr>\n",
       "      <th>11</th>\n",
       "      <td>0</td>\n",
       "      <td>11</td>\n",
       "      <td>22</td>\n",
       "      <td>33</td>\n",
       "      <td>44</td>\n",
       "      <td>55</td>\n",
       "      <td>66</td>\n",
       "      <td>77</td>\n",
       "      <td>88</td>\n",
       "      <td>99</td>\n",
       "      <td>...</td>\n",
       "      <td>583</td>\n",
       "      <td>594</td>\n",
       "      <td>605</td>\n",
       "      <td>616</td>\n",
       "      <td>627</td>\n",
       "      <td>638</td>\n",
       "      <td>649</td>\n",
       "      <td>660</td>\n",
       "      <td>671</td>\n",
       "      <td>682</td>\n",
       "    </tr>\n",
       "    <tr>\n",
       "      <th>12</th>\n",
       "      <td>0</td>\n",
       "      <td>12</td>\n",
       "      <td>24</td>\n",
       "      <td>36</td>\n",
       "      <td>48</td>\n",
       "      <td>60</td>\n",
       "      <td>72</td>\n",
       "      <td>84</td>\n",
       "      <td>96</td>\n",
       "      <td>108</td>\n",
       "      <td>...</td>\n",
       "      <td>636</td>\n",
       "      <td>648</td>\n",
       "      <td>660</td>\n",
       "      <td>672</td>\n",
       "      <td>684</td>\n",
       "      <td>696</td>\n",
       "      <td>708</td>\n",
       "      <td>720</td>\n",
       "      <td>732</td>\n",
       "      <td>744</td>\n",
       "    </tr>\n",
       "    <tr>\n",
       "      <th>13</th>\n",
       "      <td>0</td>\n",
       "      <td>13</td>\n",
       "      <td>26</td>\n",
       "      <td>39</td>\n",
       "      <td>52</td>\n",
       "      <td>65</td>\n",
       "      <td>78</td>\n",
       "      <td>91</td>\n",
       "      <td>104</td>\n",
       "      <td>117</td>\n",
       "      <td>...</td>\n",
       "      <td>689</td>\n",
       "      <td>702</td>\n",
       "      <td>715</td>\n",
       "      <td>728</td>\n",
       "      <td>741</td>\n",
       "      <td>754</td>\n",
       "      <td>767</td>\n",
       "      <td>780</td>\n",
       "      <td>793</td>\n",
       "      <td>806</td>\n",
       "    </tr>\n",
       "    <tr>\n",
       "      <th>14</th>\n",
       "      <td>0</td>\n",
       "      <td>14</td>\n",
       "      <td>28</td>\n",
       "      <td>42</td>\n",
       "      <td>56</td>\n",
       "      <td>70</td>\n",
       "      <td>84</td>\n",
       "      <td>98</td>\n",
       "      <td>112</td>\n",
       "      <td>126</td>\n",
       "      <td>...</td>\n",
       "      <td>742</td>\n",
       "      <td>756</td>\n",
       "      <td>770</td>\n",
       "      <td>784</td>\n",
       "      <td>798</td>\n",
       "      <td>812</td>\n",
       "      <td>826</td>\n",
       "      <td>840</td>\n",
       "      <td>854</td>\n",
       "      <td>868</td>\n",
       "    </tr>\n",
       "    <tr>\n",
       "      <th>15</th>\n",
       "      <td>0</td>\n",
       "      <td>15</td>\n",
       "      <td>30</td>\n",
       "      <td>45</td>\n",
       "      <td>60</td>\n",
       "      <td>75</td>\n",
       "      <td>90</td>\n",
       "      <td>105</td>\n",
       "      <td>120</td>\n",
       "      <td>135</td>\n",
       "      <td>...</td>\n",
       "      <td>795</td>\n",
       "      <td>810</td>\n",
       "      <td>825</td>\n",
       "      <td>840</td>\n",
       "      <td>855</td>\n",
       "      <td>870</td>\n",
       "      <td>885</td>\n",
       "      <td>900</td>\n",
       "      <td>915</td>\n",
       "      <td>930</td>\n",
       "    </tr>\n",
       "    <tr>\n",
       "      <th>16</th>\n",
       "      <td>0</td>\n",
       "      <td>16</td>\n",
       "      <td>32</td>\n",
       "      <td>48</td>\n",
       "      <td>64</td>\n",
       "      <td>80</td>\n",
       "      <td>96</td>\n",
       "      <td>112</td>\n",
       "      <td>128</td>\n",
       "      <td>144</td>\n",
       "      <td>...</td>\n",
       "      <td>848</td>\n",
       "      <td>864</td>\n",
       "      <td>880</td>\n",
       "      <td>896</td>\n",
       "      <td>912</td>\n",
       "      <td>928</td>\n",
       "      <td>944</td>\n",
       "      <td>960</td>\n",
       "      <td>976</td>\n",
       "      <td>992</td>\n",
       "    </tr>\n",
       "    <tr>\n",
       "      <th>17</th>\n",
       "      <td>0</td>\n",
       "      <td>17</td>\n",
       "      <td>34</td>\n",
       "      <td>51</td>\n",
       "      <td>68</td>\n",
       "      <td>85</td>\n",
       "      <td>102</td>\n",
       "      <td>119</td>\n",
       "      <td>136</td>\n",
       "      <td>153</td>\n",
       "      <td>...</td>\n",
       "      <td>901</td>\n",
       "      <td>918</td>\n",
       "      <td>935</td>\n",
       "      <td>952</td>\n",
       "      <td>969</td>\n",
       "      <td>986</td>\n",
       "      <td>1003</td>\n",
       "      <td>1020</td>\n",
       "      <td>1037</td>\n",
       "      <td>1054</td>\n",
       "    </tr>\n",
       "    <tr>\n",
       "      <th>18</th>\n",
       "      <td>0</td>\n",
       "      <td>18</td>\n",
       "      <td>36</td>\n",
       "      <td>54</td>\n",
       "      <td>72</td>\n",
       "      <td>90</td>\n",
       "      <td>108</td>\n",
       "      <td>126</td>\n",
       "      <td>144</td>\n",
       "      <td>162</td>\n",
       "      <td>...</td>\n",
       "      <td>954</td>\n",
       "      <td>972</td>\n",
       "      <td>990</td>\n",
       "      <td>1008</td>\n",
       "      <td>1026</td>\n",
       "      <td>1044</td>\n",
       "      <td>1062</td>\n",
       "      <td>1080</td>\n",
       "      <td>1098</td>\n",
       "      <td>1116</td>\n",
       "    </tr>\n",
       "    <tr>\n",
       "      <th>19</th>\n",
       "      <td>0</td>\n",
       "      <td>19</td>\n",
       "      <td>38</td>\n",
       "      <td>57</td>\n",
       "      <td>76</td>\n",
       "      <td>95</td>\n",
       "      <td>114</td>\n",
       "      <td>133</td>\n",
       "      <td>152</td>\n",
       "      <td>171</td>\n",
       "      <td>...</td>\n",
       "      <td>1007</td>\n",
       "      <td>1026</td>\n",
       "      <td>1045</td>\n",
       "      <td>1064</td>\n",
       "      <td>1083</td>\n",
       "      <td>1102</td>\n",
       "      <td>1121</td>\n",
       "      <td>1140</td>\n",
       "      <td>1159</td>\n",
       "      <td>1178</td>\n",
       "    </tr>\n",
       "    <tr>\n",
       "      <th>20</th>\n",
       "      <td>0</td>\n",
       "      <td>20</td>\n",
       "      <td>40</td>\n",
       "      <td>60</td>\n",
       "      <td>80</td>\n",
       "      <td>100</td>\n",
       "      <td>120</td>\n",
       "      <td>140</td>\n",
       "      <td>160</td>\n",
       "      <td>180</td>\n",
       "      <td>...</td>\n",
       "      <td>1060</td>\n",
       "      <td>1080</td>\n",
       "      <td>1100</td>\n",
       "      <td>1120</td>\n",
       "      <td>1140</td>\n",
       "      <td>1160</td>\n",
       "      <td>1180</td>\n",
       "      <td>1200</td>\n",
       "      <td>1220</td>\n",
       "      <td>1240</td>\n",
       "    </tr>\n",
       "    <tr>\n",
       "      <th>21</th>\n",
       "      <td>0</td>\n",
       "      <td>21</td>\n",
       "      <td>42</td>\n",
       "      <td>63</td>\n",
       "      <td>84</td>\n",
       "      <td>105</td>\n",
       "      <td>126</td>\n",
       "      <td>147</td>\n",
       "      <td>168</td>\n",
       "      <td>189</td>\n",
       "      <td>...</td>\n",
       "      <td>1113</td>\n",
       "      <td>1134</td>\n",
       "      <td>1155</td>\n",
       "      <td>1176</td>\n",
       "      <td>1197</td>\n",
       "      <td>1218</td>\n",
       "      <td>1239</td>\n",
       "      <td>1260</td>\n",
       "      <td>1281</td>\n",
       "      <td>1302</td>\n",
       "    </tr>\n",
       "    <tr>\n",
       "      <th>22</th>\n",
       "      <td>0</td>\n",
       "      <td>22</td>\n",
       "      <td>44</td>\n",
       "      <td>66</td>\n",
       "      <td>88</td>\n",
       "      <td>110</td>\n",
       "      <td>132</td>\n",
       "      <td>154</td>\n",
       "      <td>176</td>\n",
       "      <td>198</td>\n",
       "      <td>...</td>\n",
       "      <td>1166</td>\n",
       "      <td>1188</td>\n",
       "      <td>1210</td>\n",
       "      <td>1232</td>\n",
       "      <td>1254</td>\n",
       "      <td>1276</td>\n",
       "      <td>1298</td>\n",
       "      <td>1320</td>\n",
       "      <td>1342</td>\n",
       "      <td>1364</td>\n",
       "    </tr>\n",
       "    <tr>\n",
       "      <th>23</th>\n",
       "      <td>0</td>\n",
       "      <td>23</td>\n",
       "      <td>46</td>\n",
       "      <td>69</td>\n",
       "      <td>92</td>\n",
       "      <td>115</td>\n",
       "      <td>138</td>\n",
       "      <td>161</td>\n",
       "      <td>184</td>\n",
       "      <td>207</td>\n",
       "      <td>...</td>\n",
       "      <td>1219</td>\n",
       "      <td>1242</td>\n",
       "      <td>1265</td>\n",
       "      <td>1288</td>\n",
       "      <td>1311</td>\n",
       "      <td>1334</td>\n",
       "      <td>1357</td>\n",
       "      <td>1380</td>\n",
       "      <td>1403</td>\n",
       "      <td>1426</td>\n",
       "    </tr>\n",
       "    <tr>\n",
       "      <th>24</th>\n",
       "      <td>0</td>\n",
       "      <td>24</td>\n",
       "      <td>48</td>\n",
       "      <td>72</td>\n",
       "      <td>96</td>\n",
       "      <td>120</td>\n",
       "      <td>144</td>\n",
       "      <td>168</td>\n",
       "      <td>192</td>\n",
       "      <td>216</td>\n",
       "      <td>...</td>\n",
       "      <td>1272</td>\n",
       "      <td>1296</td>\n",
       "      <td>1320</td>\n",
       "      <td>1344</td>\n",
       "      <td>1368</td>\n",
       "      <td>1392</td>\n",
       "      <td>1416</td>\n",
       "      <td>1440</td>\n",
       "      <td>1464</td>\n",
       "      <td>1488</td>\n",
       "    </tr>\n",
       "    <tr>\n",
       "      <th>25</th>\n",
       "      <td>0</td>\n",
       "      <td>25</td>\n",
       "      <td>50</td>\n",
       "      <td>75</td>\n",
       "      <td>100</td>\n",
       "      <td>125</td>\n",
       "      <td>150</td>\n",
       "      <td>175</td>\n",
       "      <td>200</td>\n",
       "      <td>225</td>\n",
       "      <td>...</td>\n",
       "      <td>1325</td>\n",
       "      <td>1350</td>\n",
       "      <td>1375</td>\n",
       "      <td>1400</td>\n",
       "      <td>1425</td>\n",
       "      <td>1450</td>\n",
       "      <td>1475</td>\n",
       "      <td>1500</td>\n",
       "      <td>1525</td>\n",
       "      <td>1550</td>\n",
       "    </tr>\n",
       "    <tr>\n",
       "      <th>26</th>\n",
       "      <td>0</td>\n",
       "      <td>26</td>\n",
       "      <td>52</td>\n",
       "      <td>78</td>\n",
       "      <td>104</td>\n",
       "      <td>130</td>\n",
       "      <td>156</td>\n",
       "      <td>182</td>\n",
       "      <td>208</td>\n",
       "      <td>234</td>\n",
       "      <td>...</td>\n",
       "      <td>1378</td>\n",
       "      <td>1404</td>\n",
       "      <td>1430</td>\n",
       "      <td>1456</td>\n",
       "      <td>1482</td>\n",
       "      <td>1508</td>\n",
       "      <td>1534</td>\n",
       "      <td>1560</td>\n",
       "      <td>1586</td>\n",
       "      <td>1612</td>\n",
       "    </tr>\n",
       "    <tr>\n",
       "      <th>27</th>\n",
       "      <td>0</td>\n",
       "      <td>27</td>\n",
       "      <td>54</td>\n",
       "      <td>81</td>\n",
       "      <td>108</td>\n",
       "      <td>135</td>\n",
       "      <td>162</td>\n",
       "      <td>189</td>\n",
       "      <td>216</td>\n",
       "      <td>243</td>\n",
       "      <td>...</td>\n",
       "      <td>1431</td>\n",
       "      <td>1458</td>\n",
       "      <td>1485</td>\n",
       "      <td>1512</td>\n",
       "      <td>1539</td>\n",
       "      <td>1566</td>\n",
       "      <td>1593</td>\n",
       "      <td>1620</td>\n",
       "      <td>1647</td>\n",
       "      <td>1674</td>\n",
       "    </tr>\n",
       "    <tr>\n",
       "      <th>28</th>\n",
       "      <td>0</td>\n",
       "      <td>28</td>\n",
       "      <td>56</td>\n",
       "      <td>84</td>\n",
       "      <td>112</td>\n",
       "      <td>140</td>\n",
       "      <td>168</td>\n",
       "      <td>196</td>\n",
       "      <td>224</td>\n",
       "      <td>252</td>\n",
       "      <td>...</td>\n",
       "      <td>1484</td>\n",
       "      <td>1512</td>\n",
       "      <td>1540</td>\n",
       "      <td>1568</td>\n",
       "      <td>1596</td>\n",
       "      <td>1624</td>\n",
       "      <td>1652</td>\n",
       "      <td>1680</td>\n",
       "      <td>1708</td>\n",
       "      <td>1736</td>\n",
       "    </tr>\n",
       "    <tr>\n",
       "      <th>29</th>\n",
       "      <td>0</td>\n",
       "      <td>29</td>\n",
       "      <td>58</td>\n",
       "      <td>87</td>\n",
       "      <td>116</td>\n",
       "      <td>145</td>\n",
       "      <td>174</td>\n",
       "      <td>203</td>\n",
       "      <td>232</td>\n",
       "      <td>261</td>\n",
       "      <td>...</td>\n",
       "      <td>1537</td>\n",
       "      <td>1566</td>\n",
       "      <td>1595</td>\n",
       "      <td>1624</td>\n",
       "      <td>1653</td>\n",
       "      <td>1682</td>\n",
       "      <td>1711</td>\n",
       "      <td>1740</td>\n",
       "      <td>1769</td>\n",
       "      <td>1798</td>\n",
       "    </tr>\n",
       "    <tr>\n",
       "      <th>30</th>\n",
       "      <td>0</td>\n",
       "      <td>30</td>\n",
       "      <td>60</td>\n",
       "      <td>90</td>\n",
       "      <td>120</td>\n",
       "      <td>150</td>\n",
       "      <td>180</td>\n",
       "      <td>210</td>\n",
       "      <td>240</td>\n",
       "      <td>270</td>\n",
       "      <td>...</td>\n",
       "      <td>1590</td>\n",
       "      <td>1620</td>\n",
       "      <td>1650</td>\n",
       "      <td>1680</td>\n",
       "      <td>1710</td>\n",
       "      <td>1740</td>\n",
       "      <td>1770</td>\n",
       "      <td>1800</td>\n",
       "      <td>1830</td>\n",
       "      <td>1860</td>\n",
       "    </tr>\n",
       "    <tr>\n",
       "      <th>31</th>\n",
       "      <td>0</td>\n",
       "      <td>31</td>\n",
       "      <td>62</td>\n",
       "      <td>93</td>\n",
       "      <td>124</td>\n",
       "      <td>155</td>\n",
       "      <td>186</td>\n",
       "      <td>217</td>\n",
       "      <td>248</td>\n",
       "      <td>279</td>\n",
       "      <td>...</td>\n",
       "      <td>1643</td>\n",
       "      <td>1674</td>\n",
       "      <td>1705</td>\n",
       "      <td>1736</td>\n",
       "      <td>1767</td>\n",
       "      <td>1798</td>\n",
       "      <td>1829</td>\n",
       "      <td>1860</td>\n",
       "      <td>1891</td>\n",
       "      <td>1922</td>\n",
       "    </tr>\n",
       "    <tr>\n",
       "      <th>32</th>\n",
       "      <td>0</td>\n",
       "      <td>32</td>\n",
       "      <td>64</td>\n",
       "      <td>96</td>\n",
       "      <td>128</td>\n",
       "      <td>160</td>\n",
       "      <td>192</td>\n",
       "      <td>224</td>\n",
       "      <td>256</td>\n",
       "      <td>288</td>\n",
       "      <td>...</td>\n",
       "      <td>1696</td>\n",
       "      <td>1728</td>\n",
       "      <td>1760</td>\n",
       "      <td>1792</td>\n",
       "      <td>1824</td>\n",
       "      <td>1856</td>\n",
       "      <td>1888</td>\n",
       "      <td>1920</td>\n",
       "      <td>1952</td>\n",
       "      <td>1984</td>\n",
       "    </tr>\n",
       "    <tr>\n",
       "      <th>33</th>\n",
       "      <td>0</td>\n",
       "      <td>33</td>\n",
       "      <td>66</td>\n",
       "      <td>99</td>\n",
       "      <td>132</td>\n",
       "      <td>165</td>\n",
       "      <td>198</td>\n",
       "      <td>231</td>\n",
       "      <td>264</td>\n",
       "      <td>297</td>\n",
       "      <td>...</td>\n",
       "      <td>1749</td>\n",
       "      <td>1782</td>\n",
       "      <td>1815</td>\n",
       "      <td>1848</td>\n",
       "      <td>1881</td>\n",
       "      <td>1914</td>\n",
       "      <td>1947</td>\n",
       "      <td>1980</td>\n",
       "      <td>2013</td>\n",
       "      <td>2046</td>\n",
       "    </tr>\n",
       "    <tr>\n",
       "      <th>34</th>\n",
       "      <td>0</td>\n",
       "      <td>34</td>\n",
       "      <td>68</td>\n",
       "      <td>102</td>\n",
       "      <td>136</td>\n",
       "      <td>170</td>\n",
       "      <td>204</td>\n",
       "      <td>238</td>\n",
       "      <td>272</td>\n",
       "      <td>306</td>\n",
       "      <td>...</td>\n",
       "      <td>1802</td>\n",
       "      <td>1836</td>\n",
       "      <td>1870</td>\n",
       "      <td>1904</td>\n",
       "      <td>1938</td>\n",
       "      <td>1972</td>\n",
       "      <td>2006</td>\n",
       "      <td>2040</td>\n",
       "      <td>2074</td>\n",
       "      <td>2108</td>\n",
       "    </tr>\n",
       "    <tr>\n",
       "      <th>35</th>\n",
       "      <td>0</td>\n",
       "      <td>35</td>\n",
       "      <td>70</td>\n",
       "      <td>105</td>\n",
       "      <td>140</td>\n",
       "      <td>175</td>\n",
       "      <td>210</td>\n",
       "      <td>245</td>\n",
       "      <td>280</td>\n",
       "      <td>315</td>\n",
       "      <td>...</td>\n",
       "      <td>1855</td>\n",
       "      <td>1890</td>\n",
       "      <td>1925</td>\n",
       "      <td>1960</td>\n",
       "      <td>1995</td>\n",
       "      <td>2030</td>\n",
       "      <td>2065</td>\n",
       "      <td>2100</td>\n",
       "      <td>2135</td>\n",
       "      <td>2170</td>\n",
       "    </tr>\n",
       "    <tr>\n",
       "      <th>36</th>\n",
       "      <td>0</td>\n",
       "      <td>36</td>\n",
       "      <td>72</td>\n",
       "      <td>108</td>\n",
       "      <td>144</td>\n",
       "      <td>180</td>\n",
       "      <td>216</td>\n",
       "      <td>252</td>\n",
       "      <td>288</td>\n",
       "      <td>324</td>\n",
       "      <td>...</td>\n",
       "      <td>1908</td>\n",
       "      <td>1944</td>\n",
       "      <td>1980</td>\n",
       "      <td>2016</td>\n",
       "      <td>2052</td>\n",
       "      <td>2088</td>\n",
       "      <td>2124</td>\n",
       "      <td>2160</td>\n",
       "      <td>2196</td>\n",
       "      <td>2232</td>\n",
       "    </tr>\n",
       "    <tr>\n",
       "      <th>37</th>\n",
       "      <td>0</td>\n",
       "      <td>37</td>\n",
       "      <td>74</td>\n",
       "      <td>111</td>\n",
       "      <td>148</td>\n",
       "      <td>185</td>\n",
       "      <td>222</td>\n",
       "      <td>259</td>\n",
       "      <td>296</td>\n",
       "      <td>333</td>\n",
       "      <td>...</td>\n",
       "      <td>1961</td>\n",
       "      <td>1998</td>\n",
       "      <td>2035</td>\n",
       "      <td>2072</td>\n",
       "      <td>2109</td>\n",
       "      <td>2146</td>\n",
       "      <td>2183</td>\n",
       "      <td>2220</td>\n",
       "      <td>2257</td>\n",
       "      <td>2294</td>\n",
       "    </tr>\n",
       "    <tr>\n",
       "      <th>38</th>\n",
       "      <td>0</td>\n",
       "      <td>38</td>\n",
       "      <td>76</td>\n",
       "      <td>114</td>\n",
       "      <td>152</td>\n",
       "      <td>190</td>\n",
       "      <td>228</td>\n",
       "      <td>266</td>\n",
       "      <td>304</td>\n",
       "      <td>342</td>\n",
       "      <td>...</td>\n",
       "      <td>2014</td>\n",
       "      <td>2052</td>\n",
       "      <td>2090</td>\n",
       "      <td>2128</td>\n",
       "      <td>2166</td>\n",
       "      <td>2204</td>\n",
       "      <td>2242</td>\n",
       "      <td>2280</td>\n",
       "      <td>2318</td>\n",
       "      <td>2356</td>\n",
       "    </tr>\n",
       "    <tr>\n",
       "      <th>39</th>\n",
       "      <td>0</td>\n",
       "      <td>39</td>\n",
       "      <td>78</td>\n",
       "      <td>117</td>\n",
       "      <td>156</td>\n",
       "      <td>195</td>\n",
       "      <td>234</td>\n",
       "      <td>273</td>\n",
       "      <td>312</td>\n",
       "      <td>351</td>\n",
       "      <td>...</td>\n",
       "      <td>2067</td>\n",
       "      <td>2106</td>\n",
       "      <td>2145</td>\n",
       "      <td>2184</td>\n",
       "      <td>2223</td>\n",
       "      <td>2262</td>\n",
       "      <td>2301</td>\n",
       "      <td>2340</td>\n",
       "      <td>2379</td>\n",
       "      <td>2418</td>\n",
       "    </tr>\n",
       "    <tr>\n",
       "      <th>40</th>\n",
       "      <td>0</td>\n",
       "      <td>40</td>\n",
       "      <td>80</td>\n",
       "      <td>120</td>\n",
       "      <td>160</td>\n",
       "      <td>200</td>\n",
       "      <td>240</td>\n",
       "      <td>280</td>\n",
       "      <td>320</td>\n",
       "      <td>360</td>\n",
       "      <td>...</td>\n",
       "      <td>2120</td>\n",
       "      <td>2160</td>\n",
       "      <td>2200</td>\n",
       "      <td>2240</td>\n",
       "      <td>2280</td>\n",
       "      <td>2320</td>\n",
       "      <td>2360</td>\n",
       "      <td>2400</td>\n",
       "      <td>2440</td>\n",
       "      <td>2480</td>\n",
       "    </tr>\n",
       "    <tr>\n",
       "      <th>41</th>\n",
       "      <td>0</td>\n",
       "      <td>41</td>\n",
       "      <td>82</td>\n",
       "      <td>123</td>\n",
       "      <td>164</td>\n",
       "      <td>205</td>\n",
       "      <td>246</td>\n",
       "      <td>287</td>\n",
       "      <td>328</td>\n",
       "      <td>369</td>\n",
       "      <td>...</td>\n",
       "      <td>2173</td>\n",
       "      <td>2214</td>\n",
       "      <td>2255</td>\n",
       "      <td>2296</td>\n",
       "      <td>2337</td>\n",
       "      <td>2378</td>\n",
       "      <td>2419</td>\n",
       "      <td>2460</td>\n",
       "      <td>2501</td>\n",
       "      <td>2542</td>\n",
       "    </tr>\n",
       "    <tr>\n",
       "      <th>42</th>\n",
       "      <td>0</td>\n",
       "      <td>42</td>\n",
       "      <td>84</td>\n",
       "      <td>126</td>\n",
       "      <td>168</td>\n",
       "      <td>210</td>\n",
       "      <td>252</td>\n",
       "      <td>294</td>\n",
       "      <td>336</td>\n",
       "      <td>378</td>\n",
       "      <td>...</td>\n",
       "      <td>2226</td>\n",
       "      <td>2268</td>\n",
       "      <td>2310</td>\n",
       "      <td>2352</td>\n",
       "      <td>2394</td>\n",
       "      <td>2436</td>\n",
       "      <td>2478</td>\n",
       "      <td>2520</td>\n",
       "      <td>2562</td>\n",
       "      <td>2604</td>\n",
       "    </tr>\n",
       "    <tr>\n",
       "      <th>43</th>\n",
       "      <td>0</td>\n",
       "      <td>43</td>\n",
       "      <td>86</td>\n",
       "      <td>129</td>\n",
       "      <td>172</td>\n",
       "      <td>215</td>\n",
       "      <td>258</td>\n",
       "      <td>301</td>\n",
       "      <td>344</td>\n",
       "      <td>387</td>\n",
       "      <td>...</td>\n",
       "      <td>2279</td>\n",
       "      <td>2322</td>\n",
       "      <td>2365</td>\n",
       "      <td>2408</td>\n",
       "      <td>2451</td>\n",
       "      <td>2494</td>\n",
       "      <td>2537</td>\n",
       "      <td>2580</td>\n",
       "      <td>2623</td>\n",
       "      <td>2666</td>\n",
       "    </tr>\n",
       "    <tr>\n",
       "      <th>44</th>\n",
       "      <td>0</td>\n",
       "      <td>44</td>\n",
       "      <td>88</td>\n",
       "      <td>132</td>\n",
       "      <td>176</td>\n",
       "      <td>220</td>\n",
       "      <td>264</td>\n",
       "      <td>308</td>\n",
       "      <td>352</td>\n",
       "      <td>396</td>\n",
       "      <td>...</td>\n",
       "      <td>2332</td>\n",
       "      <td>2376</td>\n",
       "      <td>2420</td>\n",
       "      <td>2464</td>\n",
       "      <td>2508</td>\n",
       "      <td>2552</td>\n",
       "      <td>2596</td>\n",
       "      <td>2640</td>\n",
       "      <td>2684</td>\n",
       "      <td>2728</td>\n",
       "    </tr>\n",
       "    <tr>\n",
       "      <th>45</th>\n",
       "      <td>0</td>\n",
       "      <td>45</td>\n",
       "      <td>90</td>\n",
       "      <td>135</td>\n",
       "      <td>180</td>\n",
       "      <td>225</td>\n",
       "      <td>270</td>\n",
       "      <td>315</td>\n",
       "      <td>360</td>\n",
       "      <td>405</td>\n",
       "      <td>...</td>\n",
       "      <td>2385</td>\n",
       "      <td>2430</td>\n",
       "      <td>2475</td>\n",
       "      <td>2520</td>\n",
       "      <td>2565</td>\n",
       "      <td>2610</td>\n",
       "      <td>2655</td>\n",
       "      <td>2700</td>\n",
       "      <td>2745</td>\n",
       "      <td>2790</td>\n",
       "    </tr>\n",
       "    <tr>\n",
       "      <th>46</th>\n",
       "      <td>0</td>\n",
       "      <td>46</td>\n",
       "      <td>92</td>\n",
       "      <td>138</td>\n",
       "      <td>184</td>\n",
       "      <td>230</td>\n",
       "      <td>276</td>\n",
       "      <td>322</td>\n",
       "      <td>368</td>\n",
       "      <td>414</td>\n",
       "      <td>...</td>\n",
       "      <td>2438</td>\n",
       "      <td>2484</td>\n",
       "      <td>2530</td>\n",
       "      <td>2576</td>\n",
       "      <td>2622</td>\n",
       "      <td>2668</td>\n",
       "      <td>2714</td>\n",
       "      <td>2760</td>\n",
       "      <td>2806</td>\n",
       "      <td>2852</td>\n",
       "    </tr>\n",
       "    <tr>\n",
       "      <th>47</th>\n",
       "      <td>0</td>\n",
       "      <td>47</td>\n",
       "      <td>94</td>\n",
       "      <td>141</td>\n",
       "      <td>188</td>\n",
       "      <td>235</td>\n",
       "      <td>282</td>\n",
       "      <td>329</td>\n",
       "      <td>376</td>\n",
       "      <td>423</td>\n",
       "      <td>...</td>\n",
       "      <td>2491</td>\n",
       "      <td>2538</td>\n",
       "      <td>2585</td>\n",
       "      <td>2632</td>\n",
       "      <td>2679</td>\n",
       "      <td>2726</td>\n",
       "      <td>2773</td>\n",
       "      <td>2820</td>\n",
       "      <td>2867</td>\n",
       "      <td>2914</td>\n",
       "    </tr>\n",
       "    <tr>\n",
       "      <th>48</th>\n",
       "      <td>0</td>\n",
       "      <td>48</td>\n",
       "      <td>96</td>\n",
       "      <td>144</td>\n",
       "      <td>192</td>\n",
       "      <td>240</td>\n",
       "      <td>288</td>\n",
       "      <td>336</td>\n",
       "      <td>384</td>\n",
       "      <td>432</td>\n",
       "      <td>...</td>\n",
       "      <td>2544</td>\n",
       "      <td>2592</td>\n",
       "      <td>2640</td>\n",
       "      <td>2688</td>\n",
       "      <td>2736</td>\n",
       "      <td>2784</td>\n",
       "      <td>2832</td>\n",
       "      <td>2880</td>\n",
       "      <td>2928</td>\n",
       "      <td>2976</td>\n",
       "    </tr>\n",
       "    <tr>\n",
       "      <th>49</th>\n",
       "      <td>0</td>\n",
       "      <td>49</td>\n",
       "      <td>98</td>\n",
       "      <td>147</td>\n",
       "      <td>196</td>\n",
       "      <td>245</td>\n",
       "      <td>294</td>\n",
       "      <td>343</td>\n",
       "      <td>392</td>\n",
       "      <td>441</td>\n",
       "      <td>...</td>\n",
       "      <td>2597</td>\n",
       "      <td>2646</td>\n",
       "      <td>2695</td>\n",
       "      <td>2744</td>\n",
       "      <td>2793</td>\n",
       "      <td>2842</td>\n",
       "      <td>2891</td>\n",
       "      <td>2940</td>\n",
       "      <td>2989</td>\n",
       "      <td>3038</td>\n",
       "    </tr>\n",
       "  </tbody>\n",
       "</table>\n",
       "<p>50 rows × 63 columns</p>\n",
       "</div>"
      ],
      "text/plain": [
       "    0   1   2    3    4    5    6    7    8    9   ...    53    54    55  \\\n",
       "0    0   0   0    0    0    0    0    0    0    0  ...     0     0     0   \n",
       "1    0   1   2    3    4    5    6    7    8    9  ...    53    54    55   \n",
       "2    0   2   4    6    8   10   12   14   16   18  ...   106   108   110   \n",
       "3    0   3   6    9   12   15   18   21   24   27  ...   159   162   165   \n",
       "4    0   4   8   12   16   20   24   28   32   36  ...   212   216   220   \n",
       "5    0   5  10   15   20   25   30   35   40   45  ...   265   270   275   \n",
       "6    0   6  12   18   24   30   36   42   48   54  ...   318   324   330   \n",
       "7    0   7  14   21   28   35   42   49   56   63  ...   371   378   385   \n",
       "8    0   8  16   24   32   40   48   56   64   72  ...   424   432   440   \n",
       "9    0   9  18   27   36   45   54   63   72   81  ...   477   486   495   \n",
       "10   0  10  20   30   40   50   60   70   80   90  ...   530   540   550   \n",
       "11   0  11  22   33   44   55   66   77   88   99  ...   583   594   605   \n",
       "12   0  12  24   36   48   60   72   84   96  108  ...   636   648   660   \n",
       "13   0  13  26   39   52   65   78   91  104  117  ...   689   702   715   \n",
       "14   0  14  28   42   56   70   84   98  112  126  ...   742   756   770   \n",
       "15   0  15  30   45   60   75   90  105  120  135  ...   795   810   825   \n",
       "16   0  16  32   48   64   80   96  112  128  144  ...   848   864   880   \n",
       "17   0  17  34   51   68   85  102  119  136  153  ...   901   918   935   \n",
       "18   0  18  36   54   72   90  108  126  144  162  ...   954   972   990   \n",
       "19   0  19  38   57   76   95  114  133  152  171  ...  1007  1026  1045   \n",
       "20   0  20  40   60   80  100  120  140  160  180  ...  1060  1080  1100   \n",
       "21   0  21  42   63   84  105  126  147  168  189  ...  1113  1134  1155   \n",
       "22   0  22  44   66   88  110  132  154  176  198  ...  1166  1188  1210   \n",
       "23   0  23  46   69   92  115  138  161  184  207  ...  1219  1242  1265   \n",
       "24   0  24  48   72   96  120  144  168  192  216  ...  1272  1296  1320   \n",
       "25   0  25  50   75  100  125  150  175  200  225  ...  1325  1350  1375   \n",
       "26   0  26  52   78  104  130  156  182  208  234  ...  1378  1404  1430   \n",
       "27   0  27  54   81  108  135  162  189  216  243  ...  1431  1458  1485   \n",
       "28   0  28  56   84  112  140  168  196  224  252  ...  1484  1512  1540   \n",
       "29   0  29  58   87  116  145  174  203  232  261  ...  1537  1566  1595   \n",
       "30   0  30  60   90  120  150  180  210  240  270  ...  1590  1620  1650   \n",
       "31   0  31  62   93  124  155  186  217  248  279  ...  1643  1674  1705   \n",
       "32   0  32  64   96  128  160  192  224  256  288  ...  1696  1728  1760   \n",
       "33   0  33  66   99  132  165  198  231  264  297  ...  1749  1782  1815   \n",
       "34   0  34  68  102  136  170  204  238  272  306  ...  1802  1836  1870   \n",
       "35   0  35  70  105  140  175  210  245  280  315  ...  1855  1890  1925   \n",
       "36   0  36  72  108  144  180  216  252  288  324  ...  1908  1944  1980   \n",
       "37   0  37  74  111  148  185  222  259  296  333  ...  1961  1998  2035   \n",
       "38   0  38  76  114  152  190  228  266  304  342  ...  2014  2052  2090   \n",
       "39   0  39  78  117  156  195  234  273  312  351  ...  2067  2106  2145   \n",
       "40   0  40  80  120  160  200  240  280  320  360  ...  2120  2160  2200   \n",
       "41   0  41  82  123  164  205  246  287  328  369  ...  2173  2214  2255   \n",
       "42   0  42  84  126  168  210  252  294  336  378  ...  2226  2268  2310   \n",
       "43   0  43  86  129  172  215  258  301  344  387  ...  2279  2322  2365   \n",
       "44   0  44  88  132  176  220  264  308  352  396  ...  2332  2376  2420   \n",
       "45   0  45  90  135  180  225  270  315  360  405  ...  2385  2430  2475   \n",
       "46   0  46  92  138  184  230  276  322  368  414  ...  2438  2484  2530   \n",
       "47   0  47  94  141  188  235  282  329  376  423  ...  2491  2538  2585   \n",
       "48   0  48  96  144  192  240  288  336  384  432  ...  2544  2592  2640   \n",
       "49   0  49  98  147  196  245  294  343  392  441  ...  2597  2646  2695   \n",
       "\n",
       "      56    57    58    59    60    61    62  \n",
       "0      0     0     0     0     0     0     0  \n",
       "1     56    57    58    59    60    61    62  \n",
       "2    112   114   116   118   120   122   124  \n",
       "3    168   171   174   177   180   183   186  \n",
       "4    224   228   232   236   240   244   248  \n",
       "5    280   285   290   295   300   305   310  \n",
       "6    336   342   348   354   360   366   372  \n",
       "7    392   399   406   413   420   427   434  \n",
       "8    448   456   464   472   480   488   496  \n",
       "9    504   513   522   531   540   549   558  \n",
       "10   560   570   580   590   600   610   620  \n",
       "11   616   627   638   649   660   671   682  \n",
       "12   672   684   696   708   720   732   744  \n",
       "13   728   741   754   767   780   793   806  \n",
       "14   784   798   812   826   840   854   868  \n",
       "15   840   855   870   885   900   915   930  \n",
       "16   896   912   928   944   960   976   992  \n",
       "17   952   969   986  1003  1020  1037  1054  \n",
       "18  1008  1026  1044  1062  1080  1098  1116  \n",
       "19  1064  1083  1102  1121  1140  1159  1178  \n",
       "20  1120  1140  1160  1180  1200  1220  1240  \n",
       "21  1176  1197  1218  1239  1260  1281  1302  \n",
       "22  1232  1254  1276  1298  1320  1342  1364  \n",
       "23  1288  1311  1334  1357  1380  1403  1426  \n",
       "24  1344  1368  1392  1416  1440  1464  1488  \n",
       "25  1400  1425  1450  1475  1500  1525  1550  \n",
       "26  1456  1482  1508  1534  1560  1586  1612  \n",
       "27  1512  1539  1566  1593  1620  1647  1674  \n",
       "28  1568  1596  1624  1652  1680  1708  1736  \n",
       "29  1624  1653  1682  1711  1740  1769  1798  \n",
       "30  1680  1710  1740  1770  1800  1830  1860  \n",
       "31  1736  1767  1798  1829  1860  1891  1922  \n",
       "32  1792  1824  1856  1888  1920  1952  1984  \n",
       "33  1848  1881  1914  1947  1980  2013  2046  \n",
       "34  1904  1938  1972  2006  2040  2074  2108  \n",
       "35  1960  1995  2030  2065  2100  2135  2170  \n",
       "36  2016  2052  2088  2124  2160  2196  2232  \n",
       "37  2072  2109  2146  2183  2220  2257  2294  \n",
       "38  2128  2166  2204  2242  2280  2318  2356  \n",
       "39  2184  2223  2262  2301  2340  2379  2418  \n",
       "40  2240  2280  2320  2360  2400  2440  2480  \n",
       "41  2296  2337  2378  2419  2460  2501  2542  \n",
       "42  2352  2394  2436  2478  2520  2562  2604  \n",
       "43  2408  2451  2494  2537  2580  2623  2666  \n",
       "44  2464  2508  2552  2596  2640  2684  2728  \n",
       "45  2520  2565  2610  2655  2700  2745  2790  \n",
       "46  2576  2622  2668  2714  2760  2806  2852  \n",
       "47  2632  2679  2726  2773  2820  2867  2914  \n",
       "48  2688  2736  2784  2832  2880  2928  2976  \n",
       "49  2744  2793  2842  2891  2940  2989  3038  \n",
       "\n",
       "[50 rows x 63 columns]"
      ]
     },
     "execution_count": 96,
     "metadata": {},
     "output_type": "execute_result"
    }
   ],
   "source": [
    "pd.DataFrame(a)"
   ]
  },
  {
   "cell_type": "code",
   "execution_count": 6,
   "id": "f4113ae2",
   "metadata": {},
   "outputs": [
    {
     "data": {
      "text/plain": [
       "array([[[0.85044411, 0.11583471, 0.74326298, 0.75558781],\n",
       "        [0.44268781, 0.97914913, 0.97873456, 0.76570105],\n",
       "        [0.81527623, 0.22854774, 0.22386392, 0.24392691]],\n",
       "\n",
       "       [[0.59501997, 0.56660978, 0.44258261, 0.16931072],\n",
       "        [0.14218603, 0.40286531, 0.16768956, 0.32341898],\n",
       "        [0.6085324 , 0.48396341, 0.6254362 , 0.4193485 ]]])"
      ]
     },
     "execution_count": 6,
     "metadata": {},
     "output_type": "execute_result"
    }
   ],
   "source": [
    "np.random.rand(2, 3, 4)"
   ]
  },
  {
   "cell_type": "code",
   "execution_count": 104,
   "id": "3c94ced4",
   "metadata": {},
   "outputs": [
    {
     "data": {
      "text/plain": [
       "12"
      ]
     },
     "execution_count": 104,
     "metadata": {},
     "output_type": "execute_result"
    }
   ],
   "source": [
    "np.random.randint(10,20)"
   ]
  },
  {
   "cell_type": "code",
   "execution_count": 106,
   "id": "ae533a13",
   "metadata": {},
   "outputs": [
    {
     "data": {
      "text/plain": [
       "array([[ 1.49641135, -0.11183883, -0.44082792, -0.19266789],\n",
       "       [ 0.57949449,  0.17396266, -0.36922054, -0.96913993],\n",
       "       [ 0.93994028, -0.9740126 ,  1.32258756, -0.63580842],\n",
       "       [-1.74673448,  1.19073664,  1.56191645,  0.30980047]])"
      ]
     },
     "execution_count": 106,
     "metadata": {},
     "output_type": "execute_result"
    }
   ],
   "source": [
    "np.random.randn(4,4)"
   ]
  },
  {
   "cell_type": "code",
   "execution_count": 114,
   "id": "1e11f5d8",
   "metadata": {},
   "outputs": [
    {
     "data": {
      "text/html": [
       "<div>\n",
       "<style scoped>\n",
       "    .dataframe tbody tr th:only-of-type {\n",
       "        vertical-align: middle;\n",
       "    }\n",
       "\n",
       "    .dataframe tbody tr th {\n",
       "        vertical-align: top;\n",
       "    }\n",
       "\n",
       "    .dataframe thead th {\n",
       "        text-align: right;\n",
       "    }\n",
       "</style>\n",
       "<table border=\"1\" class=\"dataframe\">\n",
       "  <thead>\n",
       "    <tr style=\"text-align: right;\">\n",
       "      <th></th>\n",
       "      <th>0</th>\n",
       "      <th>1</th>\n",
       "      <th>2</th>\n",
       "      <th>3</th>\n",
       "      <th>4</th>\n",
       "      <th>5</th>\n",
       "      <th>6</th>\n",
       "      <th>7</th>\n",
       "    </tr>\n",
       "  </thead>\n",
       "  <tbody>\n",
       "    <tr>\n",
       "      <th>0</th>\n",
       "      <td>0</td>\n",
       "      <td>1</td>\n",
       "      <td>1</td>\n",
       "      <td>2</td>\n",
       "      <td>2</td>\n",
       "      <td>3</td>\n",
       "      <td>1</td>\n",
       "      <td>2</td>\n",
       "    </tr>\n",
       "    <tr>\n",
       "      <th>1</th>\n",
       "      <td>2</td>\n",
       "      <td>3</td>\n",
       "      <td>3</td>\n",
       "      <td>4</td>\n",
       "      <td>2</td>\n",
       "      <td>3</td>\n",
       "      <td>3</td>\n",
       "      <td>4</td>\n",
       "    </tr>\n",
       "    <tr>\n",
       "      <th>2</th>\n",
       "      <td>4</td>\n",
       "      <td>5</td>\n",
       "      <td>3</td>\n",
       "      <td>4</td>\n",
       "      <td>4</td>\n",
       "      <td>5</td>\n",
       "      <td>5</td>\n",
       "      <td>6</td>\n",
       "    </tr>\n",
       "    <tr>\n",
       "      <th>3</th>\n",
       "      <td>1</td>\n",
       "      <td>2</td>\n",
       "      <td>2</td>\n",
       "      <td>3</td>\n",
       "      <td>3</td>\n",
       "      <td>4</td>\n",
       "      <td>2</td>\n",
       "      <td>3</td>\n",
       "    </tr>\n",
       "    <tr>\n",
       "      <th>4</th>\n",
       "      <td>3</td>\n",
       "      <td>4</td>\n",
       "      <td>4</td>\n",
       "      <td>5</td>\n",
       "      <td>3</td>\n",
       "      <td>4</td>\n",
       "      <td>4</td>\n",
       "      <td>5</td>\n",
       "    </tr>\n",
       "    <tr>\n",
       "      <th>5</th>\n",
       "      <td>5</td>\n",
       "      <td>6</td>\n",
       "      <td>4</td>\n",
       "      <td>5</td>\n",
       "      <td>5</td>\n",
       "      <td>6</td>\n",
       "      <td>6</td>\n",
       "      <td>7</td>\n",
       "    </tr>\n",
       "    <tr>\n",
       "      <th>6</th>\n",
       "      <td>2</td>\n",
       "      <td>3</td>\n",
       "      <td>3</td>\n",
       "      <td>4</td>\n",
       "      <td>4</td>\n",
       "      <td>5</td>\n",
       "      <td>3</td>\n",
       "      <td>4</td>\n",
       "    </tr>\n",
       "    <tr>\n",
       "      <th>7</th>\n",
       "      <td>4</td>\n",
       "      <td>5</td>\n",
       "      <td>5</td>\n",
       "      <td>6</td>\n",
       "      <td>4</td>\n",
       "      <td>5</td>\n",
       "      <td>5</td>\n",
       "      <td>6</td>\n",
       "    </tr>\n",
       "    <tr>\n",
       "      <th>8</th>\n",
       "      <td>6</td>\n",
       "      <td>7</td>\n",
       "      <td>5</td>\n",
       "      <td>6</td>\n",
       "      <td>6</td>\n",
       "      <td>7</td>\n",
       "      <td>7</td>\n",
       "      <td>8</td>\n",
       "    </tr>\n",
       "  </tbody>\n",
       "</table>\n",
       "</div>"
      ],
      "text/plain": [
       "   0  1  2  3  4  5  6  7\n",
       "0  0  1  1  2  2  3  1  2\n",
       "1  2  3  3  4  2  3  3  4\n",
       "2  4  5  3  4  4  5  5  6\n",
       "3  1  2  2  3  3  4  2  3\n",
       "4  3  4  4  5  3  4  4  5\n",
       "5  5  6  4  5  5  6  6  7\n",
       "6  2  3  3  4  4  5  3  4\n",
       "7  4  5  5  6  4  5  5  6\n",
       "8  6  7  5  6  6  7  7  8"
      ]
     },
     "execution_count": 114,
     "metadata": {},
     "output_type": "execute_result"
    }
   ],
   "source": [
    "pd.DataFrame(a.reshape(9,8))"
   ]
  },
  {
   "cell_type": "code",
   "execution_count": 122,
   "id": "860f9593",
   "metadata": {},
   "outputs": [
    {
     "data": {
      "text/plain": [
       "[4, 5, 6, 7, 8, 9]"
      ]
     },
     "execution_count": 122,
     "metadata": {},
     "output_type": "execute_result"
    }
   ],
   "source": [
    "list(range(4,10))"
   ]
  },
  {
   "cell_type": "code",
   "execution_count": 127,
   "id": "0ab9d08c",
   "metadata": {},
   "outputs": [
    {
     "data": {
      "text/plain": [
       "array([4, 5, 6, 7, 8, 9])"
      ]
     },
     "execution_count": 127,
     "metadata": {},
     "output_type": "execute_result"
    }
   ],
   "source": [
    "np.arange(4,10)"
   ]
  },
  {
   "cell_type": "code",
   "execution_count": 133,
   "id": "a1ea2c91",
   "metadata": {},
   "outputs": [
    {
     "data": {
      "text/plain": [
       "array([2, 4, 6, 8])"
      ]
     },
     "execution_count": 133,
     "metadata": {},
     "output_type": "execute_result"
    }
   ],
   "source": [
    "np.arange(2,10, 2)"
   ]
  },
  {
   "cell_type": "code",
   "execution_count": 164,
   "id": "02b99937",
   "metadata": {},
   "outputs": [],
   "source": [
    "arr = np.random.rand(10,8)"
   ]
  },
  {
   "cell_type": "code",
   "execution_count": 165,
   "id": "c0ada3d6",
   "metadata": {},
   "outputs": [
    {
     "data": {
      "text/plain": [
       "array([[0.52537909, 0.42129797, 0.25050181, 0.11631013, 0.79989646,\n",
       "        0.28833784, 0.91716542, 0.6087625 ],\n",
       "       [0.37403341, 0.0534262 , 0.16646157, 0.05888736, 0.42568025,\n",
       "        0.73660861, 0.98795017, 0.63256761],\n",
       "       [0.90772467, 0.1163974 , 0.83149777, 0.29275711, 0.75602835,\n",
       "        0.05771343, 0.92257052, 0.96811441],\n",
       "       [0.11071673, 0.38013985, 0.13564122, 0.50814956, 0.09956132,\n",
       "        0.5914429 , 0.99560365, 0.67867784],\n",
       "       [0.06510859, 0.16365081, 0.79909302, 0.93962515, 0.10872363,\n",
       "        0.97791203, 0.01214691, 0.45776771],\n",
       "       [0.34024439, 0.93114336, 0.45017337, 0.19494103, 0.98032436,\n",
       "        0.68771458, 0.93452393, 0.93024409],\n",
       "       [0.98916947, 0.91796071, 0.36678542, 0.36168169, 0.16110473,\n",
       "        0.51183823, 0.62752594, 0.94764316],\n",
       "       [0.76300192, 0.99303265, 0.09464191, 0.56730582, 0.89250462,\n",
       "        0.29120899, 0.65939718, 0.67110472],\n",
       "       [0.23682927, 0.50996866, 0.81546987, 0.81384019, 0.03462937,\n",
       "        0.16271212, 0.44397352, 0.54199242],\n",
       "       [0.7494727 , 0.93066922, 0.88977878, 0.31973505, 0.10937651,\n",
       "        0.5700673 , 0.14331254, 0.65002901]])"
      ]
     },
     "execution_count": 165,
     "metadata": {},
     "output_type": "execute_result"
    }
   ],
   "source": [
    "arr"
   ]
  },
  {
   "cell_type": "code",
   "execution_count": 166,
   "id": "c82114d7",
   "metadata": {},
   "outputs": [
    {
     "data": {
      "text/plain": [
       "array([0.52537909, 0.79989646, 0.91716542, 0.6087625 , 0.73660861,\n",
       "       0.98795017, 0.63256761, 0.90772467, 0.83149777, 0.75602835,\n",
       "       0.92257052, 0.96811441, 0.50814956, 0.5914429 , 0.99560365,\n",
       "       0.67867784, 0.79909302, 0.93962515, 0.97791203, 0.93114336,\n",
       "       0.98032436, 0.68771458, 0.93452393, 0.93024409, 0.98916947,\n",
       "       0.91796071, 0.51183823, 0.62752594, 0.94764316, 0.76300192,\n",
       "       0.99303265, 0.56730582, 0.89250462, 0.65939718, 0.67110472,\n",
       "       0.50996866, 0.81546987, 0.81384019, 0.54199242, 0.7494727 ,\n",
       "       0.93066922, 0.88977878, 0.5700673 , 0.65002901])"
      ]
     },
     "execution_count": 166,
     "metadata": {},
     "output_type": "execute_result"
    }
   ],
   "source": [
    "arr[arr>.5]"
   ]
  },
  {
   "cell_type": "code",
   "execution_count": 168,
   "id": "f6552245",
   "metadata": {},
   "outputs": [
    {
     "data": {
      "text/plain": [
       "array([0.16646157, 0.83149777])"
      ]
     },
     "execution_count": 168,
     "metadata": {},
     "output_type": "execute_result"
    }
   ],
   "source": [
    "arr[[1,2],[2]]"
   ]
  },
  {
   "cell_type": "code",
   "execution_count": 170,
   "id": "432b879c",
   "metadata": {},
   "outputs": [],
   "source": [
    "a2=arr[3:8, 0:4]"
   ]
  },
  {
   "cell_type": "code",
   "execution_count": 171,
   "id": "0b820046",
   "metadata": {},
   "outputs": [
    {
     "data": {
      "text/plain": [
       "array([[0.11071673, 0.38013985, 0.13564122, 0.50814956],\n",
       "       [0.06510859, 0.16365081, 0.79909302, 0.93962515],\n",
       "       [0.34024439, 0.93114336, 0.45017337, 0.19494103],\n",
       "       [0.98916947, 0.91796071, 0.36678542, 0.36168169],\n",
       "       [0.76300192, 0.99303265, 0.09464191, 0.56730582]])"
      ]
     },
     "execution_count": 171,
     "metadata": {},
     "output_type": "execute_result"
    }
   ],
   "source": [
    "a2"
   ]
  },
  {
   "cell_type": "code",
   "execution_count": 172,
   "id": "c1533f0a",
   "metadata": {},
   "outputs": [
    {
     "data": {
      "text/plain": [
       "0.11071672683192746"
      ]
     },
     "execution_count": 172,
     "metadata": {},
     "output_type": "execute_result"
    }
   ],
   "source": [
    "a2[0][0]"
   ]
  },
  {
   "cell_type": "code",
   "execution_count": 173,
   "id": "e2bbcf8b",
   "metadata": {},
   "outputs": [],
   "source": [
    "a2[0][0]=0.324565"
   ]
  },
  {
   "cell_type": "code",
   "execution_count": 174,
   "id": "38ae4de0",
   "metadata": {},
   "outputs": [
    {
     "data": {
      "text/plain": [
       "array([[0.324565  , 0.38013985, 0.13564122, 0.50814956],\n",
       "       [0.06510859, 0.16365081, 0.79909302, 0.93962515],\n",
       "       [0.34024439, 0.93114336, 0.45017337, 0.19494103],\n",
       "       [0.98916947, 0.91796071, 0.36678542, 0.36168169],\n",
       "       [0.76300192, 0.99303265, 0.09464191, 0.56730582]])"
      ]
     },
     "execution_count": 174,
     "metadata": {},
     "output_type": "execute_result"
    }
   ],
   "source": [
    "a2"
   ]
  },
  {
   "cell_type": "code",
   "execution_count": 179,
   "id": "9618ae38",
   "metadata": {},
   "outputs": [],
   "source": [
    "a = np.array([[1,2],[3,4]])"
   ]
  },
  {
   "cell_type": "code",
   "execution_count": 188,
   "id": "f97a6d04",
   "metadata": {},
   "outputs": [],
   "source": [
    "b = np.array([[2,3],[4,5]])"
   ]
  },
  {
   "cell_type": "code",
   "execution_count": 181,
   "id": "01a5ab20",
   "metadata": {},
   "outputs": [
    {
     "data": {
      "text/plain": [
       "array([[1, 2],\n",
       "       [3, 4]])"
      ]
     },
     "execution_count": 181,
     "metadata": {},
     "output_type": "execute_result"
    }
   ],
   "source": [
    "a"
   ]
  },
  {
   "cell_type": "code",
   "execution_count": 182,
   "id": "0eb61eca",
   "metadata": {},
   "outputs": [
    {
     "data": {
      "text/plain": [
       "array([[2, 3],\n",
       "       [4, 5]])"
      ]
     },
     "execution_count": 182,
     "metadata": {},
     "output_type": "execute_result"
    }
   ],
   "source": [
    "b"
   ]
  },
  {
   "cell_type": "code",
   "execution_count": 189,
   "id": "2de220b5",
   "metadata": {},
   "outputs": [
    {
     "data": {
      "text/plain": [
       "array([[ 2,  6],\n",
       "       [12, 20]])"
      ]
     },
     "execution_count": 189,
     "metadata": {},
     "output_type": "execute_result"
    }
   ],
   "source": [
    "a*b"
   ]
  },
  {
   "cell_type": "code",
   "execution_count": 191,
   "id": "072ae128",
   "metadata": {},
   "outputs": [],
   "source": [
    "m = a@b"
   ]
  },
  {
   "cell_type": "code",
   "execution_count": 196,
   "id": "99467b31",
   "metadata": {},
   "outputs": [
    {
     "name": "stderr",
     "output_type": "stream",
     "text": [
      "C:\\Users\\bvams\\AppData\\Local\\Temp\\ipykernel_23612\\3791875896.py:1: RuntimeWarning: divide by zero encountered in true_divide\n",
      "  m/0\n"
     ]
    },
    {
     "data": {
      "text/plain": [
       "array([[inf, inf],\n",
       "       [inf, inf]])"
      ]
     },
     "execution_count": 196,
     "metadata": {},
     "output_type": "execute_result"
    }
   ],
   "source": [
    "m/0"
   ]
  },
  {
   "cell_type": "code",
   "execution_count": null,
   "id": "1ca669ec",
   "metadata": {},
   "outputs": [],
   "source": []
  }
 ],
 "metadata": {
  "kernelspec": {
   "display_name": "Python 3 (ipykernel)",
   "language": "python",
   "name": "python3"
  },
  "language_info": {
   "codemirror_mode": {
    "name": "ipython",
    "version": 3
   },
   "file_extension": ".py",
   "mimetype": "text/x-python",
   "name": "python",
   "nbconvert_exporter": "python",
   "pygments_lexer": "ipython3",
   "version": "3.9.7"
  }
 },
 "nbformat": 4,
 "nbformat_minor": 5
}
