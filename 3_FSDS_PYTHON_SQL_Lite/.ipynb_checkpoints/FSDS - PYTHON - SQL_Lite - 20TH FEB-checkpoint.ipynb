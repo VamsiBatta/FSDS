{
 "cells": [
  {
   "cell_type": "code",
   "execution_count": 3,
   "id": "f5512ef9",
   "metadata": {},
   "outputs": [],
   "source": [
    "import sqlite3"
   ]
  },
  {
   "cell_type": "code",
   "execution_count": 4,
   "id": "7eab1d83",
   "metadata": {},
   "outputs": [],
   "source": [
    "db = sqlite3.connect(\"abcd.db\")"
   ]
  },
  {
   "cell_type": "code",
   "execution_count": 5,
   "id": "3de8f009",
   "metadata": {},
   "outputs": [
    {
     "name": "stdout",
     "output_type": "stream",
     "text": [
      " Volume in drive C has no label.\n",
      " Volume Serial Number is F832-2B0D\n",
      "\n",
      " Directory of C:\\Users\\bvams\\Documents\\FSDS\\FSDS - PYTHON - SQL_Lite\n",
      "\n",
      "08/21/2022  04:31 PM    <DIR>          .\n",
      "08/21/2022  04:18 PM    <DIR>          ..\n",
      "08/21/2022  04:18 PM    <DIR>          .ipynb_checkpoints\n",
      "08/21/2022  04:31 PM                 0 abcd.db\n",
      "08/21/2022  04:30 PM               777 FSDS - PYTHON - SQL_Lite - 20TH FEB.ipynb\n",
      "               2 File(s)            777 bytes\n",
      "               3 Dir(s)  101,343,596,544 bytes free\n"
     ]
    }
   ],
   "source": [
    "ls"
   ]
  },
  {
   "cell_type": "code",
   "execution_count": 6,
   "id": "0eb88a8f",
   "metadata": {},
   "outputs": [],
   "source": [
    "c = db.cursor()"
   ]
  },
  {
   "cell_type": "code",
   "execution_count": 7,
   "id": "6001e60a",
   "metadata": {},
   "outputs": [
    {
     "data": {
      "text/plain": [
       "<sqlite3.Cursor at 0x1e47689fe30>"
      ]
     },
     "execution_count": 7,
     "metadata": {},
     "output_type": "execute_result"
    }
   ],
   "source": [
    "c.execute(\"create table fsds(name text, batchid int, marks real)\")"
   ]
  },
  {
   "cell_type": "code",
   "execution_count": 8,
   "id": "4e1b7f86",
   "metadata": {},
   "outputs": [
    {
     "name": "stdout",
     "output_type": "stream",
     "text": [
      " Volume in drive C has no label.\n",
      " Volume Serial Number is F832-2B0D\n",
      "\n",
      " Directory of C:\\Users\\bvams\\Documents\\FSDS\\FSDS - PYTHON - SQL_Lite\n",
      "\n",
      "08/21/2022  04:38 PM    <DIR>          .\n",
      "08/21/2022  04:18 PM    <DIR>          ..\n",
      "08/21/2022  04:18 PM    <DIR>          .ipynb_checkpoints\n",
      "08/21/2022  04:38 PM             8,192 abcd.db\n",
      "08/21/2022  04:38 PM             2,377 FSDS - PYTHON - SQL_Lite - 20TH FEB.ipynb\n",
      "               2 File(s)         10,569 bytes\n",
      "               3 Dir(s)  101,514,854,400 bytes free\n"
     ]
    }
   ],
   "source": [
    "ls"
   ]
  },
  {
   "cell_type": "code",
   "execution_count": 16,
   "id": "5d3c4d90",
   "metadata": {},
   "outputs": [
    {
     "data": {
      "text/plain": [
       "<sqlite3.Cursor at 0x1e47689fe30>"
      ]
     },
     "execution_count": 16,
     "metadata": {},
     "output_type": "execute_result"
    }
   ],
   "source": [
    "c.execute(\"insert into fsds values('Vamsi', 5636, 674.4)\")\n",
    "c.execute(\"insert into fsds values('Vamsi', 5636, 674.4)\")\n",
    "c.execute(\"insert into fsds values('Vamsi', 5636, 674.4)\")\n",
    "c.execute(\"insert into fsds values('Vamsi', 5636, 674.4)\")\n",
    "c.execute(\"insert into fsds values('Vamsi', 5636, 674.4)\")\n",
    "c.execute(\"insert into fsds values('Vamsi', 5636, 674.4)\")\n",
    "c.execute(\"insert into fsds values('Vamsi', 5636, 674.4)\")\n",
    "c.execute(\"insert into fsds values('Vamsi', 5636, 674.4)\")\n",
    "c.execute(\"insert into fsds values('Vamsi', 5636, 674.4)\")"
   ]
  },
  {
   "cell_type": "code",
   "execution_count": 17,
   "id": "11c1568b",
   "metadata": {},
   "outputs": [],
   "source": [
    "data = c.execute(\"select * from fsds\")"
   ]
  },
  {
   "cell_type": "code",
   "execution_count": 18,
   "id": "9e97ffc4",
   "metadata": {},
   "outputs": [
    {
     "name": "stdout",
     "output_type": "stream",
     "text": [
      "('Vamsi', 5636, 674.4)\n",
      "('Vamsi', 5636, 674.4)\n",
      "('Vamsi', 5636, 674.4)\n",
      "('Vamsi', 5636, 674.4)\n",
      "('Vamsi', 5636, 674.4)\n",
      "('Vamsi', 5636, 674.4)\n",
      "('Vamsi', 5636, 674.4)\n",
      "('Vamsi', 5636, 674.4)\n",
      "('Vamsi', 5636, 674.4)\n",
      "('Vamsi', 5636, 674.4)\n",
      "('Vamsi', 5636, 674.4)\n",
      "('Vamsi', 5636, 674.4)\n",
      "('Vamsi', 5636, 674.4)\n",
      "('Vamsi', 5636, 674.4)\n",
      "('Vamsi', 5636, 674.4)\n",
      "('Vamsi', 5636, 674.4)\n",
      "('Vamsi', 5636, 674.4)\n",
      "('Vamsi', 5636, 674.4)\n",
      "('Vamsi', 5636, 674.4)\n",
      "('Vamsi', 5636, 674.4)\n",
      "('Vamsi', 5636, 674.4)\n",
      "('Vamsi', 5636, 674.4)\n"
     ]
    }
   ],
   "source": [
    "for i in data:\n",
    "    print(i)"
   ]
  },
  {
   "cell_type": "code",
   "execution_count": 19,
   "id": "6cc4d778",
   "metadata": {},
   "outputs": [],
   "source": [
    "db.commit()"
   ]
  },
  {
   "cell_type": "code",
   "execution_count": 20,
   "id": "51ebf6cb",
   "metadata": {},
   "outputs": [],
   "source": [
    "db.close()"
   ]
  },
  {
   "cell_type": "code",
   "execution_count": 21,
   "id": "e9a80fa2",
   "metadata": {},
   "outputs": [
    {
     "name": "stdout",
     "output_type": "stream",
     "text": [
      " Volume in drive C has no label.\n",
      " Volume Serial Number is F832-2B0D\n",
      "\n",
      " Directory of C:\\Users\\bvams\\Documents\\FSDS\\FSDS - PYTHON - SQL_Lite\n",
      "\n",
      "08/21/2022  04:44 PM    <DIR>          .\n",
      "08/21/2022  04:18 PM    <DIR>          ..\n",
      "08/21/2022  04:18 PM    <DIR>          .ipynb_checkpoints\n",
      "08/21/2022  04:44 PM             8,192 abcd.db\n",
      "08/21/2022  04:44 PM             5,562 FSDS - PYTHON - SQL_Lite - 20TH FEB.ipynb\n",
      "               2 File(s)         13,754 bytes\n",
      "               3 Dir(s)  101,513,011,200 bytes free\n"
     ]
    }
   ],
   "source": [
    "ls"
   ]
  },
  {
   "cell_type": "code",
   "execution_count": 24,
   "id": "e605c9bf",
   "metadata": {},
   "outputs": [],
   "source": [
    "db = sqlite3.connect(\"abcd.db\")"
   ]
  },
  {
   "cell_type": "code",
   "execution_count": 25,
   "id": "3843b5b9",
   "metadata": {},
   "outputs": [],
   "source": [
    "c = db.cursor()"
   ]
  },
  {
   "cell_type": "code",
   "execution_count": 26,
   "id": "c9030a6e",
   "metadata": {},
   "outputs": [],
   "source": [
    "data = c.execute(\"select * from fsds where marks > 600\")"
   ]
  },
  {
   "cell_type": "code",
   "execution_count": 27,
   "id": "40ee9780",
   "metadata": {},
   "outputs": [
    {
     "name": "stdout",
     "output_type": "stream",
     "text": [
      "('Vamsi', 5636, 674.4)\n",
      "('Vamsi', 5636, 674.4)\n",
      "('Vamsi', 5636, 674.4)\n",
      "('Vamsi', 5636, 674.4)\n",
      "('Vamsi', 5636, 674.4)\n",
      "('Vamsi', 5636, 674.4)\n",
      "('Vamsi', 5636, 674.4)\n",
      "('Vamsi', 5636, 674.4)\n",
      "('Vamsi', 5636, 674.4)\n",
      "('Vamsi', 5636, 674.4)\n",
      "('Vamsi', 5636, 674.4)\n",
      "('Vamsi', 5636, 674.4)\n",
      "('Vamsi', 5636, 674.4)\n",
      "('Vamsi', 5636, 674.4)\n",
      "('Vamsi', 5636, 674.4)\n",
      "('Vamsi', 5636, 674.4)\n",
      "('Vamsi', 5636, 674.4)\n",
      "('Vamsi', 5636, 674.4)\n",
      "('Vamsi', 5636, 674.4)\n",
      "('Vamsi', 5636, 674.4)\n",
      "('Vamsi', 5636, 674.4)\n",
      "('Vamsi', 5636, 674.4)\n"
     ]
    }
   ],
   "source": [
    "for i in data :\n",
    "    print(i)"
   ]
  },
  {
   "cell_type": "code",
   "execution_count": 28,
   "id": "68582e5c",
   "metadata": {},
   "outputs": [],
   "source": [
    "data = c.execute(\"select * from fsds where name = 'Vamsi'\")"
   ]
  },
  {
   "cell_type": "code",
   "execution_count": 29,
   "id": "63addd30",
   "metadata": {},
   "outputs": [
    {
     "name": "stdout",
     "output_type": "stream",
     "text": [
      "('Vamsi', 5636, 674.4)\n",
      "('Vamsi', 5636, 674.4)\n",
      "('Vamsi', 5636, 674.4)\n",
      "('Vamsi', 5636, 674.4)\n",
      "('Vamsi', 5636, 674.4)\n",
      "('Vamsi', 5636, 674.4)\n",
      "('Vamsi', 5636, 674.4)\n",
      "('Vamsi', 5636, 674.4)\n",
      "('Vamsi', 5636, 674.4)\n",
      "('Vamsi', 5636, 674.4)\n",
      "('Vamsi', 5636, 674.4)\n",
      "('Vamsi', 5636, 674.4)\n",
      "('Vamsi', 5636, 674.4)\n",
      "('Vamsi', 5636, 674.4)\n",
      "('Vamsi', 5636, 674.4)\n",
      "('Vamsi', 5636, 674.4)\n",
      "('Vamsi', 5636, 674.4)\n",
      "('Vamsi', 5636, 674.4)\n",
      "('Vamsi', 5636, 674.4)\n",
      "('Vamsi', 5636, 674.4)\n",
      "('Vamsi', 5636, 674.4)\n",
      "('Vamsi', 5636, 674.4)\n"
     ]
    }
   ],
   "source": [
    "for i in data:\n",
    "    print(i)"
   ]
  },
  {
   "cell_type": "code",
   "execution_count": 31,
   "id": "e3b9871b",
   "metadata": {},
   "outputs": [],
   "source": [
    "data = c.execute(\"select name, marks from fsds\")"
   ]
  },
  {
   "cell_type": "code",
   "execution_count": 32,
   "id": "15c1d5c9",
   "metadata": {},
   "outputs": [
    {
     "name": "stdout",
     "output_type": "stream",
     "text": [
      "('Vamsi', 674.4)\n",
      "('Vamsi', 674.4)\n",
      "('Vamsi', 674.4)\n",
      "('Vamsi', 674.4)\n",
      "('Vamsi', 674.4)\n",
      "('Vamsi', 674.4)\n",
      "('Vamsi', 674.4)\n",
      "('Vamsi', 674.4)\n",
      "('Vamsi', 674.4)\n",
      "('Vamsi', 674.4)\n",
      "('Vamsi', 674.4)\n",
      "('Vamsi', 674.4)\n",
      "('Vamsi', 674.4)\n",
      "('Vamsi', 674.4)\n",
      "('Vamsi', 674.4)\n",
      "('Vamsi', 674.4)\n",
      "('Vamsi', 674.4)\n",
      "('Vamsi', 674.4)\n",
      "('Vamsi', 674.4)\n",
      "('Vamsi', 674.4)\n",
      "('Vamsi', 674.4)\n",
      "('Vamsi', 674.4)\n"
     ]
    }
   ],
   "source": [
    "for i in data:\n",
    "    print (i)"
   ]
  },
  {
   "cell_type": "code",
   "execution_count": 33,
   "id": "9b872b45",
   "metadata": {},
   "outputs": [],
   "source": [
    "data = c.execute(\"select name, marks from fsds order by marks\")"
   ]
  },
  {
   "cell_type": "code",
   "execution_count": 34,
   "id": "da04cd62",
   "metadata": {},
   "outputs": [
    {
     "name": "stdout",
     "output_type": "stream",
     "text": [
      "('Vamsi', 674.4)\n",
      "('Vamsi', 674.4)\n",
      "('Vamsi', 674.4)\n",
      "('Vamsi', 674.4)\n",
      "('Vamsi', 674.4)\n",
      "('Vamsi', 674.4)\n",
      "('Vamsi', 674.4)\n",
      "('Vamsi', 674.4)\n",
      "('Vamsi', 674.4)\n",
      "('Vamsi', 674.4)\n",
      "('Vamsi', 674.4)\n",
      "('Vamsi', 674.4)\n",
      "('Vamsi', 674.4)\n",
      "('Vamsi', 674.4)\n",
      "('Vamsi', 674.4)\n",
      "('Vamsi', 674.4)\n",
      "('Vamsi', 674.4)\n",
      "('Vamsi', 674.4)\n",
      "('Vamsi', 674.4)\n",
      "('Vamsi', 674.4)\n",
      "('Vamsi', 674.4)\n",
      "('Vamsi', 674.4)\n"
     ]
    }
   ],
   "source": [
    "for i in data:\n",
    "    print(i)"
   ]
  },
  {
   "cell_type": "code",
   "execution_count": 35,
   "id": "17747749",
   "metadata": {},
   "outputs": [],
   "source": [
    " db.close()"
   ]
  },
  {
   "cell_type": "code",
   "execution_count": 36,
   "id": "b9e26608",
   "metadata": {},
   "outputs": [],
   "source": [
    "db = sqlite3.connect(\"person.db\")"
   ]
  },
  {
   "cell_type": "code",
   "execution_count": 37,
   "id": "e18c3d2f",
   "metadata": {},
   "outputs": [],
   "source": [
    "c = db.cursor()"
   ]
  },
  {
   "cell_type": "code",
   "execution_count": 41,
   "id": "abccbf7a",
   "metadata": {},
   "outputs": [
    {
     "ename": "OperationalError",
     "evalue": "table person_table already exists",
     "output_type": "error",
     "traceback": [
      "\u001b[1;31m---------------------------------------------------------------------------\u001b[0m",
      "\u001b[1;31mOperationalError\u001b[0m                          Traceback (most recent call last)",
      "\u001b[1;32m~\\AppData\\Local\\Temp/ipykernel_6968/2600695378.py\u001b[0m in \u001b[0;36m<module>\u001b[1;34m\u001b[0m\n\u001b[1;32m----> 1\u001b[1;33m \u001b[0mc\u001b[0m\u001b[1;33m.\u001b[0m\u001b[0mexecute\u001b[0m\u001b[1;33m(\u001b[0m\u001b[1;34m\"create table person_table(name text, email text, age int, salary real)\"\u001b[0m\u001b[1;33m)\u001b[0m\u001b[1;33m\u001b[0m\u001b[1;33m\u001b[0m\u001b[0m\n\u001b[0m",
      "\u001b[1;31mOperationalError\u001b[0m: table person_table already exists"
     ]
    }
   ],
   "source": [
    "c.execute(\"create table person_table(name text, email text, age int, salary real)\")"
   ]
  },
  {
   "cell_type": "code",
   "execution_count": 45,
   "id": "60fe8606",
   "metadata": {},
   "outputs": [
    {
     "data": {
      "text/plain": [
       "<sqlite3.Cursor at 0x1e4768cd8f0>"
      ]
     },
     "execution_count": 45,
     "metadata": {},
     "output_type": "execute_result"
    }
   ],
   "source": [
    "c.execute(\"insert into person_table values('Abc', 'abc@gmail.com', 23, 374678)\")\n",
    "c.execute(\"insert into person_table values('Def', 'def@gmail.com', 33, 786545)\")\n",
    "c.execute(\"insert into person_table values('Ghi', 'ghi@gmail.com', 27, 987656)\")\n",
    "c.execute(\"insert into person_table values('Jkl', 'jkl@gmail.com', 23, 374678)\")"
   ]
  },
  {
   "cell_type": "code",
   "execution_count": 47,
   "id": "87c95eaa",
   "metadata": {},
   "outputs": [],
   "source": [
    "data = c.execute(\"select * from person_table\")"
   ]
  },
  {
   "cell_type": "code",
   "execution_count": 48,
   "id": "3dba6f6c",
   "metadata": {},
   "outputs": [
    {
     "name": "stdout",
     "output_type": "stream",
     "text": [
      "('Abc', 'abc@gmail.com', 23, 374678.0)\n",
      "('Def', 'def@gmail.com', 33, 786545.0)\n",
      "('Ghi', 'ghi@gmail.com', 27, 987656.0)\n",
      "('Jkl', 'jkl@gmail.com', 23, 374678.0)\n"
     ]
    }
   ],
   "source": [
    "for i in data:\n",
    "    print(i)"
   ]
  },
  {
   "cell_type": "code",
   "execution_count": 49,
   "id": "726ff67d",
   "metadata": {},
   "outputs": [],
   "source": [
    "db.commit()"
   ]
  },
  {
   "cell_type": "code",
   "execution_count": null,
   "id": "0b2e6f1f",
   "metadata": {
    "collapsed": true
   },
   "outputs": [],
   "source": []
  },
  {
   "cell_type": "code",
   "execution_count": 46,
   "id": "2d27b4dd",
   "metadata": {},
   "outputs": [
    {
     "name": "stdout",
     "output_type": "stream",
     "text": [
      " Volume in drive C has no label.\n",
      " Volume Serial Number is F832-2B0D\n",
      "\n",
      " Directory of C:\\Users\\bvams\\Documents\\FSDS\\FSDS - PYTHON - SQL_Lite\n",
      "\n",
      "08/21/2022  05:23 PM    <DIR>          .\n",
      "08/21/2022  04:18 PM    <DIR>          ..\n",
      "08/21/2022  04:18 PM    <DIR>          .ipynb_checkpoints\n",
      "08/21/2022  04:44 PM             8,192 abcd.db\n",
      "08/21/2022  04:47 PM                 0 Example.db\n",
      "08/21/2022  05:22 PM            14,625 FSDS - PYTHON - SQL_Lite - 20TH FEB.ipynb\n",
      "08/21/2022  05:20 PM             8,192 person.db\n",
      "08/21/2022  05:23 PM                 0 person.db-journal\n",
      "               5 File(s)         31,009 bytes\n",
      "               3 Dir(s)  101,536,800,768 bytes free\n"
     ]
    }
   ],
   "source": [
    "ls"
   ]
  },
  {
   "cell_type": "code",
   "execution_count": null,
   "id": "c454f034",
   "metadata": {},
   "outputs": [],
   "source": []
  }
 ],
 "metadata": {
  "kernelspec": {
   "display_name": "Python 3 (ipykernel)",
   "language": "python",
   "name": "python3"
  },
  "language_info": {
   "codemirror_mode": {
    "name": "ipython",
    "version": 3
   },
   "file_extension": ".py",
   "mimetype": "text/x-python",
   "name": "python",
   "nbconvert_exporter": "python",
   "pygments_lexer": "ipython3",
   "version": "3.9.7"
  }
 },
 "nbformat": 4,
 "nbformat_minor": 5
}
